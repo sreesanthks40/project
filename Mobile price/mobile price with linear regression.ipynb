{
 "cells": [
  {
   "cell_type": "code",
   "execution_count": 1,
   "id": "91108a59",
   "metadata": {},
   "outputs": [],
   "source": [
    "import pandas as pd\n",
    "import numpy as np"
   ]
  },
  {
   "cell_type": "code",
   "execution_count": 2,
   "id": "fc68a986",
   "metadata": {},
   "outputs": [
    {
     "data": {
      "text/html": [
       "<div>\n",
       "<style scoped>\n",
       "    .dataframe tbody tr th:only-of-type {\n",
       "        vertical-align: middle;\n",
       "    }\n",
       "\n",
       "    .dataframe tbody tr th {\n",
       "        vertical-align: top;\n",
       "    }\n",
       "\n",
       "    .dataframe thead th {\n",
       "        text-align: right;\n",
       "    }\n",
       "</style>\n",
       "<table border=\"1\" class=\"dataframe\">\n",
       "  <thead>\n",
       "    <tr style=\"text-align: right;\">\n",
       "      <th></th>\n",
       "      <th>Product_id</th>\n",
       "      <th>Price</th>\n",
       "      <th>Sale</th>\n",
       "      <th>weight</th>\n",
       "      <th>resoloution</th>\n",
       "      <th>ppi</th>\n",
       "      <th>cpu core</th>\n",
       "      <th>cpu freq</th>\n",
       "      <th>internal mem</th>\n",
       "      <th>ram</th>\n",
       "      <th>RearCam</th>\n",
       "      <th>Front_Cam</th>\n",
       "      <th>battery</th>\n",
       "      <th>thickness</th>\n",
       "    </tr>\n",
       "  </thead>\n",
       "  <tbody>\n",
       "    <tr>\n",
       "      <th>0</th>\n",
       "      <td>203</td>\n",
       "      <td>2357</td>\n",
       "      <td>10</td>\n",
       "      <td>135.0</td>\n",
       "      <td>5.20</td>\n",
       "      <td>424</td>\n",
       "      <td>8</td>\n",
       "      <td>1.350</td>\n",
       "      <td>16.0</td>\n",
       "      <td>3.000</td>\n",
       "      <td>13.00</td>\n",
       "      <td>8.0</td>\n",
       "      <td>2610</td>\n",
       "      <td>7.4</td>\n",
       "    </tr>\n",
       "    <tr>\n",
       "      <th>1</th>\n",
       "      <td>880</td>\n",
       "      <td>1749</td>\n",
       "      <td>10</td>\n",
       "      <td>125.0</td>\n",
       "      <td>4.00</td>\n",
       "      <td>233</td>\n",
       "      <td>2</td>\n",
       "      <td>1.300</td>\n",
       "      <td>4.0</td>\n",
       "      <td>1.000</td>\n",
       "      <td>3.15</td>\n",
       "      <td>0.0</td>\n",
       "      <td>1700</td>\n",
       "      <td>9.9</td>\n",
       "    </tr>\n",
       "    <tr>\n",
       "      <th>2</th>\n",
       "      <td>40</td>\n",
       "      <td>1916</td>\n",
       "      <td>10</td>\n",
       "      <td>110.0</td>\n",
       "      <td>4.70</td>\n",
       "      <td>312</td>\n",
       "      <td>4</td>\n",
       "      <td>1.200</td>\n",
       "      <td>8.0</td>\n",
       "      <td>1.500</td>\n",
       "      <td>13.00</td>\n",
       "      <td>5.0</td>\n",
       "      <td>2000</td>\n",
       "      <td>7.6</td>\n",
       "    </tr>\n",
       "    <tr>\n",
       "      <th>3</th>\n",
       "      <td>99</td>\n",
       "      <td>1315</td>\n",
       "      <td>11</td>\n",
       "      <td>118.5</td>\n",
       "      <td>4.00</td>\n",
       "      <td>233</td>\n",
       "      <td>2</td>\n",
       "      <td>1.300</td>\n",
       "      <td>4.0</td>\n",
       "      <td>0.512</td>\n",
       "      <td>3.15</td>\n",
       "      <td>0.0</td>\n",
       "      <td>1400</td>\n",
       "      <td>11.0</td>\n",
       "    </tr>\n",
       "    <tr>\n",
       "      <th>4</th>\n",
       "      <td>880</td>\n",
       "      <td>1749</td>\n",
       "      <td>11</td>\n",
       "      <td>125.0</td>\n",
       "      <td>4.00</td>\n",
       "      <td>233</td>\n",
       "      <td>2</td>\n",
       "      <td>1.300</td>\n",
       "      <td>4.0</td>\n",
       "      <td>1.000</td>\n",
       "      <td>3.15</td>\n",
       "      <td>0.0</td>\n",
       "      <td>1700</td>\n",
       "      <td>9.9</td>\n",
       "    </tr>\n",
       "    <tr>\n",
       "      <th>...</th>\n",
       "      <td>...</td>\n",
       "      <td>...</td>\n",
       "      <td>...</td>\n",
       "      <td>...</td>\n",
       "      <td>...</td>\n",
       "      <td>...</td>\n",
       "      <td>...</td>\n",
       "      <td>...</td>\n",
       "      <td>...</td>\n",
       "      <td>...</td>\n",
       "      <td>...</td>\n",
       "      <td>...</td>\n",
       "      <td>...</td>\n",
       "      <td>...</td>\n",
       "    </tr>\n",
       "    <tr>\n",
       "      <th>156</th>\n",
       "      <td>1206</td>\n",
       "      <td>3551</td>\n",
       "      <td>4638</td>\n",
       "      <td>178.0</td>\n",
       "      <td>5.46</td>\n",
       "      <td>538</td>\n",
       "      <td>4</td>\n",
       "      <td>1.875</td>\n",
       "      <td>128.0</td>\n",
       "      <td>6.000</td>\n",
       "      <td>12.00</td>\n",
       "      <td>16.0</td>\n",
       "      <td>4080</td>\n",
       "      <td>8.4</td>\n",
       "    </tr>\n",
       "    <tr>\n",
       "      <th>157</th>\n",
       "      <td>1296</td>\n",
       "      <td>3211</td>\n",
       "      <td>8016</td>\n",
       "      <td>170.0</td>\n",
       "      <td>5.50</td>\n",
       "      <td>534</td>\n",
       "      <td>4</td>\n",
       "      <td>1.975</td>\n",
       "      <td>128.0</td>\n",
       "      <td>6.000</td>\n",
       "      <td>20.00</td>\n",
       "      <td>8.0</td>\n",
       "      <td>3400</td>\n",
       "      <td>7.9</td>\n",
       "    </tr>\n",
       "    <tr>\n",
       "      <th>158</th>\n",
       "      <td>856</td>\n",
       "      <td>3260</td>\n",
       "      <td>8809</td>\n",
       "      <td>150.0</td>\n",
       "      <td>5.50</td>\n",
       "      <td>401</td>\n",
       "      <td>8</td>\n",
       "      <td>2.200</td>\n",
       "      <td>64.0</td>\n",
       "      <td>4.000</td>\n",
       "      <td>20.00</td>\n",
       "      <td>20.0</td>\n",
       "      <td>3000</td>\n",
       "      <td>6.8</td>\n",
       "    </tr>\n",
       "    <tr>\n",
       "      <th>159</th>\n",
       "      <td>1296</td>\n",
       "      <td>3211</td>\n",
       "      <td>8946</td>\n",
       "      <td>170.0</td>\n",
       "      <td>5.50</td>\n",
       "      <td>534</td>\n",
       "      <td>4</td>\n",
       "      <td>1.975</td>\n",
       "      <td>128.0</td>\n",
       "      <td>6.000</td>\n",
       "      <td>20.00</td>\n",
       "      <td>8.0</td>\n",
       "      <td>3400</td>\n",
       "      <td>7.9</td>\n",
       "    </tr>\n",
       "    <tr>\n",
       "      <th>160</th>\n",
       "      <td>1131</td>\n",
       "      <td>2536</td>\n",
       "      <td>9807</td>\n",
       "      <td>202.0</td>\n",
       "      <td>6.00</td>\n",
       "      <td>367</td>\n",
       "      <td>8</td>\n",
       "      <td>1.500</td>\n",
       "      <td>16.0</td>\n",
       "      <td>3.000</td>\n",
       "      <td>21.50</td>\n",
       "      <td>16.0</td>\n",
       "      <td>2700</td>\n",
       "      <td>8.4</td>\n",
       "    </tr>\n",
       "  </tbody>\n",
       "</table>\n",
       "<p>161 rows × 14 columns</p>\n",
       "</div>"
      ],
      "text/plain": [
       "     Product_id  Price  Sale  weight  resoloution  ppi  cpu core  cpu freq  \\\n",
       "0           203   2357    10   135.0         5.20  424         8     1.350   \n",
       "1           880   1749    10   125.0         4.00  233         2     1.300   \n",
       "2            40   1916    10   110.0         4.70  312         4     1.200   \n",
       "3            99   1315    11   118.5         4.00  233         2     1.300   \n",
       "4           880   1749    11   125.0         4.00  233         2     1.300   \n",
       "..          ...    ...   ...     ...          ...  ...       ...       ...   \n",
       "156        1206   3551  4638   178.0         5.46  538         4     1.875   \n",
       "157        1296   3211  8016   170.0         5.50  534         4     1.975   \n",
       "158         856   3260  8809   150.0         5.50  401         8     2.200   \n",
       "159        1296   3211  8946   170.0         5.50  534         4     1.975   \n",
       "160        1131   2536  9807   202.0         6.00  367         8     1.500   \n",
       "\n",
       "     internal mem    ram  RearCam  Front_Cam  battery  thickness  \n",
       "0            16.0  3.000    13.00        8.0     2610        7.4  \n",
       "1             4.0  1.000     3.15        0.0     1700        9.9  \n",
       "2             8.0  1.500    13.00        5.0     2000        7.6  \n",
       "3             4.0  0.512     3.15        0.0     1400       11.0  \n",
       "4             4.0  1.000     3.15        0.0     1700        9.9  \n",
       "..            ...    ...      ...        ...      ...        ...  \n",
       "156         128.0  6.000    12.00       16.0     4080        8.4  \n",
       "157         128.0  6.000    20.00        8.0     3400        7.9  \n",
       "158          64.0  4.000    20.00       20.0     3000        6.8  \n",
       "159         128.0  6.000    20.00        8.0     3400        7.9  \n",
       "160          16.0  3.000    21.50       16.0     2700        8.4  \n",
       "\n",
       "[161 rows x 14 columns]"
      ]
     },
     "execution_count": 2,
     "metadata": {},
     "output_type": "execute_result"
    }
   ],
   "source": [
    "df=pd.read_csv('Cellphone.csv')\n",
    "df"
   ]
  },
  {
   "cell_type": "code",
   "execution_count": 3,
   "id": "fe461625",
   "metadata": {},
   "outputs": [
    {
     "name": "stdout",
     "output_type": "stream",
     "text": [
      "<class 'pandas.core.frame.DataFrame'>\n",
      "RangeIndex: 161 entries, 0 to 160\n",
      "Data columns (total 14 columns):\n",
      " #   Column        Non-Null Count  Dtype  \n",
      "---  ------        --------------  -----  \n",
      " 0   Product_id    161 non-null    int64  \n",
      " 1   Price         161 non-null    int64  \n",
      " 2   Sale          161 non-null    int64  \n",
      " 3   weight        161 non-null    float64\n",
      " 4   resoloution   161 non-null    float64\n",
      " 5   ppi           161 non-null    int64  \n",
      " 6   cpu core      161 non-null    int64  \n",
      " 7   cpu freq      161 non-null    float64\n",
      " 8   internal mem  161 non-null    float64\n",
      " 9   ram           161 non-null    float64\n",
      " 10  RearCam       161 non-null    float64\n",
      " 11  Front_Cam     161 non-null    float64\n",
      " 12  battery       161 non-null    int64  \n",
      " 13  thickness     161 non-null    float64\n",
      "dtypes: float64(8), int64(6)\n",
      "memory usage: 17.7 KB\n"
     ]
    }
   ],
   "source": [
    "df.info()"
   ]
  },
  {
   "cell_type": "code",
   "execution_count": 4,
   "id": "392344b1",
   "metadata": {},
   "outputs": [
    {
     "data": {
      "text/html": [
       "<div>\n",
       "<style scoped>\n",
       "    .dataframe tbody tr th:only-of-type {\n",
       "        vertical-align: middle;\n",
       "    }\n",
       "\n",
       "    .dataframe tbody tr th {\n",
       "        vertical-align: top;\n",
       "    }\n",
       "\n",
       "    .dataframe thead th {\n",
       "        text-align: right;\n",
       "    }\n",
       "</style>\n",
       "<table border=\"1\" class=\"dataframe\">\n",
       "  <thead>\n",
       "    <tr style=\"text-align: right;\">\n",
       "      <th></th>\n",
       "      <th>Product_id</th>\n",
       "      <th>Price</th>\n",
       "      <th>Sale</th>\n",
       "      <th>weight</th>\n",
       "      <th>resoloution</th>\n",
       "      <th>ppi</th>\n",
       "      <th>cpu core</th>\n",
       "      <th>cpu freq</th>\n",
       "      <th>internal mem</th>\n",
       "      <th>ram</th>\n",
       "      <th>RearCam</th>\n",
       "      <th>Front_Cam</th>\n",
       "      <th>battery</th>\n",
       "      <th>thickness</th>\n",
       "    </tr>\n",
       "  </thead>\n",
       "  <tbody>\n",
       "    <tr>\n",
       "      <th>count</th>\n",
       "      <td>161.000000</td>\n",
       "      <td>161.000000</td>\n",
       "      <td>161.000000</td>\n",
       "      <td>161.000000</td>\n",
       "      <td>161.000000</td>\n",
       "      <td>161.000000</td>\n",
       "      <td>161.000000</td>\n",
       "      <td>161.000000</td>\n",
       "      <td>161.000000</td>\n",
       "      <td>161.000000</td>\n",
       "      <td>161.000000</td>\n",
       "      <td>161.000000</td>\n",
       "      <td>161.000000</td>\n",
       "      <td>161.000000</td>\n",
       "    </tr>\n",
       "    <tr>\n",
       "      <th>mean</th>\n",
       "      <td>675.559006</td>\n",
       "      <td>2215.596273</td>\n",
       "      <td>621.465839</td>\n",
       "      <td>170.426087</td>\n",
       "      <td>5.209938</td>\n",
       "      <td>335.055901</td>\n",
       "      <td>4.857143</td>\n",
       "      <td>1.502832</td>\n",
       "      <td>24.501714</td>\n",
       "      <td>2.204994</td>\n",
       "      <td>10.378261</td>\n",
       "      <td>4.503106</td>\n",
       "      <td>2842.111801</td>\n",
       "      <td>8.921739</td>\n",
       "    </tr>\n",
       "    <tr>\n",
       "      <th>std</th>\n",
       "      <td>410.851583</td>\n",
       "      <td>768.187171</td>\n",
       "      <td>1546.618517</td>\n",
       "      <td>92.888612</td>\n",
       "      <td>1.509953</td>\n",
       "      <td>134.826659</td>\n",
       "      <td>2.444016</td>\n",
       "      <td>0.599783</td>\n",
       "      <td>28.804773</td>\n",
       "      <td>1.609831</td>\n",
       "      <td>6.181585</td>\n",
       "      <td>4.342053</td>\n",
       "      <td>1366.990838</td>\n",
       "      <td>2.192564</td>\n",
       "    </tr>\n",
       "    <tr>\n",
       "      <th>min</th>\n",
       "      <td>10.000000</td>\n",
       "      <td>614.000000</td>\n",
       "      <td>10.000000</td>\n",
       "      <td>66.000000</td>\n",
       "      <td>1.400000</td>\n",
       "      <td>121.000000</td>\n",
       "      <td>0.000000</td>\n",
       "      <td>0.000000</td>\n",
       "      <td>0.000000</td>\n",
       "      <td>0.000000</td>\n",
       "      <td>0.000000</td>\n",
       "      <td>0.000000</td>\n",
       "      <td>800.000000</td>\n",
       "      <td>5.100000</td>\n",
       "    </tr>\n",
       "    <tr>\n",
       "      <th>25%</th>\n",
       "      <td>237.000000</td>\n",
       "      <td>1734.000000</td>\n",
       "      <td>37.000000</td>\n",
       "      <td>134.100000</td>\n",
       "      <td>4.800000</td>\n",
       "      <td>233.000000</td>\n",
       "      <td>4.000000</td>\n",
       "      <td>1.200000</td>\n",
       "      <td>8.000000</td>\n",
       "      <td>1.000000</td>\n",
       "      <td>5.000000</td>\n",
       "      <td>0.000000</td>\n",
       "      <td>2040.000000</td>\n",
       "      <td>7.600000</td>\n",
       "    </tr>\n",
       "    <tr>\n",
       "      <th>50%</th>\n",
       "      <td>774.000000</td>\n",
       "      <td>2258.000000</td>\n",
       "      <td>106.000000</td>\n",
       "      <td>153.000000</td>\n",
       "      <td>5.150000</td>\n",
       "      <td>294.000000</td>\n",
       "      <td>4.000000</td>\n",
       "      <td>1.400000</td>\n",
       "      <td>16.000000</td>\n",
       "      <td>2.000000</td>\n",
       "      <td>12.000000</td>\n",
       "      <td>5.000000</td>\n",
       "      <td>2800.000000</td>\n",
       "      <td>8.400000</td>\n",
       "    </tr>\n",
       "    <tr>\n",
       "      <th>75%</th>\n",
       "      <td>1026.000000</td>\n",
       "      <td>2744.000000</td>\n",
       "      <td>382.000000</td>\n",
       "      <td>170.000000</td>\n",
       "      <td>5.500000</td>\n",
       "      <td>428.000000</td>\n",
       "      <td>8.000000</td>\n",
       "      <td>1.875000</td>\n",
       "      <td>32.000000</td>\n",
       "      <td>3.000000</td>\n",
       "      <td>16.000000</td>\n",
       "      <td>8.000000</td>\n",
       "      <td>3240.000000</td>\n",
       "      <td>9.800000</td>\n",
       "    </tr>\n",
       "    <tr>\n",
       "      <th>max</th>\n",
       "      <td>1339.000000</td>\n",
       "      <td>4361.000000</td>\n",
       "      <td>9807.000000</td>\n",
       "      <td>753.000000</td>\n",
       "      <td>12.200000</td>\n",
       "      <td>806.000000</td>\n",
       "      <td>8.000000</td>\n",
       "      <td>2.700000</td>\n",
       "      <td>128.000000</td>\n",
       "      <td>6.000000</td>\n",
       "      <td>23.000000</td>\n",
       "      <td>20.000000</td>\n",
       "      <td>9500.000000</td>\n",
       "      <td>18.500000</td>\n",
       "    </tr>\n",
       "  </tbody>\n",
       "</table>\n",
       "</div>"
      ],
      "text/plain": [
       "        Product_id        Price         Sale      weight  resoloution  \\\n",
       "count   161.000000   161.000000   161.000000  161.000000   161.000000   \n",
       "mean    675.559006  2215.596273   621.465839  170.426087     5.209938   \n",
       "std     410.851583   768.187171  1546.618517   92.888612     1.509953   \n",
       "min      10.000000   614.000000    10.000000   66.000000     1.400000   \n",
       "25%     237.000000  1734.000000    37.000000  134.100000     4.800000   \n",
       "50%     774.000000  2258.000000   106.000000  153.000000     5.150000   \n",
       "75%    1026.000000  2744.000000   382.000000  170.000000     5.500000   \n",
       "max    1339.000000  4361.000000  9807.000000  753.000000    12.200000   \n",
       "\n",
       "              ppi    cpu core    cpu freq  internal mem         ram  \\\n",
       "count  161.000000  161.000000  161.000000    161.000000  161.000000   \n",
       "mean   335.055901    4.857143    1.502832     24.501714    2.204994   \n",
       "std    134.826659    2.444016    0.599783     28.804773    1.609831   \n",
       "min    121.000000    0.000000    0.000000      0.000000    0.000000   \n",
       "25%    233.000000    4.000000    1.200000      8.000000    1.000000   \n",
       "50%    294.000000    4.000000    1.400000     16.000000    2.000000   \n",
       "75%    428.000000    8.000000    1.875000     32.000000    3.000000   \n",
       "max    806.000000    8.000000    2.700000    128.000000    6.000000   \n",
       "\n",
       "          RearCam   Front_Cam      battery   thickness  \n",
       "count  161.000000  161.000000   161.000000  161.000000  \n",
       "mean    10.378261    4.503106  2842.111801    8.921739  \n",
       "std      6.181585    4.342053  1366.990838    2.192564  \n",
       "min      0.000000    0.000000   800.000000    5.100000  \n",
       "25%      5.000000    0.000000  2040.000000    7.600000  \n",
       "50%     12.000000    5.000000  2800.000000    8.400000  \n",
       "75%     16.000000    8.000000  3240.000000    9.800000  \n",
       "max     23.000000   20.000000  9500.000000   18.500000  "
      ]
     },
     "execution_count": 4,
     "metadata": {},
     "output_type": "execute_result"
    }
   ],
   "source": [
    "df.describe()"
   ]
  },
  {
   "cell_type": "code",
   "execution_count": 5,
   "id": "b5a7e3dd",
   "metadata": {},
   "outputs": [
    {
     "data": {
      "text/plain": [
       "(161, 14)"
      ]
     },
     "execution_count": 5,
     "metadata": {},
     "output_type": "execute_result"
    }
   ],
   "source": [
    "df.shape"
   ]
  },
  {
   "cell_type": "code",
   "execution_count": 6,
   "id": "13f71fc1",
   "metadata": {},
   "outputs": [
    {
     "data": {
      "text/plain": [
       "Product_id      0.0\n",
       "Price           0.0\n",
       "Sale            0.0\n",
       "weight          0.0\n",
       "resoloution     0.0\n",
       "ppi             0.0\n",
       "cpu core        0.0\n",
       "cpu freq        0.0\n",
       "internal mem    0.0\n",
       "ram             0.0\n",
       "RearCam         0.0\n",
       "Front_Cam       0.0\n",
       "battery         0.0\n",
       "thickness       0.0\n",
       "dtype: float64"
      ]
     },
     "execution_count": 6,
     "metadata": {},
     "output_type": "execute_result"
    }
   ],
   "source": [
    "pd.set_option('display.max_row()',None)\n",
    "df.isnull().sum()*100/len(df)"
   ]
  },
  {
   "cell_type": "code",
   "execution_count": 7,
   "id": "5b9431bc",
   "metadata": {},
   "outputs": [
    {
     "data": {
      "text/plain": [
       "Index(['Product_id', 'Price', 'Sale', 'weight', 'resoloution', 'ppi',\n",
       "       'cpu core', 'cpu freq', 'internal mem', 'ram', 'RearCam', 'Front_Cam',\n",
       "       'battery', 'thickness'],\n",
       "      dtype='object')"
      ]
     },
     "execution_count": 7,
     "metadata": {},
     "output_type": "execute_result"
    }
   ],
   "source": [
    "df.columns"
   ]
  },
  {
   "cell_type": "code",
   "execution_count": 8,
   "id": "4cf0b3d4",
   "metadata": {},
   "outputs": [],
   "source": [
    "df=df.rename({'cpu core':'cpu_core','cpu freq':'cpu_freq','internal mem':'internal_mem'},axis=1)"
   ]
  },
  {
   "cell_type": "code",
   "execution_count": 9,
   "id": "40b20d90",
   "metadata": {},
   "outputs": [
    {
     "data": {
      "text/plain": [
       "Index(['Product_id', 'Price', 'Sale', 'weight', 'resoloution', 'ppi',\n",
       "       'cpu_core', 'cpu_freq', 'internal_mem', 'ram', 'RearCam', 'Front_Cam',\n",
       "       'battery', 'thickness'],\n",
       "      dtype='object')"
      ]
     },
     "execution_count": 9,
     "metadata": {},
     "output_type": "execute_result"
    }
   ],
   "source": [
    "df.columns"
   ]
  },
  {
   "cell_type": "markdown",
   "id": "e0a997c4",
   "metadata": {},
   "source": [
    "# Price"
   ]
  },
  {
   "cell_type": "code",
   "execution_count": 10,
   "id": "85b9e55f",
   "metadata": {},
   "outputs": [
    {
     "data": {
      "text/plain": [
       "2744    4\n",
       "1734    4\n",
       "1831    2\n",
       "1676    2\n",
       "833     2\n",
       "2343    2\n",
       "1522    2\n",
       "2562    2\n",
       "1511    2\n",
       "1810    2\n",
       "2571    2\n",
       "754     2\n",
       "1302    2\n",
       "1646    2\n",
       "3837    2\n",
       "791     2\n",
       "3005    2\n",
       "2714    2\n",
       "1396    2\n",
       "2858    2\n",
       "2975    2\n",
       "3116    2\n",
       "2880    2\n",
       "3055    2\n",
       "3102    2\n",
       "1921    2\n",
       "2508    2\n",
       "628     2\n",
       "2409    2\n",
       "2445    2\n",
       "2266    2\n",
       "1357    2\n",
       "2466    2\n",
       "2491    2\n",
       "705     2\n",
       "2001    2\n",
       "2054    2\n",
       "3287    2\n",
       "1749    2\n",
       "2276    2\n",
       "4361    2\n",
       "2044    2\n",
       "1390    2\n",
       "1942    2\n",
       "2977    2\n",
       "2392    2\n",
       "2938    2\n",
       "2258    2\n",
       "1612    2\n",
       "3551    2\n",
       "2006    2\n",
       "2438    2\n",
       "2580    2\n",
       "1238    2\n",
       "2137    2\n",
       "1315    2\n",
       "3211    2\n",
       "2536    2\n",
       "3316    2\n",
       "2654    2\n",
       "1741    2\n",
       "2323    2\n",
       "2746    2\n",
       "2824    2\n",
       "1984    2\n",
       "3658    2\n",
       "1347    2\n",
       "2685    2\n",
       "1421    2\n",
       "1989    2\n",
       "2859    2\n",
       "1843    2\n",
       "2087    2\n",
       "1777    2\n",
       "2124    2\n",
       "614     2\n",
       "2357    1\n",
       "1950    1\n",
       "2174    1\n",
       "1916    1\n",
       "3260    1\n",
       "Name: Price, dtype: int64"
      ]
     },
     "execution_count": 10,
     "metadata": {},
     "output_type": "execute_result"
    }
   ],
   "source": [
    "df.Price.value_counts()"
   ]
  },
  {
   "cell_type": "code",
   "execution_count": 11,
   "id": "173cd249",
   "metadata": {},
   "outputs": [
    {
     "name": "stderr",
     "output_type": "stream",
     "text": [
      "C:\\Users\\91807\\anaconda3\\lib\\site-packages\\seaborn\\_decorators.py:36: FutureWarning: Pass the following variable as a keyword arg: x. From version 0.12, the only valid positional argument will be `data`, and passing other arguments without an explicit keyword will result in an error or misinterpretation.\n",
      "  warnings.warn(\n"
     ]
    },
    {
     "data": {
      "text/plain": [
       "<AxesSubplot:xlabel='Price'>"
      ]
     },
     "execution_count": 11,
     "metadata": {},
     "output_type": "execute_result"
    },
    {
     "data": {
      "image/png": "[encoded data removed]",
      "text/plain": [
       "<Figure size 432x288 with 1 Axes>"
      ]
     },
     "metadata": {
      "needs_background": "light"
     },
     "output_type": "display_data"
    }
   ],
   "source": [
    "import seaborn as sns\n",
    "sns.boxplot(df.Price)"
   ]
  },
  {
   "cell_type": "code",
   "execution_count": 12,
   "id": "d0dabda7",
   "metadata": {},
   "outputs": [
    {
     "name": "stderr",
     "output_type": "stream",
     "text": [
      "C:\\Users\\91807\\anaconda3\\lib\\site-packages\\seaborn\\distributions.py:2619: FutureWarning: `distplot` is a deprecated function and will be removed in a future version. Please adapt your code to use either `displot` (a figure-level function with similar flexibility) or `histplot` (an axes-level function for histograms).\n",
      "  warnings.warn(msg, FutureWarning)\n"
     ]
    },
    {
     "data": {
      "text/plain": [
       "<AxesSubplot:xlabel='Price', ylabel='Density'>"
      ]
     },
     "execution_count": 12,
     "metadata": {},
     "output_type": "execute_result"
    },
    {
     "data": {
      "image/png": "[encoded data removed]",
      "text/plain": [
       "<Figure size 432x288 with 1 Axes>"
      ]
     },
     "metadata": {
      "needs_background": "light"
     },
     "output_type": "display_data"
    }
   ],
   "source": [
    "sns.distplot(df.Price)"
   ]
  },
  {
   "cell_type": "code",
   "execution_count": 13,
   "id": "263a4022",
   "metadata": {},
   "outputs": [
    {
     "data": {
      "text/plain": [
       "Index(['Product_id', 'Price', 'Sale', 'weight', 'resoloution', 'ppi',\n",
       "       'cpu_core', 'cpu_freq', 'internal_mem', 'ram', 'RearCam', 'Front_Cam',\n",
       "       'battery', 'thickness'],\n",
       "      dtype='object')"
      ]
     },
     "execution_count": 13,
     "metadata": {},
     "output_type": "execute_result"
    }
   ],
   "source": [
    "df.columns"
   ]
  },
  {
   "cell_type": "markdown",
   "id": "cf138881",
   "metadata": {},
   "source": [
    "# Product_id"
   ]
  },
  {
   "cell_type": "code",
   "execution_count": 14,
   "id": "aed4f11b",
   "metadata": {},
   "outputs": [
    {
     "data": {
      "text/plain": [
       "66      2\n",
       "1062    2\n",
       "832     2\n",
       "133     2\n",
       "827     2\n",
       "1080    2\n",
       "183     2\n",
       "1143    2\n",
       "841     2\n",
       "131     2\n",
       "64      2\n",
       "763     2\n",
       "237     2\n",
       "1216    2\n",
       "1026    2\n",
       "1011    2\n",
       "1221    2\n",
       "880     2\n",
       "637     2\n",
       "30      2\n",
       "290     2\n",
       "497     2\n",
       "851     2\n",
       "1137    2\n",
       "32      2\n",
       "1161    2\n",
       "701     2\n",
       "377     2\n",
       "301     2\n",
       "1089    2\n",
       "409     2\n",
       "696     2\n",
       "1112    2\n",
       "1198    2\n",
       "1327    2\n",
       "460     2\n",
       "798     2\n",
       "143     2\n",
       "937     2\n",
       "857     2\n",
       "14      2\n",
       "1058    2\n",
       "776     2\n",
       "104     2\n",
       "990     2\n",
       "860     2\n",
       "315     2\n",
       "187     2\n",
       "1120    2\n",
       "1206    2\n",
       "198     2\n",
       "605     2\n",
       "289     2\n",
       "1103    2\n",
       "774     2\n",
       "947     2\n",
       "99      2\n",
       "1296    2\n",
       "1131    2\n",
       "1145    2\n",
       "1020    2\n",
       "1339    2\n",
       "56      2\n",
       "218     2\n",
       "577     2\n",
       "563     2\n",
       "93      2\n",
       "1248    2\n",
       "43      2\n",
       "804     2\n",
       "738     2\n",
       "739     2\n",
       "974     2\n",
       "162     2\n",
       "907     2\n",
       "575     2\n",
       "662     2\n",
       "826     2\n",
       "203     1\n",
       "10      1\n",
       "622     1\n",
       "40      1\n",
       "856     1\n",
       "Name: Product_id, dtype: int64"
      ]
     },
     "execution_count": 14,
     "metadata": {},
     "output_type": "execute_result"
    }
   ],
   "source": [
    "df.Product_id.value_counts()"
   ]
  },
  {
   "cell_type": "code",
   "execution_count": 15,
   "id": "bc341065",
   "metadata": {},
   "outputs": [
    {
     "name": "stderr",
     "output_type": "stream",
     "text": [
      "C:\\Users\\91807\\anaconda3\\lib\\site-packages\\seaborn\\_decorators.py:36: FutureWarning: Pass the following variable as a keyword arg: x. From version 0.12, the only valid positional argument will be `data`, and passing other arguments without an explicit keyword will result in an error or misinterpretation.\n",
      "  warnings.warn(\n"
     ]
    },
    {
     "data": {
      "text/plain": [
       "<AxesSubplot:xlabel='Product_id'>"
      ]
     },
     "execution_count": 15,
     "metadata": {},
     "output_type": "execute_result"
    },
    {
     "data": {
      "image/png": "[encoded data removed]",
      "text/plain": [
       "<Figure size 432x288 with 1 Axes>"
      ]
     },
     "metadata": {
      "needs_background": "light"
     },
     "output_type": "display_data"
    }
   ],
   "source": [
    "sns.boxplot(df.Product_id)"
   ]
  },
  {
   "cell_type": "code",
   "execution_count": 16,
   "id": "355de27e",
   "metadata": {},
   "outputs": [
    {
     "name": "stderr",
     "output_type": "stream",
     "text": [
      "C:\\Users\\91807\\anaconda3\\lib\\site-packages\\seaborn\\distributions.py:2619: FutureWarning: `distplot` is a deprecated function and will be removed in a future version. Please adapt your code to use either `displot` (a figure-level function with similar flexibility) or `histplot` (an axes-level function for histograms).\n",
      "  warnings.warn(msg, FutureWarning)\n"
     ]
    },
    {
     "data": {
      "text/plain": [
       "<AxesSubplot:xlabel='Product_id', ylabel='Density'>"
      ]
     },
     "execution_count": 16,
     "metadata": {},
     "output_type": "execute_result"
    },
    {
     "data": {
      "image/png": "[encoded data removed]",
      "text/plain": [
       "<Figure size 432x288 with 1 Axes>"
      ]
     },
     "metadata": {
      "needs_background": "light"
     },
     "output_type": "display_data"
    }
   ],
   "source": [
    "sns.distplot(df.Product_id)"
   ]
  },
  {
   "cell_type": "code",
   "execution_count": 17,
   "id": "464f7256",
   "metadata": {},
   "outputs": [
    {
     "data": {
      "text/plain": [
       "Index(['Product_id', 'Price', 'Sale', 'weight', 'resoloution', 'ppi',\n",
       "       'cpu_core', 'cpu_freq', 'internal_mem', 'ram', 'RearCam', 'Front_Cam',\n",
       "       'battery', 'thickness'],\n",
       "      dtype='object')"
      ]
     },
     "execution_count": 17,
     "metadata": {},
     "output_type": "execute_result"
    }
   ],
   "source": [
    "df.columns"
   ]
  },
  {
   "cell_type": "markdown",
   "id": "9e5b252d",
   "metadata": {},
   "source": [
    "# Sale"
   ]
  },
  {
   "cell_type": "code",
   "execution_count": 18,
   "id": "ea0460a7",
   "metadata": {},
   "outputs": [
    {
     "data": {
      "text/plain": [
       "16      5\n",
       "40      4\n",
       "26      4\n",
       "10      3\n",
       "57      3\n",
       "45      3\n",
       "43      3\n",
       "24      3\n",
       "11      2\n",
       "101     2\n",
       "106     2\n",
       "87      2\n",
       "114     2\n",
       "41      2\n",
       "164     2\n",
       "36      2\n",
       "37      2\n",
       "17      2\n",
       "198     2\n",
       "25      2\n",
       "13      2\n",
       "22      2\n",
       "309     2\n",
       "19      2\n",
       "423     1\n",
       "302     1\n",
       "523     1\n",
       "307     1\n",
       "499     1\n",
       "456     1\n",
       "455     1\n",
       "308     1\n",
       "427     1\n",
       "373     1\n",
       "418     1\n",
       "399     1\n",
       "378     1\n",
       "393     1\n",
       "385     1\n",
       "344     1\n",
       "367     1\n",
       "567     1\n",
       "382     1\n",
       "564     1\n",
       "1224    1\n",
       "599     1\n",
       "615     1\n",
       "8946    1\n",
       "8809    1\n",
       "8016    1\n",
       "4638    1\n",
       "4408    1\n",
       "3619    1\n",
       "3291    1\n",
       "3248    1\n",
       "2173    1\n",
       "2171    1\n",
       "2159    1\n",
       "2106    1\n",
       "2088    1\n",
       "2071    1\n",
       "1862    1\n",
       "1781    1\n",
       "1584    1\n",
       "1530    1\n",
       "1274    1\n",
       "285     1\n",
       "1043    1\n",
       "1009    1\n",
       "996     1\n",
       "678     1\n",
       "616     1\n",
       "299     1\n",
       "178     1\n",
       "268     1\n",
       "38      1\n",
       "82      1\n",
       "75      1\n",
       "73      1\n",
       "72      1\n",
       "71      1\n",
       "67      1\n",
       "66      1\n",
       "58      1\n",
       "52      1\n",
       "42      1\n",
       "35      1\n",
       "91      1\n",
       "34      1\n",
       "32      1\n",
       "31      1\n",
       "30      1\n",
       "23      1\n",
       "21      1\n",
       "20      1\n",
       "15      1\n",
       "14      1\n",
       "12      1\n",
       "89      1\n",
       "93      1\n",
       "256     1\n",
       "143     1\n",
       "214     1\n",
       "213     1\n",
       "208     1\n",
       "206     1\n",
       "204     1\n",
       "201     1\n",
       "187     1\n",
       "179     1\n",
       "166     1\n",
       "156     1\n",
       "141     1\n",
       "94      1\n",
       "140     1\n",
       "121     1\n",
       "119     1\n",
       "113     1\n",
       "111     1\n",
       "109     1\n",
       "103     1\n",
       "100     1\n",
       "98      1\n",
       "96      1\n",
       "9807    1\n",
       "Name: Sale, dtype: int64"
      ]
     },
     "execution_count": 18,
     "metadata": {},
     "output_type": "execute_result"
    }
   ],
   "source": [
    "df.Sale.value_counts()"
   ]
  },
  {
   "cell_type": "code",
   "execution_count": 19,
   "id": "02069e44",
   "metadata": {},
   "outputs": [
    {
     "name": "stderr",
     "output_type": "stream",
     "text": [
      "C:\\Users\\91807\\anaconda3\\lib\\site-packages\\seaborn\\_decorators.py:36: FutureWarning: Pass the following variable as a keyword arg: x. From version 0.12, the only valid positional argument will be `data`, and passing other arguments without an explicit keyword will result in an error or misinterpretation.\n",
      "  warnings.warn(\n"
     ]
    },
    {
     "data": {
      "text/plain": [
       "<AxesSubplot:xlabel='Sale'>"
      ]
     },
     "execution_count": 19,
     "metadata": {},
     "output_type": "execute_result"
    },
    {
     "data": {
      "image/png": "[encoded data removed]",
      "text/plain": [
       "<Figure size 432x288 with 1 Axes>"
      ]
     },
     "metadata": {
      "needs_background": "light"
     },
     "output_type": "display_data"
    }
   ],
   "source": [
    "sns.boxplot(df.Sale)"
   ]
  },
  {
   "cell_type": "code",
   "execution_count": 20,
   "id": "a6734e8c",
   "metadata": {},
   "outputs": [],
   "source": [
    "from scipy import stats"
   ]
  },
  {
   "cell_type": "code",
   "execution_count": 21,
   "id": "bd4ec259",
   "metadata": {},
   "outputs": [
    {
     "data": {
      "text/plain": [
       "345.0"
      ]
     },
     "execution_count": 21,
     "metadata": {},
     "output_type": "execute_result"
    }
   ],
   "source": [
    "iqr=stats.iqr(df.Sale)\n",
    "iqr"
   ]
  },
  {
   "cell_type": "code",
   "execution_count": 22,
   "id": "330bc8f5",
   "metadata": {},
   "outputs": [
    {
     "data": {
      "text/plain": [
       "382.0"
      ]
     },
     "execution_count": 22,
     "metadata": {},
     "output_type": "execute_result"
    }
   ],
   "source": [
    "q3=df.Sale.quantile(0.75)\n",
    "q3"
   ]
  },
  {
   "cell_type": "code",
   "execution_count": 23,
   "id": "9b831203",
   "metadata": {},
   "outputs": [
    {
     "data": {
      "text/plain": [
       "37.0"
      ]
     },
     "execution_count": 23,
     "metadata": {},
     "output_type": "execute_result"
    }
   ],
   "source": [
    "q1=df.Sale.quantile(0.25)\n",
    "q1"
   ]
  },
  {
   "cell_type": "code",
   "execution_count": 24,
   "id": "934c4b63",
   "metadata": {},
   "outputs": [
    {
     "data": {
      "text/plain": [
       "-480.5"
      ]
     },
     "execution_count": 24,
     "metadata": {},
     "output_type": "execute_result"
    }
   ],
   "source": [
    "lower = q1-(1.5*iqr)\n",
    "lower"
   ]
  },
  {
   "cell_type": "code",
   "execution_count": 25,
   "id": "1b7c351f",
   "metadata": {},
   "outputs": [
    {
     "data": {
      "text/plain": [
       "899.5"
      ]
     },
     "execution_count": 25,
     "metadata": {},
     "output_type": "execute_result"
    }
   ],
   "source": [
    "upper = q3+(1.5*iqr)\n",
    "upper"
   ]
  },
  {
   "cell_type": "code",
   "execution_count": 26,
   "id": "8b8b208b",
   "metadata": {},
   "outputs": [],
   "source": [
    "df.Sale = np.where(df.Sale>upper, upper, df.Sale)\n",
    "df.Sale = np.where(df.Sale<lower,lower,df.Sale)"
   ]
  },
  {
   "cell_type": "code",
   "execution_count": 27,
   "id": "c4a37401",
   "metadata": {},
   "outputs": [
    {
     "name": "stderr",
     "output_type": "stream",
     "text": [
      "C:\\Users\\91807\\anaconda3\\lib\\site-packages\\seaborn\\_decorators.py:36: FutureWarning: Pass the following variable as a keyword arg: x. From version 0.12, the only valid positional argument will be `data`, and passing other arguments without an explicit keyword will result in an error or misinterpretation.\n",
      "  warnings.warn(\n"
     ]
    },
    {
     "data": {
      "text/plain": [
       "<AxesSubplot:xlabel='Sale'>"
      ]
     },
     "execution_count": 27,
     "metadata": {},
     "output_type": "execute_result"
    },
    {
     "data": {
      "image/png": "[encoded data removed]",
      "text/plain": [
       "<Figure size 432x288 with 1 Axes>"
      ]
     },
     "metadata": {
      "needs_background": "light"
     },
     "output_type": "display_data"
    }
   ],
   "source": [
    "sns.boxplot(df.Sale)"
   ]
  },
  {
   "cell_type": "code",
   "execution_count": 28,
   "id": "4bab1cfa",
   "metadata": {},
   "outputs": [
    {
     "name": "stderr",
     "output_type": "stream",
     "text": [
      "C:\\Users\\91807\\anaconda3\\lib\\site-packages\\seaborn\\distributions.py:2619: FutureWarning: `distplot` is a deprecated function and will be removed in a future version. Please adapt your code to use either `displot` (a figure-level function with similar flexibility) or `histplot` (an axes-level function for histograms).\n",
      "  warnings.warn(msg, FutureWarning)\n"
     ]
    },
    {
     "data": {
      "text/plain": [
       "<AxesSubplot:xlabel='Sale', ylabel='Density'>"
      ]
     },
     "execution_count": 28,
     "metadata": {},
     "output_type": "execute_result"
    },
    {
     "data": {
      "image/png": "[encoded data removed]",
      "text/plain": [
       "<Figure size 432x288 with 1 Axes>"
      ]
     },
     "metadata": {
      "needs_background": "light"
     },
     "output_type": "display_data"
    }
   ],
   "source": [
    "sns.distplot(df.Sale)"
   ]
  },
  {
   "cell_type": "code",
   "execution_count": 29,
   "id": "5811c98c",
   "metadata": {},
   "outputs": [
    {
     "data": {
      "text/plain": [
       "Index(['Product_id', 'Price', 'Sale', 'weight', 'resoloution', 'ppi',\n",
       "       'cpu_core', 'cpu_freq', 'internal_mem', 'ram', 'RearCam', 'Front_Cam',\n",
       "       'battery', 'thickness'],\n",
       "      dtype='object')"
      ]
     },
     "execution_count": 29,
     "metadata": {},
     "output_type": "execute_result"
    }
   ],
   "source": [
    "df.columns"
   ]
  },
  {
   "cell_type": "markdown",
   "id": "59e0318b",
   "metadata": {},
   "source": [
    "# weight"
   ]
  },
  {
   "cell_type": "code",
   "execution_count": 30,
   "id": "56fa056f",
   "metadata": {},
   "outputs": [
    {
     "data": {
      "text/plain": [
       "150.0    7\n",
       "158.0    6\n",
       "145.0    6\n",
       "154.0    6\n",
       "174.0    6\n",
       "168.0    6\n",
       "160.0    4\n",
       "170.0    4\n",
       "169.0    4\n",
       "147.0    4\n",
       "152.0    4\n",
       "97.0     4\n",
       "110.0    3\n",
       "118.0    3\n",
       "142.0    2\n",
       "78.4     2\n",
       "128.0    2\n",
       "187.0    2\n",
       "134.0    2\n",
       "393.0    2\n",
       "127.9    2\n",
       "404.0    2\n",
       "77.9     2\n",
       "165.0    2\n",
       "149.0    2\n",
       "194.8    2\n",
       "753.0    2\n",
       "66.0     2\n",
       "112.0    2\n",
       "183.0    2\n",
       "102.9    2\n",
       "179.0    2\n",
       "180.0    2\n",
       "69.8     2\n",
       "238.0    2\n",
       "202.0    2\n",
       "167.8    2\n",
       "178.0    2\n",
       "171.0    2\n",
       "156.0    2\n",
       "118.5    2\n",
       "134.1    2\n",
       "162.0    2\n",
       "161.0    2\n",
       "141.0    2\n",
       "139.2    2\n",
       "146.0    2\n",
       "144.0    2\n",
       "151.0    2\n",
       "120.0    2\n",
       "489.0    2\n",
       "133.5    2\n",
       "131.0    2\n",
       "260.0    2\n",
       "175.0    2\n",
       "310.0    2\n",
       "125.0    2\n",
       "116.0    2\n",
       "153.0    2\n",
       "279.0    2\n",
       "140.0    1\n",
       "135.0    1\n",
       "Name: weight, dtype: int64"
      ]
     },
     "execution_count": 30,
     "metadata": {},
     "output_type": "execute_result"
    }
   ],
   "source": [
    "df.weight.value_counts()"
   ]
  },
  {
   "cell_type": "code",
   "execution_count": 31,
   "id": "9f1b8f5d",
   "metadata": {},
   "outputs": [
    {
     "name": "stderr",
     "output_type": "stream",
     "text": [
      "C:\\Users\\91807\\anaconda3\\lib\\site-packages\\seaborn\\_decorators.py:36: FutureWarning: Pass the following variable as a keyword arg: x. From version 0.12, the only valid positional argument will be `data`, and passing other arguments without an explicit keyword will result in an error or misinterpretation.\n",
      "  warnings.warn(\n"
     ]
    },
    {
     "data": {
      "text/plain": [
       "<AxesSubplot:xlabel='weight'>"
      ]
     },
     "execution_count": 31,
     "metadata": {},
     "output_type": "execute_result"
    },
    {
     "data": {
      "image/png": "[encoded data removed]",
      "text/plain": [
       "<Figure size 432x288 with 1 Axes>"
      ]
     },
     "metadata": {
      "needs_background": "light"
     },
     "output_type": "display_data"
    }
   ],
   "source": [
    "sns.boxplot(df.weight)"
   ]
  },
  {
   "cell_type": "code",
   "execution_count": 32,
   "id": "e6d8b8ac",
   "metadata": {},
   "outputs": [
    {
     "data": {
      "text/plain": [
       "35.900000000000006"
      ]
     },
     "execution_count": 32,
     "metadata": {},
     "output_type": "execute_result"
    }
   ],
   "source": [
    "iqr=stats.iqr(df.weight)\n",
    "iqr"
   ]
  },
  {
   "cell_type": "code",
   "execution_count": 33,
   "id": "cd48f6cc",
   "metadata": {},
   "outputs": [
    {
     "data": {
      "text/plain": [
       "170.0"
      ]
     },
     "execution_count": 33,
     "metadata": {},
     "output_type": "execute_result"
    }
   ],
   "source": [
    "q3=df.weight.quantile(0.75)\n",
    "q3"
   ]
  },
  {
   "cell_type": "code",
   "execution_count": 34,
   "id": "c8422d30",
   "metadata": {},
   "outputs": [
    {
     "data": {
      "text/plain": [
       "134.1"
      ]
     },
     "execution_count": 34,
     "metadata": {},
     "output_type": "execute_result"
    }
   ],
   "source": [
    "q1=df.weight.quantile(0.25)\n",
    "q1"
   ]
  },
  {
   "cell_type": "code",
   "execution_count": 35,
   "id": "89b3a120",
   "metadata": {},
   "outputs": [
    {
     "data": {
      "text/plain": [
       "80.24999999999999"
      ]
     },
     "execution_count": 35,
     "metadata": {},
     "output_type": "execute_result"
    }
   ],
   "source": [
    "lower = q1-(1.5*iqr)\n",
    "lower"
   ]
  },
  {
   "cell_type": "code",
   "execution_count": 36,
   "id": "4f5ba967",
   "metadata": {},
   "outputs": [
    {
     "data": {
      "text/plain": [
       "223.85000000000002"
      ]
     },
     "execution_count": 36,
     "metadata": {},
     "output_type": "execute_result"
    }
   ],
   "source": [
    "upper = q3+(1.5*iqr)\n",
    "upper"
   ]
  },
  {
   "cell_type": "code",
   "execution_count": 37,
   "id": "8a49e5bc",
   "metadata": {},
   "outputs": [],
   "source": [
    "df.weight = np.where(df.weight>upper, upper, df.weight)\n",
    "df.weight = np.where(df.weight<lower,lower,df.weight)"
   ]
  },
  {
   "cell_type": "code",
   "execution_count": 38,
   "id": "500945e8",
   "metadata": {},
   "outputs": [
    {
     "name": "stderr",
     "output_type": "stream",
     "text": [
      "C:\\Users\\91807\\anaconda3\\lib\\site-packages\\seaborn\\_decorators.py:36: FutureWarning: Pass the following variable as a keyword arg: x. From version 0.12, the only valid positional argument will be `data`, and passing other arguments without an explicit keyword will result in an error or misinterpretation.\n",
      "  warnings.warn(\n"
     ]
    },
    {
     "data": {
      "text/plain": [
       "<AxesSubplot:xlabel='weight'>"
      ]
     },
     "execution_count": 38,
     "metadata": {},
     "output_type": "execute_result"
    },
    {
     "data": {
      "image/png": "[encoded data removed]",
      "text/plain": [
       "<Figure size 432x288 with 1 Axes>"
      ]
     },
     "metadata": {
      "needs_background": "light"
     },
     "output_type": "display_data"
    }
   ],
   "source": [
    "sns.boxplot(df.weight)"
   ]
  },
  {
   "cell_type": "code",
   "execution_count": 39,
   "id": "a59faab0",
   "metadata": {},
   "outputs": [
    {
     "name": "stderr",
     "output_type": "stream",
     "text": [
      "C:\\Users\\91807\\anaconda3\\lib\\site-packages\\seaborn\\distributions.py:2619: FutureWarning: `distplot` is a deprecated function and will be removed in a future version. Please adapt your code to use either `displot` (a figure-level function with similar flexibility) or `histplot` (an axes-level function for histograms).\n",
      "  warnings.warn(msg, FutureWarning)\n"
     ]
    },
    {
     "data": {
      "text/plain": [
       "<AxesSubplot:xlabel='weight', ylabel='Density'>"
      ]
     },
     "execution_count": 39,
     "metadata": {},
     "output_type": "execute_result"
    },
    {
     "data": {
      "image/png": "[encoded data removed]",
      "text/plain": [
       "<Figure size 432x288 with 1 Axes>"
      ]
     },
     "metadata": {
      "needs_background": "light"
     },
     "output_type": "display_data"
    }
   ],
   "source": [
    "sns.distplot(df.weight)"
   ]
  },
  {
   "cell_type": "code",
   "execution_count": 40,
   "id": "cd367dd7",
   "metadata": {},
   "outputs": [
    {
     "data": {
      "text/plain": [
       "Index(['Product_id', 'Price', 'Sale', 'weight', 'resoloution', 'ppi',\n",
       "       'cpu_core', 'cpu_freq', 'internal_mem', 'ram', 'RearCam', 'Front_Cam',\n",
       "       'battery', 'thickness'],\n",
       "      dtype='object')"
      ]
     },
     "execution_count": 40,
     "metadata": {},
     "output_type": "execute_result"
    }
   ],
   "source": [
    "df.columns"
   ]
  },
  {
   "cell_type": "markdown",
   "id": "4294c27f",
   "metadata": {},
   "source": [
    "# resoloution"
   ]
  },
  {
   "cell_type": "code",
   "execution_count": 41,
   "id": "5db5c646",
   "metadata": {},
   "outputs": [
    {
     "data": {
      "text/plain": [
       "5.50     31\n",
       "5.00     30\n",
       "5.70     14\n",
       "4.00     12\n",
       "5.10      8\n",
       "4.50      8\n",
       "5.20      7\n",
       "6.00      6\n",
       "8.00      6\n",
       "7.00      4\n",
       "4.80      4\n",
       "2.20      4\n",
       "2.40      4\n",
       "4.70      3\n",
       "4.66      2\n",
       "12.20     2\n",
       "1.40      2\n",
       "5.15      2\n",
       "5.43      2\n",
       "1.50      2\n",
       "10.10     2\n",
       "5.60      2\n",
       "5.30      2\n",
       "5.46      2\n",
       "Name: resoloution, dtype: int64"
      ]
     },
     "execution_count": 41,
     "metadata": {},
     "output_type": "execute_result"
    }
   ],
   "source": [
    "df.resoloution.value_counts()"
   ]
  },
  {
   "cell_type": "code",
   "execution_count": 42,
   "id": "7cac20df",
   "metadata": {},
   "outputs": [
    {
     "data": {
      "text/plain": [
       "(161, 14)"
      ]
     },
     "execution_count": 42,
     "metadata": {},
     "output_type": "execute_result"
    }
   ],
   "source": [
    "df.shape"
   ]
  },
  {
   "cell_type": "code",
   "execution_count": 43,
   "id": "3974c4e5",
   "metadata": {},
   "outputs": [
    {
     "name": "stderr",
     "output_type": "stream",
     "text": [
      "C:\\Users\\91807\\anaconda3\\lib\\site-packages\\seaborn\\_decorators.py:36: FutureWarning: Pass the following variable as a keyword arg: x. From version 0.12, the only valid positional argument will be `data`, and passing other arguments without an explicit keyword will result in an error or misinterpretation.\n",
      "  warnings.warn(\n"
     ]
    },
    {
     "data": {
      "text/plain": [
       "<AxesSubplot:xlabel='resoloution'>"
      ]
     },
     "execution_count": 43,
     "metadata": {},
     "output_type": "execute_result"
    },
    {
     "data": {
      "image/png": "[encoded data removed]",
      "text/plain": [
       "<Figure size 432x288 with 1 Axes>"
      ]
     },
     "metadata": {
      "needs_background": "light"
     },
     "output_type": "display_data"
    }
   ],
   "source": [
    "sns.boxplot(df.resoloution)"
   ]
  },
  {
   "cell_type": "code",
   "execution_count": 44,
   "id": "c25e6294",
   "metadata": {},
   "outputs": [
    {
     "data": {
      "text/plain": [
       "0.7000000000000002"
      ]
     },
     "execution_count": 44,
     "metadata": {},
     "output_type": "execute_result"
    }
   ],
   "source": [
    "iqr=stats.iqr(df.resoloution)\n",
    "iqr"
   ]
  },
  {
   "cell_type": "code",
   "execution_count": 45,
   "id": "e3551245",
   "metadata": {},
   "outputs": [
    {
     "data": {
      "text/plain": [
       "5.5"
      ]
     },
     "execution_count": 45,
     "metadata": {},
     "output_type": "execute_result"
    }
   ],
   "source": [
    "q3=df.resoloution.quantile(0.75)\n",
    "q3"
   ]
  },
  {
   "cell_type": "code",
   "execution_count": 46,
   "id": "d8a9994e",
   "metadata": {},
   "outputs": [
    {
     "data": {
      "text/plain": [
       "4.8"
      ]
     },
     "execution_count": 46,
     "metadata": {},
     "output_type": "execute_result"
    }
   ],
   "source": [
    "q1=df.resoloution.quantile(0.25)\n",
    "q1"
   ]
  },
  {
   "cell_type": "code",
   "execution_count": 47,
   "id": "15b9e05d",
   "metadata": {},
   "outputs": [
    {
     "data": {
      "text/plain": [
       "3.7499999999999996"
      ]
     },
     "execution_count": 47,
     "metadata": {},
     "output_type": "execute_result"
    }
   ],
   "source": [
    "lower = q1-(1.5*iqr)\n",
    "lower"
   ]
  },
  {
   "cell_type": "code",
   "execution_count": 48,
   "id": "cae8b780",
   "metadata": {},
   "outputs": [
    {
     "data": {
      "text/plain": [
       "6.550000000000001"
      ]
     },
     "execution_count": 48,
     "metadata": {},
     "output_type": "execute_result"
    }
   ],
   "source": [
    "upper = q3+(1.5*iqr)\n",
    "upper"
   ]
  },
  {
   "cell_type": "code",
   "execution_count": 49,
   "id": "37b815eb",
   "metadata": {},
   "outputs": [],
   "source": [
    "df.resoloution = np.where(df.resoloution>upper, upper, df.resoloution)\n",
    "df.resoloution = np.where(df.resoloution<lower,lower,df.resoloution)"
   ]
  },
  {
   "cell_type": "code",
   "execution_count": 50,
   "id": "c2d32951",
   "metadata": {},
   "outputs": [
    {
     "name": "stderr",
     "output_type": "stream",
     "text": [
      "C:\\Users\\91807\\anaconda3\\lib\\site-packages\\seaborn\\_decorators.py:36: FutureWarning: Pass the following variable as a keyword arg: x. From version 0.12, the only valid positional argument will be `data`, and passing other arguments without an explicit keyword will result in an error or misinterpretation.\n",
      "  warnings.warn(\n"
     ]
    },
    {
     "data": {
      "text/plain": [
       "<AxesSubplot:xlabel='resoloution'>"
      ]
     },
     "execution_count": 50,
     "metadata": {},
     "output_type": "execute_result"
    },
    {
     "data": {
      "image/png": "[encoded data removed]",
      "text/plain": [
       "<Figure size 432x288 with 1 Axes>"
      ]
     },
     "metadata": {
      "needs_background": "light"
     },
     "output_type": "display_data"
    }
   ],
   "source": [
    "sns.boxplot(df.resoloution)"
   ]
  },
  {
   "cell_type": "code",
   "execution_count": 51,
   "id": "2ea5e063",
   "metadata": {},
   "outputs": [
    {
     "name": "stderr",
     "output_type": "stream",
     "text": [
      "C:\\Users\\91807\\anaconda3\\lib\\site-packages\\seaborn\\distributions.py:2619: FutureWarning: `distplot` is a deprecated function and will be removed in a future version. Please adapt your code to use either `displot` (a figure-level function with similar flexibility) or `histplot` (an axes-level function for histograms).\n",
      "  warnings.warn(msg, FutureWarning)\n"
     ]
    },
    {
     "data": {
      "text/plain": [
       "<AxesSubplot:xlabel='resoloution', ylabel='Density'>"
      ]
     },
     "execution_count": 51,
     "metadata": {},
     "output_type": "execute_result"
    },
    {
     "data": {
      "image/png": "[encoded data removed]",
      "text/plain": [
       "<Figure size 432x288 with 1 Axes>"
      ]
     },
     "metadata": {
      "needs_background": "light"
     },
     "output_type": "display_data"
    }
   ],
   "source": [
    "sns.distplot(df.resoloution)"
   ]
  },
  {
   "cell_type": "code",
   "execution_count": 52,
   "id": "5c9b54bc",
   "metadata": {},
   "outputs": [
    {
     "data": {
      "text/plain": [
       "Index(['Product_id', 'Price', 'Sale', 'weight', 'resoloution', 'ppi',\n",
       "       'cpu_core', 'cpu_freq', 'internal_mem', 'ram', 'RearCam', 'Front_Cam',\n",
       "       'battery', 'thickness'],\n",
       "      dtype='object')"
      ]
     },
     "execution_count": 52,
     "metadata": {},
     "output_type": "execute_result"
    }
   ],
   "source": [
    "df.columns"
   ]
  },
  {
   "cell_type": "markdown",
   "id": "9a930136",
   "metadata": {},
   "source": [
    "# ppi"
   ]
  },
  {
   "cell_type": "code",
   "execution_count": 53,
   "id": "fc79612f",
   "metadata": {},
   "outputs": [
    {
     "data": {
      "text/plain": [
       "294    19\n",
       "401    15\n",
       "534     8\n",
       "233     8\n",
       "245     6\n",
       "432     6\n",
       "515     6\n",
       "428     4\n",
       "128     4\n",
       "367     4\n",
       "200     4\n",
       "306     4\n",
       "441     4\n",
       "170     4\n",
       "220     4\n",
       "386     4\n",
       "424     3\n",
       "221     2\n",
       "224     2\n",
       "129     2\n",
       "806     2\n",
       "184     2\n",
       "247     2\n",
       "258     2\n",
       "403     2\n",
       "167     2\n",
       "513     2\n",
       "440     2\n",
       "166     2\n",
       "277     2\n",
       "538     2\n",
       "189     2\n",
       "235     2\n",
       "160     2\n",
       "541     2\n",
       "121     2\n",
       "283     2\n",
       "524     2\n",
       "282     2\n",
       "577     2\n",
       "469     2\n",
       "218     2\n",
       "178     2\n",
       "312     1\n",
       "187     1\n",
       "Name: ppi, dtype: int64"
      ]
     },
     "execution_count": 53,
     "metadata": {},
     "output_type": "execute_result"
    }
   ],
   "source": [
    "df.ppi.value_counts()"
   ]
  },
  {
   "cell_type": "code",
   "execution_count": 54,
   "id": "64739f06",
   "metadata": {},
   "outputs": [
    {
     "name": "stderr",
     "output_type": "stream",
     "text": [
      "C:\\Users\\91807\\anaconda3\\lib\\site-packages\\seaborn\\_decorators.py:36: FutureWarning: Pass the following variable as a keyword arg: x. From version 0.12, the only valid positional argument will be `data`, and passing other arguments without an explicit keyword will result in an error or misinterpretation.\n",
      "  warnings.warn(\n"
     ]
    },
    {
     "data": {
      "text/plain": [
       "<AxesSubplot:xlabel='ppi'>"
      ]
     },
     "execution_count": 54,
     "metadata": {},
     "output_type": "execute_result"
    },
    {
     "data": {
      "image/png": "[encoded data removed]",
      "text/plain": [
       "<Figure size 432x288 with 1 Axes>"
      ]
     },
     "metadata": {
      "needs_background": "light"
     },
     "output_type": "display_data"
    }
   ],
   "source": [
    "sns.boxplot(df.ppi)"
   ]
  },
  {
   "cell_type": "code",
   "execution_count": 55,
   "id": "d079f1cf",
   "metadata": {},
   "outputs": [
    {
     "name": "stderr",
     "output_type": "stream",
     "text": [
      "C:\\Users\\91807\\anaconda3\\lib\\site-packages\\seaborn\\distributions.py:2619: FutureWarning: `distplot` is a deprecated function and will be removed in a future version. Please adapt your code to use either `displot` (a figure-level function with similar flexibility) or `histplot` (an axes-level function for histograms).\n",
      "  warnings.warn(msg, FutureWarning)\n"
     ]
    },
    {
     "data": {
      "text/plain": [
       "<AxesSubplot:xlabel='ppi', ylabel='Density'>"
      ]
     },
     "execution_count": 55,
     "metadata": {},
     "output_type": "execute_result"
    },
    {
     "data": {
      "image/png": "[encoded data removed]",
      "text/plain": [
       "<Figure size 432x288 with 1 Axes>"
      ]
     },
     "metadata": {
      "needs_background": "light"
     },
     "output_type": "display_data"
    }
   ],
   "source": [
    "sns.distplot(df.ppi)"
   ]
  },
  {
   "cell_type": "code",
   "execution_count": 56,
   "id": "f74d9546",
   "metadata": {},
   "outputs": [
    {
     "data": {
      "text/plain": [
       "Index(['Product_id', 'Price', 'Sale', 'weight', 'resoloution', 'ppi',\n",
       "       'cpu_core', 'cpu_freq', 'internal_mem', 'ram', 'RearCam', 'Front_Cam',\n",
       "       'battery', 'thickness'],\n",
       "      dtype='object')"
      ]
     },
     "execution_count": 56,
     "metadata": {},
     "output_type": "execute_result"
    }
   ],
   "source": [
    "df.columns"
   ]
  },
  {
   "cell_type": "markdown",
   "id": "8978919f",
   "metadata": {},
   "source": [
    "# cpu_core"
   ]
  },
  {
   "cell_type": "code",
   "execution_count": 57,
   "id": "8f76af0b",
   "metadata": {},
   "outputs": [
    {
     "data": {
      "text/plain": [
       "4    81\n",
       "8    52\n",
       "2    14\n",
       "0    10\n",
       "6     2\n",
       "1     2\n",
       "Name: cpu_core, dtype: int64"
      ]
     },
     "execution_count": 57,
     "metadata": {},
     "output_type": "execute_result"
    }
   ],
   "source": [
    "df.cpu_core.value_counts()"
   ]
  },
  {
   "cell_type": "code",
   "execution_count": 58,
   "id": "be9152ff",
   "metadata": {},
   "outputs": [
    {
     "name": "stderr",
     "output_type": "stream",
     "text": [
      "C:\\Users\\91807\\anaconda3\\lib\\site-packages\\seaborn\\_decorators.py:36: FutureWarning: Pass the following variable as a keyword arg: x. From version 0.12, the only valid positional argument will be `data`, and passing other arguments without an explicit keyword will result in an error or misinterpretation.\n",
      "  warnings.warn(\n"
     ]
    },
    {
     "data": {
      "text/plain": [
       "<AxesSubplot:xlabel='cpu_core', ylabel='count'>"
      ]
     },
     "execution_count": 58,
     "metadata": {},
     "output_type": "execute_result"
    },
    {
     "data": {
      "image/png": "[encoded data removed]",
      "text/plain": [
       "<Figure size 432x288 with 1 Axes>"
      ]
     },
     "metadata": {
      "needs_background": "light"
     },
     "output_type": "display_data"
    }
   ],
   "source": [
    "sns.countplot(df.cpu_core)"
   ]
  },
  {
   "cell_type": "code",
   "execution_count": 59,
   "id": "2cdeacf2",
   "metadata": {},
   "outputs": [],
   "source": [
    "import pandas as pd\n",
    "import numpy as np\n",
    "import matplotlib.pyplot as plt\n",
    "import seaborn as sns\n",
    "from scipy import stats\n",
    "import statsmodels.api as sm\n",
    "from statsmodels.formula.api import ols\n",
    "from statsmodels.stats.multicomp import pairwise_tukeyhsd            #no order\n",
    "import statsmodels.formula.api as smf\n",
    "pd.set_option('display.max_column',None)\n",
    "from sklearn.linear_model import LinearRegression"
   ]
  },
  {
   "cell_type": "code",
   "execution_count": 60,
   "id": "ca030fac",
   "metadata": {},
   "outputs": [
    {
     "name": "stdout",
     "output_type": "stream",
     "text": [
      "                sum_sq     df          F  PR(>F)\n",
      "cpu_core  4.453773e+07    1.0  141.97041     0.0\n",
      "Residual  4.988011e+07  159.0        NaN     NaN\n"
     ]
    }
   ],
   "source": [
    "#target_con ~ predection_cat-----anova\n",
    "annova=ols('Price ~ cpu_core',data=df).fit()\n",
    "an=sm.stats.anova_lm(annova,typ=2)\n",
    "print(an.round(decimals=5))"
   ]
  },
  {
   "cell_type": "code",
   "execution_count": 61,
   "id": "c46ed2f8",
   "metadata": {},
   "outputs": [
    {
     "name": "stdout",
     "output_type": "stream",
     "text": [
      "   Multiple Comparison of Means - Tukey HSD, FWER=0.05    \n",
      "==========================================================\n",
      "group1 group2  meandiff p-adj    lower      upper   reject\n",
      "----------------------------------------------------------\n",
      "     0      1      84.2 0.9999 -1088.0134 1256.4134  False\n",
      "     0      2  706.6286 0.0172    80.0542  1333.203   True\n",
      "     0      4 1506.5827    0.0   999.3477 2013.8177   True\n",
      "     0      6    2117.2    0.0   944.9866 3289.4134   True\n",
      "     0      8 2049.7577   -0.0  1527.2109 2572.3045   True\n",
      "     1      2  622.4286 0.6194  -521.5346 1766.3917  False\n",
      "     1      4 1422.3827 0.0029   339.1729 2505.5925   True\n",
      "     1      6    2033.0 0.0021    519.679  3546.321   True\n",
      "     1      8 1965.5577    0.0   875.0939 3056.0215   True\n",
      "     2      4  799.9541    0.0   361.9418 1237.9665   True\n",
      "     2      6 1410.5714 0.0065   266.6083 2554.5346   True\n",
      "     2      8 1343.1291    0.0   887.4729 1798.7854   True\n",
      "     4      6  610.6173 0.5822  -472.5925 1693.8271  False\n",
      "     4      8   543.175    0.0   274.2614  812.0885   True\n",
      "     6      8  -67.4423    1.0 -1157.9061 1023.0215  False\n",
      "----------------------------------------------------------\n"
     ]
    }
   ],
   "source": [
    "#tuckey\n",
    "tukey = pairwise_tukeyhsd(df.Price,df.cpu_core,alpha=0.05)\n",
    "print (tukey)"
   ]
  },
  {
   "cell_type": "code",
   "execution_count": 62,
   "id": "9e4fba60",
   "metadata": {},
   "outputs": [],
   "source": [
    "df['cpu_core'].replace({1:0},inplace=True)\n",
    "df['cpu_core'].replace({2:1},inplace=True)\n",
    "df['cpu_core'].replace({6:4},inplace=True)\n",
    "df['cpu_core'].replace({8:6},inplace=True)"
   ]
  },
  {
   "cell_type": "code",
   "execution_count": 63,
   "id": "2d12c930",
   "metadata": {},
   "outputs": [
    {
     "name": "stdout",
     "output_type": "stream",
     "text": [
      "   Multiple Comparison of Means - Tukey HSD, FWER=0.05   \n",
      "=========================================================\n",
      "group1 group2  meandiff p-adj    lower     upper   reject\n",
      "---------------------------------------------------------\n",
      "     0      1  692.5952 0.0055  155.6936 1229.4969   True\n",
      "     0      4 1507.2631    0.0 1085.7657 1928.7604   True\n",
      "     0      6 2035.7244    0.0 1598.6449 2472.8038   True\n",
      "     1      4  814.6678    0.0  420.3508 1208.9848   True\n",
      "     1      6 1343.1291    0.0  932.1981 1754.0602   True\n",
      "     4      6  528.4613    0.0  287.0882  769.8344   True\n",
      "---------------------------------------------------------\n"
     ]
    }
   ],
   "source": [
    "#tuckey\n",
    "tukey = pairwise_tukeyhsd(df.Price,df.cpu_core,alpha=0.05)\n",
    "print (tukey)"
   ]
  },
  {
   "cell_type": "code",
   "execution_count": 64,
   "id": "4ebcec30",
   "metadata": {},
   "outputs": [
    {
     "data": {
      "text/plain": [
       "Index(['Product_id', 'Price', 'Sale', 'weight', 'resoloution', 'ppi',\n",
       "       'cpu_core', 'cpu_freq', 'internal_mem', 'ram', 'RearCam', 'Front_Cam',\n",
       "       'battery', 'thickness'],\n",
       "      dtype='object')"
      ]
     },
     "execution_count": 64,
     "metadata": {},
     "output_type": "execute_result"
    }
   ],
   "source": [
    "df.columns"
   ]
  },
  {
   "cell_type": "markdown",
   "id": "76b3eef5",
   "metadata": {},
   "source": [
    "# internal_mem"
   ]
  },
  {
   "cell_type": "code",
   "execution_count": 65,
   "id": "a88682e1",
   "metadata": {},
   "outputs": [
    {
     "data": {
      "text/plain": [
       "16.000     40\n",
       "32.000     40\n",
       "8.000      28\n",
       "4.000      18\n",
       "64.000     11\n",
       "0.000      10\n",
       "128.000     8\n",
       "0.004       2\n",
       "0.128       2\n",
       "0.256       2\n",
       "Name: internal_mem, dtype: int64"
      ]
     },
     "execution_count": 65,
     "metadata": {},
     "output_type": "execute_result"
    }
   ],
   "source": [
    "df.internal_mem.value_counts()"
   ]
  },
  {
   "cell_type": "code",
   "execution_count": 66,
   "id": "2cc1b117",
   "metadata": {},
   "outputs": [
    {
     "name": "stderr",
     "output_type": "stream",
     "text": [
      "C:\\Users\\91807\\anaconda3\\lib\\site-packages\\seaborn\\_decorators.py:36: FutureWarning: Pass the following variable as a keyword arg: x. From version 0.12, the only valid positional argument will be `data`, and passing other arguments without an explicit keyword will result in an error or misinterpretation.\n",
      "  warnings.warn(\n"
     ]
    },
    {
     "data": {
      "text/plain": [
       "<AxesSubplot:xlabel='internal_mem', ylabel='count'>"
      ]
     },
     "execution_count": 66,
     "metadata": {},
     "output_type": "execute_result"
    },
    {
     "data": {
      "image/png": "[encoded data removed]",
      "text/plain": [
       "<Figure size 432x288 with 1 Axes>"
      ]
     },
     "metadata": {
      "needs_background": "light"
     },
     "output_type": "display_data"
    }
   ],
   "source": [
    "sns.countplot(df.internal_mem)"
   ]
  },
  {
   "cell_type": "code",
   "execution_count": 67,
   "id": "574273e6",
   "metadata": {},
   "outputs": [
    {
     "name": "stdout",
     "output_type": "stream",
     "text": [
      "                    sum_sq     df          F  PR(>F)\n",
      "internal_mem  5.696432e+07    1.0  241.82844     0.0\n",
      "Residual      3.745352e+07  159.0        NaN     NaN\n"
     ]
    }
   ],
   "source": [
    "annova=ols('Price ~ internal_mem',data=df).fit()\n",
    "an=sm.stats.anova_lm(annova,typ=2)\n",
    "print(an.round(decimals=5))"
   ]
  },
  {
   "cell_type": "code",
   "execution_count": 68,
   "id": "d8de7c19",
   "metadata": {},
   "outputs": [
    {
     "name": "stdout",
     "output_type": "stream",
     "text": [
      "   Multiple Comparison of Means - Tukey HSD, FWER=0.05    \n",
      "==========================================================\n",
      "group1 group2  meandiff p-adj    lower      upper   reject\n",
      "----------------------------------------------------------\n",
      "   0.0  0.004    -269.4 0.9815  -1038.877   500.077  False\n",
      "   0.0  0.128    -318.4 0.9454  -1087.877   451.077  False\n",
      "   0.0  0.256    -395.4 0.8209  -1164.877   374.077  False\n",
      "   0.0    4.0  585.3778 0.0002   193.5793  977.1763   True\n",
      "   0.0    8.0     709.6    0.0   343.6407 1075.5593   True\n",
      "   0.0   16.0  1247.275   -0.0   896.0584 1598.4916   True\n",
      "   0.0   32.0   1725.25   -0.0  1374.0334 2076.4666   True\n",
      "   0.0   64.0 2079.1455   -0.0  1645.1019  2513.189   True\n",
      "   0.0  128.0    2716.6   -0.0  2245.3935 3187.8065   True\n",
      " 0.004  0.128     -49.0    1.0 -1042.3906  944.3906  False\n",
      " 0.004  0.256    -126.0    1.0 -1119.3906  867.3906  False\n",
      " 0.004    4.0  854.7778 0.0106   114.3482 1595.2074   True\n",
      " 0.004    8.0     979.0 0.0011   251.9126 1706.0874   True\n",
      " 0.004   16.0  1516.675    0.0   796.8951 2236.4549   True\n",
      " 0.004   32.0   1994.65    0.0  1274.8701 2714.4299   True\n",
      " 0.004   64.0 2348.5455   -0.0    1584.92 3112.1709   True\n",
      " 0.004  128.0    2986.0   -0.0  2200.6558 3771.3442   True\n",
      " 0.128  0.256     -77.0    1.0 -1070.3906  916.3906  False\n",
      " 0.128    4.0  903.7778 0.0051   163.3482 1644.2074   True\n",
      " 0.128    8.0    1028.0 0.0005   300.9126 1755.0874   True\n",
      " 0.128   16.0  1565.675    0.0   845.8951 2285.4549   True\n",
      " 0.128   32.0   2043.65   -0.0  1323.8701 2763.4299   True\n",
      " 0.128   64.0 2397.5455   -0.0    1633.92 3161.1709   True\n",
      " 0.128  128.0    3035.0   -0.0  2249.6558 3820.3442   True\n",
      " 0.256    4.0  980.7778 0.0015   240.3482 1721.2074   True\n",
      " 0.256    8.0    1105.0 0.0001   377.9126 1832.0874   True\n",
      " 0.256   16.0  1642.675    0.0   922.8951 2362.4549   True\n",
      " 0.256   32.0   2120.65   -0.0  1400.8701 2840.4299   True\n",
      " 0.256   64.0 2474.5455   -0.0    1710.92 3238.1709   True\n",
      " 0.256  128.0    3112.0   -0.0  2326.6558 3897.3442   True\n",
      "   4.0    8.0  124.2222 0.9453    -175.89  424.3344  False\n",
      "   4.0   16.0  661.8972    0.0     379.95  943.8444   True\n",
      "   4.0   32.0 1139.8722   -0.0    857.925 1421.8194   True\n",
      "   4.0   64.0 1493.7677   -0.0  1113.5902 1873.9452   True\n",
      "   4.0  128.0 2131.2222   -0.0  1709.1124  2553.332   True\n",
      "   8.0   16.0   537.675    0.0   292.9009  782.4491   True\n",
      "   8.0   32.0   1015.65   -0.0   770.8759 1260.4241   True\n",
      "   8.0   64.0 1369.5455   -0.0  1016.0556 1723.0353   True\n",
      "   8.0  128.0    2007.0   -0.0  1608.7578 2405.2422   True\n",
      "  16.0   32.0   477.975    0.0   255.8461  700.1039   True\n",
      "  16.0   64.0  831.8705    0.0   493.6664 1170.0745   True\n",
      "  16.0  128.0  1469.325   -0.0  1084.5865 1854.0635   True\n",
      "  32.0   64.0  353.8955 0.0323    15.6914  692.0995   True\n",
      "  32.0  128.0    991.35    0.0   606.6115 1376.0885   True\n",
      "  64.0  128.0  637.4545 0.0007   175.8655 1099.0436   True\n",
      "----------------------------------------------------------\n"
     ]
    }
   ],
   "source": [
    "tukey = pairwise_tukeyhsd(df.Price,df.internal_mem,alpha=0.05)\n",
    "print (tukey)"
   ]
  },
  {
   "cell_type": "code",
   "execution_count": 69,
   "id": "3f83d193",
   "metadata": {},
   "outputs": [],
   "source": [
    "df['internal_mem'].replace({0.004:0.0},inplace=True)\n",
    "df['internal_mem'].replace({0.128:0.0},inplace=True)\n",
    "df['internal_mem'].replace({0.256:0.0},inplace=True)\n",
    "df['internal_mem'].replace({0.128:0.004},inplace=True)\n",
    "df['internal_mem'].replace({0.256:0.004},inplace=True)\n",
    "df['internal_mem'].replace({0.256:0.128},inplace=True)\n",
    "df['internal_mem'].replace({8.0:4.0},inplace=True)"
   ]
  },
  {
   "cell_type": "code",
   "execution_count": 70,
   "id": "b6635da5",
   "metadata": {},
   "outputs": [
    {
     "name": "stdout",
     "output_type": "stream",
     "text": [
      "   Multiple Comparison of Means - Tukey HSD, FWER=0.05   \n",
      "=========================================================\n",
      "group1 group2  meandiff p-adj    lower     upper   reject\n",
      "---------------------------------------------------------\n",
      "   0.0    4.0  783.8913    0.0  523.0407 1044.7419   True\n",
      "   0.0   16.0  1370.175   -0.0 1104.3236 1636.0264   True\n",
      "   0.0   32.0   1848.15   -0.0 1582.2986 2114.0014   True\n",
      "   0.0   64.0 2202.0455   -0.0  1850.031 2554.0599   True\n",
      "   0.0  128.0    2839.5   -0.0 2450.3334 3228.6666   True\n",
      "   4.0   16.0  586.2837    0.0  391.9826  780.5848   True\n",
      "   4.0   32.0 1064.2587   -0.0  869.9576 1258.5598   True\n",
      "   4.0   64.0 1418.1542   -0.0 1116.5085 1719.7998   True\n",
      "   4.0  128.0 2055.6087   -0.0 1711.3318 2399.8856   True\n",
      "  16.0   32.0   477.975    0.0  277.0102  678.9398   True\n",
      "  16.0   64.0  831.8705    0.0    525.89 1137.8509   True\n",
      "  16.0  128.0  1469.325   -0.0 1121.2438 1817.4062   True\n",
      "  32.0   64.0  353.8955 0.0133    47.915  659.8759   True\n",
      "  32.0  128.0    991.35    0.0  643.2688 1339.4312   True\n",
      "  64.0  128.0  637.4545 0.0003  219.8451  1055.064   True\n",
      "---------------------------------------------------------\n"
     ]
    }
   ],
   "source": [
    "tukey = pairwise_tukeyhsd(df.Price,df.internal_mem,alpha=0.05)\n",
    "print (tukey)"
   ]
  },
  {
   "cell_type": "code",
   "execution_count": 71,
   "id": "819f9101",
   "metadata": {},
   "outputs": [
    {
     "data": {
      "text/plain": [
       "Index(['Product_id', 'Price', 'Sale', 'weight', 'resoloution', 'ppi',\n",
       "       'cpu_core', 'cpu_freq', 'internal_mem', 'ram', 'RearCam', 'Front_Cam',\n",
       "       'battery', 'thickness'],\n",
       "      dtype='object')"
      ]
     },
     "execution_count": 71,
     "metadata": {},
     "output_type": "execute_result"
    }
   ],
   "source": [
    "df.columns"
   ]
  },
  {
   "cell_type": "markdown",
   "id": "f82063e1",
   "metadata": {},
   "source": [
    "# ram"
   ]
  },
  {
   "cell_type": "code",
   "execution_count": 72,
   "id": "abd0ab30",
   "metadata": {},
   "outputs": [
    {
     "data": {
      "text/plain": [
       "(12,)"
      ]
     },
     "execution_count": 72,
     "metadata": {},
     "output_type": "execute_result"
    }
   ],
   "source": [
    "df.ram.unique().shape"
   ]
  },
  {
   "cell_type": "code",
   "execution_count": 73,
   "id": "72b0c788",
   "metadata": {},
   "outputs": [
    {
     "name": "stderr",
     "output_type": "stream",
     "text": [
      "C:\\Users\\91807\\anaconda3\\lib\\site-packages\\seaborn\\_decorators.py:36: FutureWarning: Pass the following variable as a keyword arg: x. From version 0.12, the only valid positional argument will be `data`, and passing other arguments without an explicit keyword will result in an error or misinterpretation.\n",
      "  warnings.warn(\n"
     ]
    },
    {
     "data": {
      "text/plain": [
       "<AxesSubplot:xlabel='ram', ylabel='count'>"
      ]
     },
     "execution_count": 73,
     "metadata": {},
     "output_type": "execute_result"
    },
    {
     "data": {
      "image/png": "[encoded data removed]",
      "text/plain": [
       "<Figure size 432x288 with 1 Axes>"
      ]
     },
     "metadata": {
      "needs_background": "light"
     },
     "output_type": "display_data"
    }
   ],
   "source": [
    "sns.countplot(df.ram)"
   ]
  },
  {
   "cell_type": "code",
   "execution_count": 74,
   "id": "2da99181",
   "metadata": {},
   "outputs": [
    {
     "name": "stdout",
     "output_type": "stream",
     "text": [
      "                sum_sq     df          F  PR(>F)\n",
      "ram       7.595506e+07    1.0  654.11891     0.0\n",
      "Residual  1.846278e+07  159.0        NaN     NaN\n"
     ]
    }
   ],
   "source": [
    "annova=ols('Price ~ ram',data=df).fit()\n",
    "an=sm.stats.anova_lm(annova,typ=2)\n",
    "print(an.round(decimals=5))"
   ]
  },
  {
   "cell_type": "code",
   "execution_count": 75,
   "id": "74600e80",
   "metadata": {},
   "outputs": [
    {
     "name": "stdout",
     "output_type": "stream",
     "text": [
      "   Multiple Comparison of Means - Tukey HSD, FWER=0.05    \n",
      "==========================================================\n",
      "group1 group2  meandiff p-adj    lower      upper   reject\n",
      "----------------------------------------------------------\n",
      "   0.0  0.004 -637.3333 0.2213 -1411.9769  137.3103  False\n",
      "   0.0  0.008    -524.0 0.7965 -1472.7408  424.7408  False\n",
      "   0.0  0.032    -652.0 0.4939 -1600.7408  296.7408  False\n",
      "   0.0  0.128    -729.0 0.3171 -1677.7408  219.7408  False\n",
      "   0.0  0.512     160.5 0.9999  -564.1127  885.1127  False\n",
      "   0.0    1.0  400.2222 0.7397   -289.022 1089.4664  False\n",
      "   0.0    1.5     395.0 0.8862  -398.7735 1188.7735  False\n",
      "   0.0    2.0  960.7647 0.0005   270.4544  1651.075   True\n",
      "   0.0    3.0 1291.1111    0.0   595.8472  1986.375   True\n",
      "   0.0    4.0 1570.0476    0.0   867.9672  2272.128   True\n",
      "   0.0    6.0 2255.1667    0.0  1530.5539 2979.7794   True\n",
      " 0.004  0.008  113.3333    1.0  -661.3103  887.9769  False\n",
      " 0.004  0.032  -14.6667    1.0  -789.3103  759.9769  False\n",
      " 0.004  0.128  -91.6667    1.0  -866.3103  682.9769  False\n",
      " 0.004  0.512  797.8333    0.0   323.4629 1272.2037   True\n",
      " 0.004    1.0 1037.5556    0.0   619.2002 1455.9109   True\n",
      " 0.004    1.5 1032.3333    0.0   457.8423 1606.8244   True\n",
      " 0.004    2.0  1598.098    0.0  1177.9886 2018.2075   True\n",
      " 0.004    3.0 1928.4444    0.0  1500.2441 2356.6448   True\n",
      " 0.004    4.0  2207.381    0.0  1768.1993 2646.5626   True\n",
      " 0.004    6.0    2892.5    0.0  2418.1296 3366.8704   True\n",
      " 0.008  0.032    -128.0    1.0 -1076.7408  820.7408  False\n",
      " 0.008  0.128    -205.0 0.9999 -1153.7408  743.7408  False\n",
      " 0.008  0.512     684.5 0.0835   -40.1127 1409.1127  False\n",
      " 0.008    1.0  924.2222  0.001    234.978 1613.4664   True\n",
      " 0.008    1.5     919.0 0.0094   125.2265 1712.7735   True\n",
      " 0.008    2.0 1484.7647    0.0   794.4544  2175.075   True\n",
      " 0.008    3.0 1815.1111    0.0  1119.8472  2510.375   True\n",
      " 0.008    4.0 2094.0476    0.0  1391.9672  2796.128   True\n",
      " 0.008    6.0 2779.1667    0.0  2054.5539 3503.7794   True\n",
      " 0.032  0.128     -77.0    1.0 -1025.7408  871.7408  False\n",
      " 0.032  0.512     812.5 0.0142    87.8873 1537.1127   True\n",
      " 0.032    1.0 1052.2222 0.0001    362.978 1741.4664   True\n",
      " 0.032    1.5    1047.0 0.0013   253.2265 1840.7735   True\n",
      " 0.032    2.0 1612.7647    0.0   922.4544  2303.075   True\n",
      " 0.032    3.0 1943.1111    0.0  1247.8472  2638.375   True\n",
      " 0.032    4.0 2222.0476    0.0  1519.9672  2924.128   True\n",
      " 0.032    6.0 2907.1667    0.0  2182.5539 3631.7794   True\n",
      " 0.128  0.512     889.5 0.0041   164.8873 1614.1127   True\n",
      " 0.128    1.0 1129.2222    0.0    439.978 1818.4664   True\n",
      " 0.128    1.5    1124.0 0.0004   330.2265 1917.7735   True\n",
      " 0.128    2.0 1689.7647    0.0   999.4544  2380.075   True\n",
      " 0.128    3.0 2020.1111    0.0  1324.8472  2715.375   True\n",
      " 0.128    4.0 2299.0476    0.0  1596.9672  3001.128   True\n",
      " 0.128    6.0 2984.1667    0.0  2259.5539 3708.7794   True\n",
      " 0.512    1.0  239.7222 0.3377   -76.5247  555.9692  False\n",
      " 0.512    1.5     234.5 0.9262  -270.5058  739.5058  False\n",
      " 0.512    2.0  800.2647    0.0   481.7009 1118.8285   True\n",
      " 0.512    3.0 1130.6111    0.0   801.4509 1459.7713   True\n",
      " 0.512    4.0 1409.5476    0.0  1066.2235 1752.8717   True\n",
      " 0.512    6.0 2094.6667    0.0  1707.3449 2481.9885   True\n",
      "   1.0    1.5   -5.2222    1.0  -458.0189  447.5745  False\n",
      "   1.0    2.0  560.5425    0.0   333.6574  787.4275   True\n",
      "   1.0    3.0  890.8889    0.0   649.3513 1132.4265   True\n",
      "   1.0    4.0 1169.8254    0.0   909.3156 1430.3352   True\n",
      "   1.0    6.0 1854.9444    0.0  1538.6975 2171.1914   True\n",
      "   1.5    2.0  565.7647 0.0033   111.3468 1020.1826   True\n",
      "   1.5    3.0  896.1111    0.0   434.2029 1358.0193   True\n",
      "   1.5    4.0 1175.0476    0.0   702.9415 1647.1537   True\n",
      "   1.5    6.0 1860.1667    0.0  1355.1608 2365.1725   True\n",
      "   2.0    3.0  330.3464 0.0009    85.7832  574.9096   True\n",
      "   2.0    4.0  609.2829    0.0   345.9654  872.6005   True\n",
      "   2.0    6.0  1294.402    0.0   975.8382 1612.9657   True\n",
      "   3.0    4.0  278.9365 0.0452     2.8936  554.9795   True\n",
      "   3.0    6.0  964.0556    0.0   634.8953 1293.2158   True\n",
      "   4.0    6.0   685.119    0.0    341.795 1028.4431   True\n",
      "----------------------------------------------------------\n"
     ]
    }
   ],
   "source": [
    "tukey = pairwise_tukeyhsd(df.Price,df.ram,alpha=0.05)\n",
    "print (tukey)"
   ]
  },
  {
   "cell_type": "code",
   "execution_count": 76,
   "id": "37474099",
   "metadata": {},
   "outputs": [],
   "source": [
    "df['ram'].replace({0.004:0.0},inplace=True)\n",
    "df['ram'].replace({0.008:0.0},inplace=True)\n",
    "df['ram'].replace({0.032:0.0},inplace=True)\n",
    "df['ram'].replace({0.128:0.0},inplace=True)\n",
    "df['ram'].replace({0.512:0.0},inplace=True)\n",
    "df['ram'].replace({1.0:0.0},inplace=True)\n",
    "df['ram'].replace({1.5:0.0},inplace=True)"
   ]
  },
  {
   "cell_type": "code",
   "execution_count": 77,
   "id": "14266b51",
   "metadata": {},
   "outputs": [
    {
     "name": "stdout",
     "output_type": "stream",
     "text": [
      "   Multiple Comparison of Means - Tukey HSD, FWER=0.05   \n",
      "=========================================================\n",
      "group1 group2  meandiff p-adj    lower     upper   reject\n",
      "---------------------------------------------------------\n",
      "   0.0    2.0  801.4363    0.0  582.1263 1020.7464   True\n",
      "   0.0    3.0 1131.7828    0.0  894.3616 1369.2039   True\n",
      "   0.0    4.0 1410.7193    0.0 1150.2425 1671.1961   True\n",
      "   0.0    6.0 2095.8383    0.0 1769.3555 2422.3211   True\n",
      "   2.0    3.0  330.3464 0.0076   61.8624  598.8304   True\n",
      "   2.0    4.0  609.2829    0.0  320.2103  898.3556   True\n",
      "   2.0    6.0  1294.402    0.0  944.6794 1644.1245   True\n",
      "   3.0    4.0  278.9365 0.0871  -24.1062  581.9792  False\n",
      "   3.0    6.0  964.0556    0.0  602.7001  1325.411   True\n",
      "   4.0    6.0   685.119    0.0  308.2144 1062.0237   True\n",
      "---------------------------------------------------------\n"
     ]
    }
   ],
   "source": [
    "tukey = pairwise_tukeyhsd(df.Price,df.ram,alpha=0.05)\n",
    "print (tukey)"
   ]
  },
  {
   "cell_type": "code",
   "execution_count": 78,
   "id": "2b6f3b61",
   "metadata": {},
   "outputs": [],
   "source": [
    "df['ram'].replace({4.0:3.0},inplace=True)"
   ]
  },
  {
   "cell_type": "code",
   "execution_count": 79,
   "id": "ce47f165",
   "metadata": {},
   "outputs": [
    {
     "name": "stdout",
     "output_type": "stream",
     "text": [
      "  Multiple Comparison of Means - Tukey HSD, FWER=0.05   \n",
      "========================================================\n",
      "group1 group2  meandiff p-adj   lower     upper   reject\n",
      "--------------------------------------------------------\n",
      "   0.0    2.0  801.4363   0.0    591.54 1011.3327   True\n",
      "   0.0    3.0 1253.8175   0.0 1065.3173 1442.3177   True\n",
      "   0.0    6.0 2095.8383   0.0 1783.3696  2408.307   True\n",
      "   2.0    3.0  452.3811   0.0  228.9376  675.8247   True\n",
      "   2.0    6.0  1294.402   0.0  959.6911 1629.1128   True\n",
      "   3.0    6.0  842.0208   0.0  520.2954 1163.7462   True\n",
      "--------------------------------------------------------\n"
     ]
    }
   ],
   "source": [
    "tukey = pairwise_tukeyhsd(df.Price,df.ram,alpha=0.05)\n",
    "print (tukey)"
   ]
  },
  {
   "cell_type": "code",
   "execution_count": 80,
   "id": "b7d0ef1a",
   "metadata": {},
   "outputs": [
    {
     "data": {
      "text/plain": [
       "Index(['Product_id', 'Price', 'Sale', 'weight', 'resoloution', 'ppi',\n",
       "       'cpu_core', 'cpu_freq', 'internal_mem', 'ram', 'RearCam', 'Front_Cam',\n",
       "       'battery', 'thickness'],\n",
       "      dtype='object')"
      ]
     },
     "execution_count": 80,
     "metadata": {},
     "output_type": "execute_result"
    }
   ],
   "source": [
    "df.columns"
   ]
  },
  {
   "cell_type": "markdown",
   "id": "29dd209d",
   "metadata": {},
   "source": [
    "# RearCam"
   ]
  },
  {
   "cell_type": "code",
   "execution_count": 81,
   "id": "9f95cb62",
   "metadata": {},
   "outputs": [
    {
     "data": {
      "text/plain": [
       "13.00    27\n",
       "16.00    24\n",
       "8.00     23\n",
       "5.00     22\n",
       "12.00    12\n",
       "2.00     10\n",
       "0.00      8\n",
       "3.15      6\n",
       "21.00     6\n",
       "20.00     5\n",
       "20.70     4\n",
       "3.00      2\n",
       "12.30     2\n",
       "10.00     2\n",
       "4.00      2\n",
       "1.30      2\n",
       "23.00     2\n",
       "21.50     2\n",
       "Name: RearCam, dtype: int64"
      ]
     },
     "execution_count": 81,
     "metadata": {},
     "output_type": "execute_result"
    }
   ],
   "source": [
    "df.RearCam.value_counts()"
   ]
  },
  {
   "cell_type": "code",
   "execution_count": 82,
   "id": "56affbda",
   "metadata": {},
   "outputs": [
    {
     "data": {
      "text/plain": [
       "(18,)"
      ]
     },
     "execution_count": 82,
     "metadata": {},
     "output_type": "execute_result"
    }
   ],
   "source": [
    "df.RearCam.unique().shape"
   ]
  },
  {
   "cell_type": "code",
   "execution_count": 83,
   "id": "e0560a96",
   "metadata": {},
   "outputs": [
    {
     "name": "stderr",
     "output_type": "stream",
     "text": [
      "C:\\Users\\91807\\anaconda3\\lib\\site-packages\\seaborn\\_decorators.py:36: FutureWarning: Pass the following variable as a keyword arg: x. From version 0.12, the only valid positional argument will be `data`, and passing other arguments without an explicit keyword will result in an error or misinterpretation.\n",
      "  warnings.warn(\n"
     ]
    },
    {
     "data": {
      "text/plain": [
       "<AxesSubplot:xlabel='RearCam'>"
      ]
     },
     "execution_count": 83,
     "metadata": {},
     "output_type": "execute_result"
    },
    {
     "data": {
      "image/png": "[encoded data removed]",
      "text/plain": [
       "<Figure size 432x288 with 1 Axes>"
      ]
     },
     "metadata": {
      "needs_background": "light"
     },
     "output_type": "display_data"
    }
   ],
   "source": [
    "sns.boxplot(df.RearCam)"
   ]
  },
  {
   "cell_type": "code",
   "execution_count": 84,
   "id": "0431d90f",
   "metadata": {},
   "outputs": [
    {
     "name": "stderr",
     "output_type": "stream",
     "text": [
      "C:\\Users\\91807\\anaconda3\\lib\\site-packages\\seaborn\\distributions.py:2619: FutureWarning: `distplot` is a deprecated function and will be removed in a future version. Please adapt your code to use either `displot` (a figure-level function with similar flexibility) or `histplot` (an axes-level function for histograms).\n",
      "  warnings.warn(msg, FutureWarning)\n"
     ]
    },
    {
     "data": {
      "text/plain": [
       "<AxesSubplot:xlabel='RearCam', ylabel='Density'>"
      ]
     },
     "execution_count": 84,
     "metadata": {},
     "output_type": "execute_result"
    },
    {
     "data": {
      "image/png": "[encoded data removed]",
      "text/plain": [
       "<Figure size 432x288 with 1 Axes>"
      ]
     },
     "metadata": {
      "needs_background": "light"
     },
     "output_type": "display_data"
    }
   ],
   "source": [
    "sns.distplot(df.RearCam)"
   ]
  },
  {
   "cell_type": "code",
   "execution_count": 85,
   "id": "d4d79bed",
   "metadata": {},
   "outputs": [
    {
     "data": {
      "text/plain": [
       "Index(['Product_id', 'Price', 'Sale', 'weight', 'resoloution', 'ppi',\n",
       "       'cpu_core', 'cpu_freq', 'internal_mem', 'ram', 'RearCam', 'Front_Cam',\n",
       "       'battery', 'thickness'],\n",
       "      dtype='object')"
      ]
     },
     "execution_count": 85,
     "metadata": {},
     "output_type": "execute_result"
    }
   ],
   "source": [
    "df.columns"
   ]
  },
  {
   "cell_type": "markdown",
   "id": "f8e154d2",
   "metadata": {},
   "source": [
    "# Front_Cam"
   ]
  },
  {
   "cell_type": "code",
   "execution_count": 86,
   "id": "bedc601d",
   "metadata": {},
   "outputs": [
    {
     "data": {
      "text/plain": [
       "0.0     42\n",
       "5.0     42\n",
       "8.0     29\n",
       "2.0     15\n",
       "16.0     8\n",
       "1.2      4\n",
       "5.1      4\n",
       "13.0     4\n",
       "3.7      2\n",
       "4.0      2\n",
       "0.9      2\n",
       "1.0      2\n",
       "2.1      2\n",
       "2.2      2\n",
       "20.0     1\n",
       "Name: Front_Cam, dtype: int64"
      ]
     },
     "execution_count": 86,
     "metadata": {},
     "output_type": "execute_result"
    }
   ],
   "source": [
    "df.Front_Cam.value_counts()"
   ]
  },
  {
   "cell_type": "code",
   "execution_count": 87,
   "id": "ad79995f",
   "metadata": {},
   "outputs": [
    {
     "data": {
      "text/plain": [
       "(15,)"
      ]
     },
     "execution_count": 87,
     "metadata": {},
     "output_type": "execute_result"
    }
   ],
   "source": [
    "df.Front_Cam.unique().shape"
   ]
  },
  {
   "cell_type": "code",
   "execution_count": 88,
   "id": "de8ee827",
   "metadata": {},
   "outputs": [
    {
     "name": "stderr",
     "output_type": "stream",
     "text": [
      "C:\\Users\\91807\\anaconda3\\lib\\site-packages\\seaborn\\_decorators.py:36: FutureWarning: Pass the following variable as a keyword arg: x. From version 0.12, the only valid positional argument will be `data`, and passing other arguments without an explicit keyword will result in an error or misinterpretation.\n",
      "  warnings.warn(\n"
     ]
    },
    {
     "data": {
      "text/plain": [
       "<AxesSubplot:xlabel='Front_Cam', ylabel='count'>"
      ]
     },
     "execution_count": 88,
     "metadata": {},
     "output_type": "execute_result"
    },
    {
     "data": {
      "image/png": "[encoded data removed]",
      "text/plain": [
       "<Figure size 432x288 with 1 Axes>"
      ]
     },
     "metadata": {
      "needs_background": "light"
     },
     "output_type": "display_data"
    }
   ],
   "source": [
    "sns.countplot(df.Front_Cam)"
   ]
  },
  {
   "cell_type": "code",
   "execution_count": 89,
   "id": "f65a34ad",
   "metadata": {},
   "outputs": [
    {
     "name": "stdout",
     "output_type": "stream",
     "text": [
      "                 sum_sq     df          F  PR(>F)\n",
      "Front_Cam  4.305565e+07    1.0  133.28572     0.0\n",
      "Residual   5.136220e+07  159.0        NaN     NaN\n"
     ]
    }
   ],
   "source": [
    "annova=ols('Price ~ Front_Cam',data=df).fit()\n",
    "an=sm.stats.anova_lm(annova,typ=2)\n",
    "print(an.round(decimals=5))"
   ]
  },
  {
   "cell_type": "code",
   "execution_count": 90,
   "id": "59cabf0b",
   "metadata": {},
   "outputs": [
    {
     "name": "stdout",
     "output_type": "stream",
     "text": [
      "   Multiple Comparison of Means - Tukey HSD, FWER=0.05    \n",
      "==========================================================\n",
      "group1 group2  meandiff p-adj    lower      upper   reject\n",
      "----------------------------------------------------------\n",
      "   0.0    0.9  362.4762  0.999  -793.1526  1518.105  False\n",
      "   0.0    1.0  687.4762 0.7631  -468.1526  1843.105  False\n",
      "   0.0    1.2  397.4762 0.9463   -438.042 1232.9944  False\n",
      "   0.0    2.0  893.0095    0.0   412.7248 1373.2943   True\n",
      "   0.0    2.1 1152.4762 0.0514    -3.1526  2308.105  False\n",
      "   0.0    2.2 1194.4762 0.0352    38.8474  2350.105   True\n",
      "   0.0    3.7 1430.4762 0.0031   274.8474  2586.105   True\n",
      "   0.0    4.0  628.4762 0.8608  -527.1526  1784.105  False\n",
      "   0.0    5.0 1045.9048    0.0   697.4696   1394.34   True\n",
      "   0.0    5.1 1895.4762    0.0   1059.958 2730.9944   True\n",
      "   0.0    8.0 1612.2348    0.0  1226.7234 1997.7462   True\n",
      "   0.0   13.0 1610.9762    0.0    775.458 2446.4944   True\n",
      "   0.0   16.0 1585.2262    0.0    969.274 2201.1784   True\n",
      "   0.0   20.0 1946.4762 0.0047   330.8487 3562.1037   True\n",
      "   0.9    1.0     325.0    1.0 -1271.7306 1921.7306  False\n",
      "   0.9    1.2      35.0    1.0 -1347.8093 1417.8093  False\n",
      "   0.9    2.0  530.5333 0.9708  -671.4418 1732.5085  False\n",
      "   0.9    2.1     790.0 0.9277  -806.7306 2386.7306  False\n",
      "   0.9    2.2     832.0 0.8953  -764.7306 2428.7306  False\n",
      "   0.9    3.7    1068.0 0.5864  -528.7306 2664.7306  False\n",
      "   0.9    4.0     266.0    1.0 -1330.7306 1862.7306  False\n",
      "   0.9    5.0  683.4286 0.7706  -472.2002 1839.0574  False\n",
      "   0.9    5.1    1533.0 0.0153   150.1907 2915.8093   True\n",
      "   0.9    8.0 1249.7586 0.0235    82.4155 2417.1017   True\n",
      "   0.9   13.0    1248.5 0.1254  -134.3093 2631.3093  False\n",
      "   0.9   16.0   1222.75 0.0683   -39.5764 2485.0764  False\n",
      "   0.9   20.0    1584.0 0.2616  -371.5877 3539.5877  False\n",
      "   1.0    1.2    -290.0    1.0 -1672.8093 1092.8093  False\n",
      "   1.0    2.0  205.5333    1.0  -996.4418 1407.5085  False\n",
      "   1.0    2.1     465.0 0.9996 -1131.7306 2061.7306  False\n",
      "   1.0    2.2     507.0 0.9988 -1089.7306 2103.7306  False\n",
      "   1.0    3.7     743.0 0.9549  -853.7306 2339.7306  False\n",
      "   1.0    4.0     -59.0    1.0 -1655.7306 1537.7306  False\n",
      "   1.0    5.0  358.4286 0.9991  -797.2002 1514.0574  False\n",
      "   1.0    5.1    1208.0 0.1607  -174.8093 2590.8093  False\n",
      "   1.0    8.0  924.7586 0.2959  -242.5845 2092.1017  False\n",
      "   1.0   13.0     923.5  0.589  -459.3093 2306.3093  False\n",
      "   1.0   16.0    897.75 0.4799  -364.5764 2160.0764  False\n",
      "   1.0   20.0    1259.0 0.6491  -696.5877 3214.5877  False\n",
      "   1.2    2.0  495.5333 0.8479  -402.9972 1394.0639  False\n",
      "   1.2    2.1     755.0 0.8573  -627.8093 2137.8093  False\n",
      "   1.2    2.2     797.0 0.8016  -585.8093 2179.8093  False\n",
      "   1.2    3.7    1033.0 0.3937  -349.8093 2415.8093  False\n",
      "   1.2    4.0     231.0    1.0 -1151.8093 1613.8093  False\n",
      "   1.2    5.0  648.4286 0.3291  -187.0897 1483.9468  False\n",
      "   1.2    5.1    1498.0 0.0009   368.9409 2627.0591   True\n",
      "   1.2    8.0 1214.7586 0.0002   363.1116 2066.4056   True\n",
      "   1.2   13.0    1213.5 0.0225    84.4409 2342.5591   True\n",
      "   1.2   16.0   1187.75 0.0042   209.9562 2165.5438   True\n",
      "   1.2   20.0    1549.0 0.1686  -236.1991 3334.1991  False\n",
      "   2.0    2.1  259.4667    1.0  -942.5085 1461.4418  False\n",
      "   2.0    2.2  301.4667 0.9999  -900.5085 1503.4418  False\n",
      "   2.0    3.7  537.4667 0.9675  -664.5085 1739.4418  False\n",
      "   2.0    4.0 -264.5333    1.0 -1466.5085  937.4418  False\n",
      "   2.0    5.0  152.8952 0.9988  -327.3895    633.18  False\n",
      "   2.0    5.1 1002.4667 0.0141   103.9361 1900.9972   True\n",
      "   2.0    8.0  719.2253 0.0003   211.4011 1227.0495   True\n",
      "   2.0   13.0  717.9667 0.2824  -180.5639 1616.4972  False\n",
      "   2.0   16.0  692.2167 0.0552     -6.828 1391.2614  False\n",
      "   2.0   20.0 1053.4667 0.6614  -595.6296  2702.563  False\n",
      "   2.1    2.2      42.0    1.0 -1554.7306 1638.7306  False\n",
      "   2.1    3.7     278.0    1.0 -1318.7306 1874.7306  False\n",
      "   2.1    4.0    -524.0 0.9983 -2120.7306 1072.7306  False\n",
      "   2.1    5.0 -106.5714    1.0 -1262.2002 1049.0574  False\n",
      "   2.1    5.1     743.0 0.8713  -639.8093 2125.8093  False\n",
      "   2.1    8.0  459.7586 0.9895  -707.5845 1627.1017  False\n",
      "   2.1   13.0     458.5 0.9981  -924.3093 1841.3093  False\n",
      "   2.1   16.0    432.75 0.9974  -829.5764 1695.0764  False\n",
      "   2.1   20.0     794.0 0.9861 -1161.5877 2749.5877  False\n",
      "   2.2    3.7     236.0    1.0 -1360.7306 1832.7306  False\n",
      "   2.2    4.0    -566.0 0.9963 -2162.7306 1030.7306  False\n",
      "   2.2    5.0 -148.5714    1.0 -1304.2002 1007.0574  False\n",
      "   2.2    5.1     701.0 0.9137  -681.8093 2083.8093  False\n",
      "   2.2    8.0  417.7586 0.9959  -749.5845 1585.1017  False\n",
      "   2.2   13.0     416.5 0.9993  -966.3093 1799.3093  False\n",
      "   2.2   16.0    390.75 0.9991  -871.5764 1653.0764  False\n",
      "   2.2   20.0     752.0 0.9917 -1203.5877 2707.5877  False\n",
      "   3.7    4.0    -802.0 0.9192 -2398.7306  794.7306  False\n",
      "   3.7    5.0 -384.5714 0.9981 -1540.2002  771.0574  False\n",
      "   3.7    5.1     465.0 0.9978  -917.8093 1847.8093  False\n",
      "   3.7    8.0  181.7586    1.0  -985.5845 1349.1017  False\n",
      "   3.7   13.0     180.5    1.0 -1202.3093 1563.3093  False\n",
      "   3.7   16.0    154.75    1.0 -1107.5764 1417.0764  False\n",
      "   3.7   20.0     516.0 0.9999 -1439.5877 2471.5877  False\n",
      "   4.0    5.0  417.4286 0.9955  -738.2002 1573.0574  False\n",
      "   4.0    5.1    1267.0 0.1115  -115.8093 2649.8093  False\n",
      "   4.0    8.0  983.7586 0.2054  -183.5845 2151.1017  False\n",
      "   4.0   13.0     982.5 0.4816  -400.3093 2365.3093  False\n",
      "   4.0   16.0    956.75 0.3688  -305.5764 2219.0764  False\n",
      "   4.0   20.0    1318.0 0.5736  -637.5877 3273.5877  False\n",
      "   5.0    5.1  849.5714  0.042    14.0532 1685.0897   True\n",
      "   5.0    8.0    566.33 0.0001   180.8187  951.8414   True\n",
      "   5.0   13.0  565.0714 0.5676  -270.4468 1400.5897  False\n",
      "   5.0   16.0  539.3214 0.1581   -76.6308 1155.2736  False\n",
      "   5.0   20.0  900.5714 0.8375  -715.0561 2516.1989  False\n",
      "   5.1    8.0 -283.2414 0.9981 -1134.8884  568.4056  False\n",
      "   5.1   13.0    -284.5 0.9999 -1413.5591  844.5591  False\n",
      "   5.1   16.0   -310.25 0.9988 -1288.0438  667.5438  False\n",
      "   5.1   20.0      51.0    1.0 -1734.1991 1836.1991  False\n",
      "   8.0   13.0   -1.2586    1.0  -852.9056  850.3884  False\n",
      "   8.0   16.0  -27.0086    1.0  -664.6677  610.6504  False\n",
      "   8.0   20.0  334.2414    1.0 -1289.7858 1958.2685  False\n",
      "  13.0   16.0    -25.75    1.0 -1003.5438  952.0438  False\n",
      "  13.0   20.0     335.5    1.0 -1449.6991 2120.6991  False\n",
      "  16.0   20.0    361.25    1.0 -1332.3386 2054.8386  False\n",
      "----------------------------------------------------------\n"
     ]
    }
   ],
   "source": [
    "tukey = pairwise_tukeyhsd(df.Price,df.Front_Cam,alpha=0.05)\n",
    "print (tukey)"
   ]
  },
  {
   "cell_type": "code",
   "execution_count": 91,
   "id": "7961c843",
   "metadata": {},
   "outputs": [],
   "source": [
    "df['Front_Cam'].replace({0.9:0.0},inplace=True)\n",
    "df['Front_Cam'].replace({0.1:0.0},inplace=True)\n",
    "df['Front_Cam'].replace({1.2:0.0},inplace=True)\n",
    "df['Front_Cam'].replace({2.1:0.0},inplace=True)\n",
    "df['Front_Cam'].replace({4.0:0.0},inplace=True)\n",
    "df['Front_Cam'].replace({1.0:0.9},inplace=True)\n",
    "df['Front_Cam'].replace({1.2:0.9},inplace=True)"
   ]
  },
  {
   "cell_type": "code",
   "execution_count": 92,
   "id": "a82aa9e4",
   "metadata": {},
   "outputs": [
    {
     "name": "stdout",
     "output_type": "stream",
     "text": [
      "   Multiple Comparison of Means - Tukey HSD, FWER=0.05    \n",
      "==========================================================\n",
      "group1 group2  meandiff p-adj    lower      upper   reject\n",
      "----------------------------------------------------------\n",
      "   0.0    0.9  574.4615  0.857  -562.4716 1711.3946  False\n",
      "   0.0    2.0  779.9949    0.0   317.5662 1242.4236   True\n",
      "   0.0    2.2 1081.4615 0.0779   -55.4716 2218.3946  False\n",
      "   0.0    3.7 1317.4615 0.0097   180.5284 2454.3946   True\n",
      "   0.0    5.0  932.8901   -0.0   605.5552  1260.225   True\n",
      "   0.0    5.1 1782.4615    0.0   963.7761 2601.1469   True\n",
      "   0.0    8.0 1499.2202   -0.0  1133.5441 1864.8962   True\n",
      "   0.0   13.0 1497.9615    0.0   679.2761 2316.6469   True\n",
      "   0.0   16.0 1472.2115    0.0   872.9952 2071.4279   True\n",
      "   0.0   20.0 1833.4615 0.0106   240.5526 3426.3705   True\n",
      "   0.9    2.0  205.5333    1.0  -982.1989 1393.2655  False\n",
      "   0.9    2.2     507.0 0.9933   -1070.81   2084.81  False\n",
      "   0.9    3.7     743.0  0.904    -834.81   2320.81  False\n",
      "   0.9    5.0  358.4286 0.9945  -783.5065 1500.3636  False\n",
      "   0.9    5.1    1208.0 0.1363  -158.4235 2574.4235  False\n",
      "   0.9    8.0  924.7586 0.2477  -228.7519 2078.2691  False\n",
      "   0.9   13.0     923.5 0.5019  -442.9235 2289.9235  False\n",
      "   0.9   16.0    897.75 0.4043  -349.6183 2145.1183  False\n",
      "   0.9   20.0    1259.0 0.5581  -673.4147 3191.4147  False\n",
      "   2.0    2.2  301.4667 0.9991  -886.2655 1489.1989  False\n",
      "   2.0    3.7  537.4667 0.9245  -650.2655 1725.1989  False\n",
      "   2.0    5.0  152.8952 0.9932  -321.6983  627.4888  False\n",
      "   2.0    5.1 1002.4667 0.0135   114.5834 1890.3499   True\n",
      "   2.0    8.0  719.2253 0.0003   217.4186 1221.0319   True\n",
      "   2.0   13.0  717.9667 0.2365  -169.9166 1605.8499  False\n",
      "   2.0   16.0  692.2167  0.049     1.4554  1382.978   True\n",
      "   2.0   20.0 1053.4667 0.5697  -576.0885 2683.0218  False\n",
      "   2.2    3.7     236.0    1.0   -1341.81   1813.81  False\n",
      "   2.2    5.0 -148.5714    1.0 -1290.5065  993.3636  False\n",
      "   2.2    5.1     701.0 0.8448  -665.4235 2067.4235  False\n",
      "   2.2    8.0  417.7586 0.9834  -735.7519 1571.2691  False\n",
      "   2.2   13.0     416.5 0.9956  -949.9235 1782.9235  False\n",
      "   2.2   16.0    390.75 0.9945  -856.6183 1638.1183  False\n",
      "   2.2   20.0     752.0 0.9721 -1180.4147 2684.4147  False\n",
      "   3.7    5.0 -384.5714 0.9904 -1526.5065  757.3636  False\n",
      "   3.7    5.1     465.0 0.9896  -901.4235 1831.4235  False\n",
      "   3.7    8.0  181.7586    1.0  -971.7519 1335.2691  False\n",
      "   3.7   13.0     180.5    1.0 -1185.9235 1546.9235  False\n",
      "   3.7   16.0    154.75    1.0 -1092.6183 1402.1183  False\n",
      "   3.7   20.0     516.0 0.9985 -1416.4147 2448.4147  False\n",
      "   5.0    5.1  849.5714 0.0379    23.9538 1675.1891   True\n",
      "   5.0    8.0    566.33 0.0002   185.3868  947.2733   True\n",
      "   5.0   13.0  565.0714 0.4824  -260.5462 1390.6891  False\n",
      "   5.0   16.0  539.3214 0.1341    -69.332 1147.9748  False\n",
      "   5.0   20.0  900.5714 0.7518  -695.9115 2497.0544  False\n",
      "   5.1    8.0 -283.2414 0.9904 -1124.7967  558.3139  False\n",
      "   5.1   13.0    -284.5  0.999 -1400.1801  831.1801  False\n",
      "   5.1   16.0   -310.25 0.9934 -1276.4573  655.9573  False\n",
      "   5.1   20.0      51.0    1.0 -1713.0452 1815.0452  False\n",
      "   8.0   13.0   -1.2586    1.0  -842.8139  840.2967  False\n",
      "   8.0   16.0  -27.0086    1.0  -657.1117  603.0944  False\n",
      "   8.0   20.0  334.2414 0.9998 -1270.5417 1939.0244  False\n",
      "  13.0   16.0    -25.75    1.0  -991.9573  940.4573  False\n",
      "  13.0   20.0     335.5 0.9999 -1428.5452 2099.5452  False\n",
      "  16.0   20.0    361.25 0.9998 -1312.2702 2034.7702  False\n",
      "----------------------------------------------------------\n"
     ]
    }
   ],
   "source": [
    "tukey = pairwise_tukeyhsd(df.Price,df.Front_Cam,alpha=0.05)\n",
    "print (tukey)"
   ]
  },
  {
   "cell_type": "code",
   "execution_count": 93,
   "id": "b989d3de",
   "metadata": {},
   "outputs": [],
   "source": [
    "df['Front_Cam'].replace({0.9:0.0},inplace=True)\n",
    "df['Front_Cam'].replace({2.2:0.0},inplace=True)\n",
    "df['Front_Cam'].replace({2.0:0.9},inplace=True)\n",
    "df['Front_Cam'].replace({2.2:0.9},inplace=True)\n",
    "df['Front_Cam'].replace({3.7:0.9},inplace=True)\n",
    "df['Front_Cam'].replace({5.0:0.9},inplace=True)\n",
    "df['Front_Cam'].replace({5.1:0.9},inplace=True)"
   ]
  },
  {
   "cell_type": "code",
   "execution_count": 94,
   "id": "cf5df401",
   "metadata": {},
   "outputs": [
    {
     "name": "stdout",
     "output_type": "stream",
     "text": [
      "   Multiple Comparison of Means - Tukey HSD, FWER=0.05    \n",
      "==========================================================\n",
      "group1 group2  meandiff p-adj    lower      upper   reject\n",
      "----------------------------------------------------------\n",
      "   0.0    0.9   903.496   -0.0   630.1776 1176.8145   True\n",
      "   0.0    8.0   1440.08   -0.0  1099.6121  1780.548   True\n",
      "   0.0   13.0 1438.8214    0.0   668.6075 2209.0353   True\n",
      "   0.0   16.0 1413.0714    0.0   850.5867 1975.5561   True\n",
      "   0.0   20.0 1774.3214 0.0105   272.8981 3275.7447   True\n",
      "   0.9    8.0   536.584 0.0001   202.6318  870.5363   True\n",
      "   0.9   13.0  535.3254 0.3397  -232.0306 1302.6814  False\n",
      "   0.9   16.0  509.5754 0.0956   -48.9895 1068.1403  False\n",
      "   0.9   20.0  870.8254 0.5501  -629.1338 2370.7846  False\n",
      "   8.0   13.0   -1.2586    1.0  -795.0159  792.4986  False\n",
      "   8.0   16.0  -27.0086    1.0  -621.3235  567.3063  False\n",
      "   8.0   20.0  334.2414  0.988 -1179.3943 1847.8771  False\n",
      "  13.0   16.0    -25.75    1.0  -937.0794  885.5794  False\n",
      "  13.0   20.0     335.5 0.9921 -1328.3522 1999.3522  False\n",
      "  16.0   20.0    361.25 0.9859 -1217.2188 1939.7188  False\n",
      "----------------------------------------------------------\n"
     ]
    }
   ],
   "source": [
    "tukey = pairwise_tukeyhsd(df.Price,df.Front_Cam,alpha=0.05)\n",
    "print (tukey)"
   ]
  },
  {
   "cell_type": "code",
   "execution_count": 95,
   "id": "4717bf36",
   "metadata": {},
   "outputs": [],
   "source": [
    "df['Front_Cam'].replace({13.0:0.9},inplace=True)\n",
    "df['Front_Cam'].replace({16.0:0.9},inplace=True)\n",
    "df['Front_Cam'].replace({20.0:0.9},inplace=True)\n",
    "df['Front_Cam'].replace({13.0:0.8},inplace=True)\n",
    "df['Front_Cam'].replace({16.0:0.8},inplace=True)"
   ]
  },
  {
   "cell_type": "code",
   "execution_count": 96,
   "id": "e5359d91",
   "metadata": {},
   "outputs": [
    {
     "name": "stdout",
     "output_type": "stream",
     "text": [
      "  Multiple Comparison of Means - Tukey HSD, FWER=0.05   \n",
      "========================================================\n",
      "group1 group2 meandiff p-adj    lower     upper   reject\n",
      "--------------------------------------------------------\n",
      "   0.0    0.9 996.7688   -0.0  775.5246  1218.013   True\n",
      "   0.0    8.0  1440.08   -0.0 1152.6698 1727.4903   True\n",
      "   0.9    8.0 443.3113 0.0005  169.1067  717.5158   True\n",
      "--------------------------------------------------------\n"
     ]
    }
   ],
   "source": [
    "tukey = pairwise_tukeyhsd(df.Price,df.Front_Cam,alpha=0.05)\n",
    "print (tukey)"
   ]
  },
  {
   "cell_type": "code",
   "execution_count": 97,
   "id": "366fe687",
   "metadata": {},
   "outputs": [
    {
     "data": {
      "text/plain": [
       "Index(['Product_id', 'Price', 'Sale', 'weight', 'resoloution', 'ppi',\n",
       "       'cpu_core', 'cpu_freq', 'internal_mem', 'ram', 'RearCam', 'Front_Cam',\n",
       "       'battery', 'thickness'],\n",
       "      dtype='object')"
      ]
     },
     "execution_count": 97,
     "metadata": {},
     "output_type": "execute_result"
    }
   ],
   "source": [
    "df.columns"
   ]
  },
  {
   "cell_type": "markdown",
   "id": "d684969d",
   "metadata": {},
   "source": [
    "# battery"
   ]
  },
  {
   "cell_type": "code",
   "execution_count": 98,
   "id": "9f43c873",
   "metadata": {},
   "outputs": [
    {
     "data": {
      "text/plain": [
       "3000    13\n",
       "2500     8\n",
       "3200     6\n",
       "4000     6\n",
       "2300     6\n",
       "2000     5\n",
       "2100     4\n",
       "2200     4\n",
       "2700     4\n",
       "3500     4\n",
       "3400     4\n",
       "2600     4\n",
       "2930     4\n",
       "3050     4\n",
       "800      4\n",
       "2800     4\n",
       "5000     2\n",
       "1500     2\n",
       "7000     2\n",
       "4450     2\n",
       "1830     2\n",
       "1100     2\n",
       "3430     2\n",
       "850      2\n",
       "1900     2\n",
       "950      2\n",
       "1730     2\n",
       "2580     2\n",
       "900      2\n",
       "9500     2\n",
       "3100     2\n",
       "4500     2\n",
       "3630     2\n",
       "4080     2\n",
       "3600     2\n",
       "2250     2\n",
       "1400     2\n",
       "1560     2\n",
       "2040     2\n",
       "3450     2\n",
       "2900     2\n",
       "1905     2\n",
       "1200     2\n",
       "7400     2\n",
       "2450     2\n",
       "3240     2\n",
       "1600     2\n",
       "2390     2\n",
       "2820     2\n",
       "3350     2\n",
       "3140     2\n",
       "1700     2\n",
       "4060     2\n",
       "1840     2\n",
       "2610     1\n",
       "Name: battery, dtype: int64"
      ]
     },
     "execution_count": 98,
     "metadata": {},
     "output_type": "execute_result"
    }
   ],
   "source": [
    "df.battery.value_counts()"
   ]
  },
  {
   "cell_type": "code",
   "execution_count": 99,
   "id": "39371f8e",
   "metadata": {},
   "outputs": [
    {
     "name": "stderr",
     "output_type": "stream",
     "text": [
      "C:\\Users\\91807\\anaconda3\\lib\\site-packages\\seaborn\\_decorators.py:36: FutureWarning: Pass the following variable as a keyword arg: x. From version 0.12, the only valid positional argument will be `data`, and passing other arguments without an explicit keyword will result in an error or misinterpretation.\n",
      "  warnings.warn(\n"
     ]
    },
    {
     "data": {
      "text/plain": [
       "<AxesSubplot:xlabel='battery'>"
      ]
     },
     "execution_count": 99,
     "metadata": {},
     "output_type": "execute_result"
    },
    {
     "data": {
      "image/png": "[encoded data removed]",
      "text/plain": [
       "<Figure size 432x288 with 1 Axes>"
      ]
     },
     "metadata": {
      "needs_background": "light"
     },
     "output_type": "display_data"
    }
   ],
   "source": [
    "sns.boxplot(df.battery)"
   ]
  },
  {
   "cell_type": "code",
   "execution_count": 100,
   "id": "94b07848",
   "metadata": {},
   "outputs": [],
   "source": [
    "iqr=stats.iqr(df.battery)\n",
    "q3=df.battery.quantile(0.75)\n",
    "upper_bond_battery=q3+(1.5*iqr)"
   ]
  },
  {
   "cell_type": "code",
   "execution_count": 101,
   "id": "ad2830d8",
   "metadata": {},
   "outputs": [],
   "source": [
    "df.battery=np.where(df.battery>upper_bond_battery,upper_bond_battery,df.battery)"
   ]
  },
  {
   "cell_type": "code",
   "execution_count": 102,
   "id": "16c6e5e2",
   "metadata": {},
   "outputs": [
    {
     "name": "stderr",
     "output_type": "stream",
     "text": [
      "C:\\Users\\91807\\anaconda3\\lib\\site-packages\\seaborn\\_decorators.py:36: FutureWarning: Pass the following variable as a keyword arg: x. From version 0.12, the only valid positional argument will be `data`, and passing other arguments without an explicit keyword will result in an error or misinterpretation.\n",
      "  warnings.warn(\n"
     ]
    },
    {
     "data": {
      "text/plain": [
       "<AxesSubplot:xlabel='battery'>"
      ]
     },
     "execution_count": 102,
     "metadata": {},
     "output_type": "execute_result"
    },
    {
     "data": {
      "image/png": "[encoded data removed]",
      "text/plain": [
       "<Figure size 432x288 with 1 Axes>"
      ]
     },
     "metadata": {
      "needs_background": "light"
     },
     "output_type": "display_data"
    }
   ],
   "source": [
    "sns.boxplot(df.battery)"
   ]
  },
  {
   "cell_type": "code",
   "execution_count": 103,
   "id": "a20d814f",
   "metadata": {},
   "outputs": [
    {
     "data": {
      "text/plain": [
       "Index(['Product_id', 'Price', 'Sale', 'weight', 'resoloution', 'ppi',\n",
       "       'cpu_core', 'cpu_freq', 'internal_mem', 'ram', 'RearCam', 'Front_Cam',\n",
       "       'battery', 'thickness'],\n",
       "      dtype='object')"
      ]
     },
     "execution_count": 103,
     "metadata": {},
     "output_type": "execute_result"
    }
   ],
   "source": [
    "df.columns"
   ]
  },
  {
   "cell_type": "markdown",
   "id": "3e1af36c",
   "metadata": {},
   "source": [
    "# thickness"
   ]
  },
  {
   "cell_type": "code",
   "execution_count": 104,
   "id": "8b03fded",
   "metadata": {},
   "outputs": [
    {
     "data": {
      "text/plain": [
       "8.5     10\n",
       "7.6      9\n",
       "8.0      8\n",
       "7.8      6\n",
       "8.4      6\n",
       "7.3      6\n",
       "5.1      6\n",
       "7.9      6\n",
       "7.4      5\n",
       "10.9     4\n",
       "7.0      4\n",
       "9.0      4\n",
       "9.1      4\n",
       "9.2      4\n",
       "7.5      4\n",
       "8.1      4\n",
       "7.7      4\n",
       "8.9      4\n",
       "10.0     4\n",
       "8.2      3\n",
       "11.0     2\n",
       "12.9     2\n",
       "11.7     2\n",
       "12.4     2\n",
       "9.5      2\n",
       "8.8      2\n",
       "10.8     2\n",
       "15.6     2\n",
       "11.6     2\n",
       "6.3      2\n",
       "9.4      2\n",
       "18.5     2\n",
       "14.1     2\n",
       "10.2     2\n",
       "10.6     2\n",
       "9.7      2\n",
       "13.2     2\n",
       "9.3      2\n",
       "8.3      2\n",
       "12.3     2\n",
       "9.9      2\n",
       "8.7      2\n",
       "10.1     2\n",
       "10.3     2\n",
       "9.8      2\n",
       "5.9      2\n",
       "6.9      2\n",
       "6.4      1\n",
       "6.8      1\n",
       "Name: thickness, dtype: int64"
      ]
     },
     "execution_count": 104,
     "metadata": {},
     "output_type": "execute_result"
    }
   ],
   "source": [
    "df.thickness.value_counts()"
   ]
  },
  {
   "cell_type": "code",
   "execution_count": 105,
   "id": "d98d903d",
   "metadata": {},
   "outputs": [
    {
     "name": "stderr",
     "output_type": "stream",
     "text": [
      "C:\\Users\\91807\\anaconda3\\lib\\site-packages\\seaborn\\_decorators.py:36: FutureWarning: Pass the following variable as a keyword arg: x. From version 0.12, the only valid positional argument will be `data`, and passing other arguments without an explicit keyword will result in an error or misinterpretation.\n",
      "  warnings.warn(\n"
     ]
    },
    {
     "data": {
      "text/plain": [
       "<AxesSubplot:xlabel='thickness'>"
      ]
     },
     "execution_count": 105,
     "metadata": {},
     "output_type": "execute_result"
    },
    {
     "data": {
      "image/png": "[encoded data removed]",
      "text/plain": [
       "<Figure size 432x288 with 1 Axes>"
      ]
     },
     "metadata": {
      "needs_background": "light"
     },
     "output_type": "display_data"
    }
   ],
   "source": [
    "sns.boxplot(df.thickness)"
   ]
  },
  {
   "cell_type": "code",
   "execution_count": 106,
   "id": "d7a6e1ef",
   "metadata": {},
   "outputs": [],
   "source": [
    "iqr=stats.iqr(df.thickness)\n",
    "q3=df.thickness.quantile(0.75)\n",
    "upper_bond_thickness=q3+(1.5*iqr)"
   ]
  },
  {
   "cell_type": "code",
   "execution_count": 107,
   "id": "a38abe5e",
   "metadata": {},
   "outputs": [],
   "source": [
    "df.thickness=np.where(df.thickness>upper_bond_thickness,upper_bond_thickness,df.thickness)"
   ]
  },
  {
   "cell_type": "code",
   "execution_count": 108,
   "id": "9c1c9004",
   "metadata": {},
   "outputs": [
    {
     "name": "stderr",
     "output_type": "stream",
     "text": [
      "C:\\Users\\91807\\anaconda3\\lib\\site-packages\\seaborn\\_decorators.py:36: FutureWarning: Pass the following variable as a keyword arg: x. From version 0.12, the only valid positional argument will be `data`, and passing other arguments without an explicit keyword will result in an error or misinterpretation.\n",
      "  warnings.warn(\n"
     ]
    },
    {
     "data": {
      "text/plain": [
       "<AxesSubplot:xlabel='thickness'>"
      ]
     },
     "execution_count": 108,
     "metadata": {},
     "output_type": "execute_result"
    },
    {
     "data": {
      "image/png": "[encoded data removed]",
      "text/plain": [
       "<Figure size 432x288 with 1 Axes>"
      ]
     },
     "metadata": {
      "needs_background": "light"
     },
     "output_type": "display_data"
    }
   ],
   "source": [
    "sns.boxplot(df.thickness)"
   ]
  },
  {
   "cell_type": "code",
   "execution_count": 109,
   "id": "66b75a0f",
   "metadata": {},
   "outputs": [
    {
     "data": {
      "text/plain": [
       "Index(['Product_id', 'Price', 'Sale', 'weight', 'resoloution', 'ppi',\n",
       "       'cpu_core', 'cpu_freq', 'internal_mem', 'ram', 'RearCam', 'Front_Cam',\n",
       "       'battery', 'thickness'],\n",
       "      dtype='object')"
      ]
     },
     "execution_count": 109,
     "metadata": {},
     "output_type": "execute_result"
    }
   ],
   "source": [
    "df.columns"
   ]
  },
  {
   "cell_type": "code",
   "execution_count": 110,
   "id": "be1fe4c4",
   "metadata": {},
   "outputs": [],
   "source": [
    "numeric=df.select_dtypes(include='number')"
   ]
  },
  {
   "cell_type": "code",
   "execution_count": 111,
   "id": "78781e13",
   "metadata": {},
   "outputs": [
    {
     "name": "stdout",
     "output_type": "stream",
     "text": [
      "<class 'pandas.core.frame.DataFrame'>\n",
      "RangeIndex: 161 entries, 0 to 160\n",
      "Data columns (total 14 columns):\n",
      " #   Column        Non-Null Count  Dtype  \n",
      "---  ------        --------------  -----  \n",
      " 0   Product_id    161 non-null    int64  \n",
      " 1   Price         161 non-null    int64  \n",
      " 2   Sale          161 non-null    float64\n",
      " 3   weight        161 non-null    float64\n",
      " 4   resoloution   161 non-null    float64\n",
      " 5   ppi           161 non-null    int64  \n",
      " 6   cpu_core      161 non-null    int64  \n",
      " 7   cpu_freq      161 non-null    float64\n",
      " 8   internal_mem  161 non-null    float64\n",
      " 9   ram           161 non-null    float64\n",
      " 10  RearCam       161 non-null    float64\n",
      " 11  Front_Cam     161 non-null    float64\n",
      " 12  battery       161 non-null    float64\n",
      " 13  thickness     161 non-null    float64\n",
      "dtypes: float64(10), int64(4)\n",
      "memory usage: 17.7 KB\n"
     ]
    }
   ],
   "source": [
    "numeric.info()"
   ]
  },
  {
   "cell_type": "code",
   "execution_count": 112,
   "id": "1ad484bc",
   "metadata": {},
   "outputs": [
    {
     "name": "stdout",
     "output_type": "stream",
     "text": [
      "<class 'pandas.core.frame.DataFrame'>\n",
      "RangeIndex: 161 entries, 0 to 160\n",
      "Data columns (total 14 columns):\n",
      " #   Column        Non-Null Count  Dtype  \n",
      "---  ------        --------------  -----  \n",
      " 0   Product_id    161 non-null    int64  \n",
      " 1   Price         161 non-null    int64  \n",
      " 2   Sale          161 non-null    float64\n",
      " 3   weight        161 non-null    float64\n",
      " 4   resoloution   161 non-null    float64\n",
      " 5   ppi           161 non-null    int64  \n",
      " 6   cpu_core      161 non-null    int64  \n",
      " 7   cpu_freq      161 non-null    float64\n",
      " 8   internal_mem  161 non-null    float64\n",
      " 9   ram           161 non-null    float64\n",
      " 10  RearCam       161 non-null    float64\n",
      " 11  Front_Cam     161 non-null    float64\n",
      " 12  battery       161 non-null    float64\n",
      " 13  thickness     161 non-null    float64\n",
      "dtypes: float64(10), int64(4)\n",
      "memory usage: 17.7 KB\n"
     ]
    }
   ],
   "source": [
    "df.info()"
   ]
  },
  {
   "cell_type": "code",
   "execution_count": 113,
   "id": "5a05b8b6",
   "metadata": {},
   "outputs": [],
   "source": [
    "b = []\n",
    "for i in numeric:\n",
    "    if len(df[i].unique())>16:\n",
    "        b.append(i)"
   ]
  },
  {
   "cell_type": "code",
   "execution_count": 114,
   "id": "7fab3f9d",
   "metadata": {},
   "outputs": [
    {
     "name": "stdout",
     "output_type": "stream",
     "text": [
      "['Product_id', 'Price', 'Sale', 'weight', 'resoloution', 'ppi', 'cpu_freq', 'RearCam', 'battery', 'thickness']\n"
     ]
    }
   ],
   "source": [
    "print(b)"
   ]
  },
  {
   "cell_type": "code",
   "execution_count": 115,
   "id": "7fbbe1a9",
   "metadata": {},
   "outputs": [],
   "source": [
    "data_conti = df[b]"
   ]
  },
  {
   "cell_type": "code",
   "execution_count": 116,
   "id": "381e63c7",
   "metadata": {},
   "outputs": [
    {
     "data": {
      "text/plain": [
       "<AxesSubplot:>"
      ]
     },
     "execution_count": 116,
     "metadata": {},
     "output_type": "execute_result"
    },
    {
     "data": {
      "image/png": "[encoded data removed]",
      "text/plain": [
       "<Figure size 1440x1440 with 2 Axes>"
      ]
     },
     "metadata": {
      "needs_background": "light"
     },
     "output_type": "display_data"
    }
   ],
   "source": [
    "plt.figure(figsize=(20,20))\n",
    "\n",
    "sns.heatmap(data_conti.corr(), annot=True, vmin= -1, vmax=1)\n"
   ]
  },
  {
   "cell_type": "code",
   "execution_count": 117,
   "id": "ff4d22c9",
   "metadata": {},
   "outputs": [
    {
     "name": "stdout",
     "output_type": "stream",
     "text": [
      "Product_id + Price + Sale + weight + resoloution + ppi + cpu_core + cpu_freq + internal_mem + ram + RearCam + Front_Cam + battery + thickness + "
     ]
    }
   ],
   "source": [
    "for i in df.columns:\n",
    "    print(i,'+',end=' ')"
   ]
  },
  {
   "cell_type": "code",
   "execution_count": 118,
   "id": "929254ca",
   "metadata": {},
   "outputs": [
    {
     "name": "stdout",
     "output_type": "stream",
     "text": [
      "                            OLS Regression Results                            \n",
      "==============================================================================\n",
      "Dep. Variable:                  Price   R-squared:                       0.949\n",
      "Model:                            OLS   Adj. R-squared:                  0.945\n",
      "Method:                 Least Squares   F-statistic:                     212.1\n",
      "Date:                Tue, 25 Apr 2023   Prob (F-statistic):           3.59e-88\n",
      "Time:                        11:52:38   Log-Likelihood:                -1057.5\n",
      "No. Observations:                 161   AIC:                             2143.\n",
      "Df Residuals:                     147   BIC:                             2186.\n",
      "Df Model:                          13                                         \n",
      "Covariance Type:            nonrobust                                         \n",
      "================================================================================\n",
      "                   coef    std err          t      P>|t|      [0.025      0.975]\n",
      "--------------------------------------------------------------------------------\n",
      "Intercept     2505.7298    277.359      9.034      0.000    1957.604    3053.855\n",
      "Product_id       0.0130      0.041      0.320      0.749      -0.067       0.093\n",
      "Sale            -0.0684      0.052     -1.314      0.191      -0.171       0.034\n",
      "weight           2.2326      1.207      1.849      0.066      -0.153       4.618\n",
      "resoloution   -235.1702     59.535     -3.950      0.000    -352.824    -117.516\n",
      "ppi              1.2114      0.221      5.471      0.000       0.774       1.649\n",
      "cpu_core        80.7364     14.728      5.482      0.000      51.630     109.842\n",
      "cpu_freq        71.1273     41.594      1.710      0.089     -11.073     153.327\n",
      "internal_mem     6.7740      1.075      6.303      0.000       4.650       8.898\n",
      "ram             62.6443     22.367      2.801      0.006      18.443     106.846\n",
      "RearCam          4.8380      4.486      1.078      0.283      -4.028      13.704\n",
      "Front_Cam       14.2061      6.318      2.249      0.026       1.721      26.691\n",
      "battery          0.1199      0.035      3.420      0.001       0.051       0.189\n",
      "thickness     -105.6782     14.539     -7.269      0.000    -134.410     -76.946\n",
      "==============================================================================\n",
      "Omnibus:                        0.378   Durbin-Watson:                   1.986\n",
      "Prob(Omnibus):                  0.828   Jarque-Bera (JB):                0.319\n",
      "Skew:                          -0.108   Prob(JB):                        0.853\n",
      "Kurtosis:                       2.975   Cond. No.                     5.98e+04\n",
      "==============================================================================\n",
      "\n",
      "Notes:\n",
      "[1] Standard Errors assume that the covariance matrix of the errors is correctly specified.\n",
      "[2] The condition number is large, 5.98e+04. This might indicate that there are\n",
      "strong multicollinearity or other numerical problems.\n"
     ]
    }
   ],
   "source": [
    "model_1=smf.ols(formula='Price~Product_id  + Sale + weight + resoloution + ppi + cpu_core + cpu_freq + internal_mem + ram + RearCam + Front_Cam + battery + thickness',data=df).fit()\n",
    "print(model_1.summary())"
   ]
  },
  {
   "cell_type": "code",
   "execution_count": 119,
   "id": "6b32ee46",
   "metadata": {},
   "outputs": [],
   "source": [
    "df.drop('Product_id',axis=1,inplace=True)"
   ]
  },
  {
   "cell_type": "code",
   "execution_count": 120,
   "id": "13208a63",
   "metadata": {},
   "outputs": [
    {
     "name": "stdout",
     "output_type": "stream",
     "text": [
      "                            OLS Regression Results                            \n",
      "==============================================================================\n",
      "Dep. Variable:                  Price   R-squared:                       0.949\n",
      "Model:                            OLS   Adj. R-squared:                  0.945\n",
      "Method:                 Least Squares   F-statistic:                     231.1\n",
      "Date:                Tue, 25 Apr 2023   Prob (F-statistic):           2.43e-89\n",
      "Time:                        11:52:38   Log-Likelihood:                -1057.5\n",
      "No. Observations:                 161   AIC:                             2141.\n",
      "Df Residuals:                     148   BIC:                             2181.\n",
      "Df Model:                          12                                         \n",
      "Covariance Type:            nonrobust                                         \n",
      "================================================================================\n",
      "                   coef    std err          t      P>|t|      [0.025      0.975]\n",
      "--------------------------------------------------------------------------------\n",
      "Intercept     2510.0750    276.185      9.088      0.000    1964.300    3055.850\n",
      "Sale            -0.0687      0.052     -1.323      0.188      -0.171       0.034\n",
      "weight           2.2626      1.200      1.885      0.061      -0.109       4.634\n",
      "resoloution   -234.9140     59.348     -3.958      0.000    -352.194    -117.634\n",
      "ppi              1.2085      0.221      5.479      0.000       0.773       1.644\n",
      "cpu_core        80.8067     14.682      5.504      0.000      51.794     109.819\n",
      "cpu_freq        70.4866     41.420      1.702      0.091     -11.364     152.337\n",
      "internal_mem     6.8003      1.068      6.366      0.000       4.689       8.911\n",
      "ram             64.5166     21.523      2.998      0.003      21.985     107.048\n",
      "RearCam          4.9766      4.452      1.118      0.265      -3.821      13.774\n",
      "Front_Cam       13.4919      5.893      2.290      0.023       1.847      25.136\n",
      "battery          0.1174      0.034      3.446      0.001       0.050       0.185\n",
      "thickness     -105.3297     14.454     -7.287      0.000    -133.892     -76.767\n",
      "==============================================================================\n",
      "Omnibus:                        0.396   Durbin-Watson:                   1.989\n",
      "Prob(Omnibus):                  0.820   Jarque-Bera (JB):                0.343\n",
      "Skew:                          -0.112   Prob(JB):                        0.842\n",
      "Kurtosis:                       2.970   Cond. No.                     5.83e+04\n",
      "==============================================================================\n",
      "\n",
      "Notes:\n",
      "[1] Standard Errors assume that the covariance matrix of the errors is correctly specified.\n",
      "[2] The condition number is large, 5.83e+04. This might indicate that there are\n",
      "strong multicollinearity or other numerical problems.\n"
     ]
    }
   ],
   "source": [
    "model_1=smf.ols(formula='Price~  + Sale + weight + resoloution + ppi + cpu_core + cpu_freq + internal_mem + ram + RearCam + Front_Cam + battery + thickness',data=df).fit()\n",
    "print(model_1.summary())"
   ]
  },
  {
   "cell_type": "code",
   "execution_count": 121,
   "id": "28452e4b",
   "metadata": {},
   "outputs": [
    {
     "name": "stdout",
     "output_type": "stream",
     "text": [
      "['Product_id', 'Price', 'Sale', 'weight', 'resoloution', 'ppi', 'cpu_freq', 'RearCam', 'battery', 'thickness']\n"
     ]
    }
   ],
   "source": [
    "print(b)"
   ]
  },
  {
   "cell_type": "code",
   "execution_count": 122,
   "id": "1addcb5d",
   "metadata": {},
   "outputs": [],
   "source": [
    "df.drop('Sale',axis=1,inplace=True)"
   ]
  },
  {
   "cell_type": "code",
   "execution_count": 123,
   "id": "01ca79c5",
   "metadata": {},
   "outputs": [
    {
     "name": "stdout",
     "output_type": "stream",
     "text": [
      "                            OLS Regression Results                            \n",
      "==============================================================================\n",
      "Dep. Variable:                  Price   R-squared:                       0.949\n",
      "Model:                            OLS   Adj. R-squared:                  0.945\n",
      "Method:                 Least Squares   F-statistic:                     250.7\n",
      "Date:                Tue, 25 Apr 2023   Prob (F-statistic):           3.56e-90\n",
      "Time:                        11:52:38   Log-Likelihood:                -1058.5\n",
      "No. Observations:                 161   AIC:                             2141.\n",
      "Df Residuals:                     149   BIC:                             2178.\n",
      "Df Model:                          11                                         \n",
      "Covariance Type:            nonrobust                                         \n",
      "================================================================================\n",
      "                   coef    std err          t      P>|t|      [0.025      0.975]\n",
      "--------------------------------------------------------------------------------\n",
      "Intercept     2508.6013    276.877      9.060      0.000    1961.489    3055.713\n",
      "weight           2.0673      1.194      1.732      0.085      -0.292       4.426\n",
      "resoloution   -230.6823     59.411     -3.883      0.000    -348.079    -113.285\n",
      "ppi              1.2018      0.221      5.437      0.000       0.765       1.639\n",
      "cpu_core        80.8493     14.719      5.493      0.000      51.765     109.933\n",
      "cpu_freq        81.3735     40.696      2.000      0.047       0.958     161.789\n",
      "internal_mem     6.6260      1.063      6.234      0.000       4.526       8.726\n",
      "ram             61.9754     21.491      2.884      0.005      19.510     104.441\n",
      "RearCam          4.3428      4.437      0.979      0.329      -4.425      13.110\n",
      "Front_Cam       13.3589      5.907      2.262      0.025       1.687      25.030\n",
      "battery          0.1204      0.034      3.532      0.001       0.053       0.188\n",
      "thickness     -107.0323     14.433     -7.416      0.000    -135.551     -78.513\n",
      "==============================================================================\n",
      "Omnibus:                        0.147   Durbin-Watson:                   1.945\n",
      "Prob(Omnibus):                  0.929   Jarque-Bera (JB):                0.112\n",
      "Skew:                          -0.063   Prob(JB):                        0.946\n",
      "Kurtosis:                       2.970   Cond. No.                     5.81e+04\n",
      "==============================================================================\n",
      "\n",
      "Notes:\n",
      "[1] Standard Errors assume that the covariance matrix of the errors is correctly specified.\n",
      "[2] The condition number is large, 5.81e+04. This might indicate that there are\n",
      "strong multicollinearity or other numerical problems.\n"
     ]
    }
   ],
   "source": [
    "model_1=smf.ols(formula='Price~   + weight + resoloution + ppi + cpu_core + cpu_freq + internal_mem + ram + RearCam + Front_Cam + battery + thickness',data=df).fit()\n",
    "print(model_1.summary())"
   ]
  },
  {
   "cell_type": "code",
   "execution_count": 124,
   "id": "300c6719",
   "metadata": {},
   "outputs": [],
   "source": [
    "df.drop('weight',axis=1,inplace=True)"
   ]
  },
  {
   "cell_type": "code",
   "execution_count": 125,
   "id": "6a3641f8",
   "metadata": {},
   "outputs": [
    {
     "name": "stdout",
     "output_type": "stream",
     "text": [
      "                            OLS Regression Results                            \n",
      "==============================================================================\n",
      "Dep. Variable:                  Price   R-squared:                       0.948\n",
      "Model:                            OLS   Adj. R-squared:                  0.944\n",
      "Method:                 Least Squares   F-statistic:                     271.9\n",
      "Date:                Tue, 25 Apr 2023   Prob (F-statistic):           9.23e-91\n",
      "Time:                        11:52:38   Log-Likelihood:                -1060.1\n",
      "No. Observations:                 161   AIC:                             2142.\n",
      "Df Residuals:                     150   BIC:                             2176.\n",
      "Df Model:                          10                                         \n",
      "Covariance Type:            nonrobust                                         \n",
      "================================================================================\n",
      "                   coef    std err          t      P>|t|      [0.025      0.975]\n",
      "--------------------------------------------------------------------------------\n",
      "Intercept     2268.5649    241.268      9.403      0.000    1791.842    2745.287\n",
      "resoloution   -152.9709     39.189     -3.903      0.000    -230.405     -75.537\n",
      "ppi              1.2056      0.223      5.418      0.000       0.766       1.645\n",
      "cpu_core        80.1972     14.811      5.415      0.000      50.931     109.463\n",
      "cpu_freq        93.0165     40.403      2.302      0.023      13.184     172.849\n",
      "internal_mem     6.7308      1.068      6.302      0.000       4.620       8.841\n",
      "ram             60.6402     21.619      2.805      0.006      17.922     103.358\n",
      "RearCam          3.1753      4.415      0.719      0.473      -5.548      11.898\n",
      "Front_Cam       12.9419      5.941      2.178      0.031       1.203      24.680\n",
      "battery          0.1428      0.032      4.498      0.000       0.080       0.205\n",
      "thickness      -96.4446     13.160     -7.329      0.000    -122.448     -70.441\n",
      "==============================================================================\n",
      "Omnibus:                        0.011   Durbin-Watson:                   1.952\n",
      "Prob(Omnibus):                  0.995   Jarque-Bera (JB):                0.108\n",
      "Skew:                           0.001   Prob(JB):                        0.947\n",
      "Kurtosis:                       2.873   Cond. No.                     4.99e+04\n",
      "==============================================================================\n",
      "\n",
      "Notes:\n",
      "[1] Standard Errors assume that the covariance matrix of the errors is correctly specified.\n",
      "[2] The condition number is large, 4.99e+04. This might indicate that there are\n",
      "strong multicollinearity or other numerical problems.\n"
     ]
    }
   ],
   "source": [
    "model_1=smf.ols(formula='Price~  + resoloution + ppi + cpu_core + cpu_freq + internal_mem + ram + RearCam + Front_Cam + battery + thickness',data=df).fit()\n",
    "print(model_1.summary())"
   ]
  },
  {
   "cell_type": "code",
   "execution_count": 126,
   "id": "f19d3f24",
   "metadata": {},
   "outputs": [],
   "source": [
    "df.drop('RearCam',axis=1,inplace=True)"
   ]
  },
  {
   "cell_type": "code",
   "execution_count": 127,
   "id": "a7859d22",
   "metadata": {},
   "outputs": [
    {
     "name": "stdout",
     "output_type": "stream",
     "text": [
      "                            OLS Regression Results                            \n",
      "==============================================================================\n",
      "Dep. Variable:                  Price   R-squared:                       0.948\n",
      "Model:                            OLS   Adj. R-squared:                  0.944\n",
      "Method:                 Least Squares   F-statistic:                     303.0\n",
      "Date:                Tue, 25 Apr 2023   Prob (F-statistic):           6.66e-92\n",
      "Time:                        11:52:38   Log-Likelihood:                -1060.4\n",
      "No. Observations:                 161   AIC:                             2141.\n",
      "Df Residuals:                     151   BIC:                             2172.\n",
      "Df Model:                           9                                         \n",
      "Covariance Type:            nonrobust                                         \n",
      "================================================================================\n",
      "                   coef    std err          t      P>|t|      [0.025      0.975]\n",
      "--------------------------------------------------------------------------------\n",
      "Intercept     2246.5793    238.941      9.402      0.000    1774.480    2718.679\n",
      "resoloution   -148.2356     38.570     -3.843      0.000    -224.443     -72.028\n",
      "ppi              1.2820      0.195      6.566      0.000       0.896       1.668\n",
      "cpu_core        83.2276     14.177      5.871      0.000      55.217     111.238\n",
      "cpu_freq        92.2551     40.325      2.288      0.024      12.582     171.928\n",
      "internal_mem     6.5543      1.038      6.315      0.000       4.504       8.605\n",
      "ram             64.9987     20.720      3.137      0.002      24.061     105.936\n",
      "Front_Cam       13.5368      5.874      2.305      0.023       1.932      25.142\n",
      "battery          0.1385      0.031      4.449      0.000       0.077       0.200\n",
      "thickness      -96.3721     13.139     -7.335      0.000    -122.332     -70.413\n",
      "==============================================================================\n",
      "Omnibus:                        0.048   Durbin-Watson:                   1.948\n",
      "Prob(Omnibus):                  0.976   Jarque-Bera (JB):                0.107\n",
      "Skew:                           0.040   Prob(JB):                        0.948\n",
      "Kurtosis:                       2.903   Cond. No.                     4.95e+04\n",
      "==============================================================================\n",
      "\n",
      "Notes:\n",
      "[1] Standard Errors assume that the covariance matrix of the errors is correctly specified.\n",
      "[2] The condition number is large, 4.95e+04. This might indicate that there are\n",
      "strong multicollinearity or other numerical problems.\n"
     ]
    }
   ],
   "source": [
    "model_1=smf.ols(formula='Price~  + resoloution + ppi + cpu_core + cpu_freq + internal_mem + ram  + Front_Cam + battery + thickness',data=df).fit()\n",
    "print(model_1.summary())"
   ]
  },
  {
   "cell_type": "markdown",
   "id": "87260e4d",
   "metadata": {},
   "source": [
    "# vif"
   ]
  },
  {
   "cell_type": "code",
   "execution_count": 128,
   "id": "9da61362",
   "metadata": {},
   "outputs": [],
   "source": [
    "from statsmodels.stats.outliers_influence import variance_inflation_factor"
   ]
  },
  {
   "cell_type": "code",
   "execution_count": 129,
   "id": "a12592f4",
   "metadata": {},
   "outputs": [
    {
     "name": "stdout",
     "output_type": "stream",
     "text": [
      "<class 'pandas.core.frame.DataFrame'>\n",
      "RangeIndex: 161 entries, 0 to 160\n",
      "Data columns (total 10 columns):\n",
      " #   Column        Non-Null Count  Dtype  \n",
      "---  ------        --------------  -----  \n",
      " 0   Price         161 non-null    int64  \n",
      " 1   resoloution   161 non-null    float64\n",
      " 2   ppi           161 non-null    int64  \n",
      " 3   cpu_core      161 non-null    int64  \n",
      " 4   cpu_freq      161 non-null    float64\n",
      " 5   internal_mem  161 non-null    float64\n",
      " 6   ram           161 non-null    float64\n",
      " 7   Front_Cam     161 non-null    float64\n",
      " 8   battery       161 non-null    float64\n",
      " 9   thickness     161 non-null    float64\n",
      "dtypes: float64(7), int64(3)\n",
      "memory usage: 12.7 KB\n"
     ]
    }
   ],
   "source": [
    "df.info()"
   ]
  },
  {
   "cell_type": "code",
   "execution_count": 130,
   "id": "7a4c7856",
   "metadata": {},
   "outputs": [],
   "source": [
    "numeric = df.select_dtypes(include='number')"
   ]
  },
  {
   "cell_type": "code",
   "execution_count": 131,
   "id": "5bdb70d9",
   "metadata": {},
   "outputs": [
    {
     "name": "stdout",
     "output_type": "stream",
     "text": [
      "<class 'pandas.core.frame.DataFrame'>\n",
      "RangeIndex: 161 entries, 0 to 160\n",
      "Data columns (total 10 columns):\n",
      " #   Column        Non-Null Count  Dtype  \n",
      "---  ------        --------------  -----  \n",
      " 0   Price         161 non-null    int64  \n",
      " 1   resoloution   161 non-null    float64\n",
      " 2   ppi           161 non-null    int64  \n",
      " 3   cpu_core      161 non-null    int64  \n",
      " 4   cpu_freq      161 non-null    float64\n",
      " 5   internal_mem  161 non-null    float64\n",
      " 6   ram           161 non-null    float64\n",
      " 7   Front_Cam     161 non-null    float64\n",
      " 8   battery       161 non-null    float64\n",
      " 9   thickness     161 non-null    float64\n",
      "dtypes: float64(7), int64(3)\n",
      "memory usage: 12.7 KB\n"
     ]
    }
   ],
   "source": [
    "numeric.info()"
   ]
  },
  {
   "cell_type": "code",
   "execution_count": 132,
   "id": "e169b7f5",
   "metadata": {},
   "outputs": [],
   "source": [
    "b = []\n",
    "for i in numeric:\n",
    "    if len(df[i].unique())>16:\n",
    "        b.append(i)"
   ]
  },
  {
   "cell_type": "code",
   "execution_count": 133,
   "id": "d01b522e",
   "metadata": {},
   "outputs": [
    {
     "name": "stdout",
     "output_type": "stream",
     "text": [
      "['Price', 'resoloution', 'ppi', 'cpu_freq', 'battery', 'thickness']\n"
     ]
    }
   ],
   "source": [
    "print(b)"
   ]
  },
  {
   "cell_type": "code",
   "execution_count": 134,
   "id": "3a93307b",
   "metadata": {},
   "outputs": [],
   "source": [
    "data_conti = df[b]"
   ]
  },
  {
   "cell_type": "code",
   "execution_count": 135,
   "id": "5077126f",
   "metadata": {},
   "outputs": [
    {
     "data": {
      "text/plain": [
       "Index(['Price', 'resoloution', 'ppi', 'cpu_freq', 'battery', 'thickness'], dtype='object')"
      ]
     },
     "execution_count": 135,
     "metadata": {},
     "output_type": "execute_result"
    }
   ],
   "source": [
    "data_conti.columns"
   ]
  },
  {
   "cell_type": "code",
   "execution_count": 136,
   "id": "aaf10959",
   "metadata": {},
   "outputs": [],
   "source": [
    "x=['resoloution', 'ppi', 'cpu_freq', 'battery', 'thickness']"
   ]
  },
  {
   "cell_type": "code",
   "execution_count": 137,
   "id": "a832bd44",
   "metadata": {},
   "outputs": [],
   "source": [
    "vif_da = df[x]"
   ]
  },
  {
   "cell_type": "code",
   "execution_count": 138,
   "id": "ed6a8c32",
   "metadata": {},
   "outputs": [
    {
     "data": {
      "text/plain": [
       "Index(['resoloution', 'ppi', 'cpu_freq', 'battery', 'thickness'], dtype='object')"
      ]
     },
     "execution_count": 138,
     "metadata": {},
     "output_type": "execute_result"
    }
   ],
   "source": [
    "vif_da.columns"
   ]
  },
  {
   "cell_type": "code",
   "execution_count": 139,
   "id": "88b39a88",
   "metadata": {},
   "outputs": [
    {
     "name": "stdout",
     "output_type": "stream",
     "text": [
      "       feature        VIF\n",
      "0  resoloution  63.794414\n",
      "1          ppi  14.203497\n",
      "2     cpu_freq  19.785565\n",
      "3      battery  23.427978\n",
      "4    thickness  16.037333\n"
     ]
    }
   ],
   "source": [
    "vif_data = pd.DataFrame()\n",
    "vif_data[\"feature\"] = vif_da.columns\n",
    "  \n",
    "# calculating VIF for each feature\n",
    "vif_data[\"VIF\"] = [variance_inflation_factor(vif_da.values,i) for i in range(len(vif_da.columns))]\n",
    "  \n",
    "print(vif_data)"
   ]
  },
  {
   "cell_type": "code",
   "execution_count": 140,
   "id": "338159c9",
   "metadata": {},
   "outputs": [],
   "source": [
    "df.drop('resoloution',axis=1,inplace=True)"
   ]
  },
  {
   "cell_type": "code",
   "execution_count": 141,
   "id": "f8ad41ac",
   "metadata": {},
   "outputs": [],
   "source": [
    "df.drop('ppi',axis=1,inplace=True)"
   ]
  },
  {
   "cell_type": "code",
   "execution_count": 142,
   "id": "b5ecc6c7",
   "metadata": {},
   "outputs": [],
   "source": [
    "df.drop('cpu_freq',axis=1,inplace=True)"
   ]
  },
  {
   "cell_type": "code",
   "execution_count": 143,
   "id": "bebe0421",
   "metadata": {},
   "outputs": [],
   "source": [
    "df.drop('battery',axis=1,inplace=True)"
   ]
  },
  {
   "cell_type": "code",
   "execution_count": 144,
   "id": "9fd83a74",
   "metadata": {},
   "outputs": [],
   "source": [
    "df.drop('thickness',axis=1,inplace=True)"
   ]
  },
  {
   "cell_type": "code",
   "execution_count": 145,
   "id": "ca337595",
   "metadata": {},
   "outputs": [
    {
     "data": {
      "text/plain": [
       "Index(['Price', 'cpu_core', 'internal_mem', 'ram', 'Front_Cam'], dtype='object')"
      ]
     },
     "execution_count": 145,
     "metadata": {},
     "output_type": "execute_result"
    }
   ],
   "source": [
    "df.columns"
   ]
  },
  {
   "cell_type": "code",
   "execution_count": 146,
   "id": "676611bd",
   "metadata": {},
   "outputs": [
    {
     "name": "stdout",
     "output_type": "stream",
     "text": [
      "                            OLS Regression Results                            \n",
      "==============================================================================\n",
      "Dep. Variable:                  Price   R-squared:                       0.893\n",
      "Model:                            OLS   Adj. R-squared:                  0.890\n",
      "Method:                 Least Squares   F-statistic:                     325.7\n",
      "Date:                Tue, 25 Apr 2023   Prob (F-statistic):           1.31e-74\n",
      "Time:                        11:52:39   Log-Likelihood:                -1117.7\n",
      "No. Observations:                 161   AIC:                             2245.\n",
      "Df Residuals:                     156   BIC:                             2261.\n",
      "Df Model:                           4                                         \n",
      "Covariance Type:            nonrobust                                         \n",
      "================================================================================\n",
      "                   coef    std err          t      P>|t|      [0.025      0.975]\n",
      "--------------------------------------------------------------------------------\n",
      "Intercept      966.3457     50.163     19.264      0.000     867.259    1065.432\n",
      "cpu_core       184.9600     13.061     14.161      0.000     159.160     210.760\n",
      "internal_mem     7.8278      1.392      5.622      0.000       5.078      10.578\n",
      "ram            163.3616     25.430      6.424      0.000     113.129     213.594\n",
      "Front_Cam       10.1024      8.118      1.245      0.215      -5.932      26.137\n",
      "==============================================================================\n",
      "Omnibus:                        2.920   Durbin-Watson:                   1.893\n",
      "Prob(Omnibus):                  0.232   Jarque-Bera (JB):                2.015\n",
      "Skew:                          -0.056   Prob(JB):                        0.365\n",
      "Kurtosis:                       2.463   Cond. No.                         97.3\n",
      "==============================================================================\n",
      "\n",
      "Notes:\n",
      "[1] Standard Errors assume that the covariance matrix of the errors is correctly specified.\n"
     ]
    }
   ],
   "source": [
    "model_1=smf.ols(formula='Price~  cpu_core  + internal_mem + ram  + Front_Cam ',data=df).fit()\n",
    "print(model_1.summary())"
   ]
  },
  {
   "cell_type": "markdown",
   "id": "2dbf00e6",
   "metadata": {},
   "source": [
    "# Building a model"
   ]
  },
  {
   "cell_type": "code",
   "execution_count": 147,
   "id": "24a12519",
   "metadata": {},
   "outputs": [],
   "source": [
    "from sklearn.model_selection import train_test_split"
   ]
  },
  {
   "cell_type": "code",
   "execution_count": 148,
   "id": "5baa01bd",
   "metadata": {},
   "outputs": [],
   "source": [
    "train,test= train_test_split(df, test_size=0.2, random_state=42)"
   ]
  },
  {
   "cell_type": "code",
   "execution_count": 149,
   "id": "dc85a0d9",
   "metadata": {},
   "outputs": [
    {
     "name": "stdout",
     "output_type": "stream",
     "text": [
      "<class 'pandas.core.frame.DataFrame'>\n",
      "Int64Index: 128 entries, 115 to 102\n",
      "Data columns (total 5 columns):\n",
      " #   Column        Non-Null Count  Dtype  \n",
      "---  ------        --------------  -----  \n",
      " 0   Price         128 non-null    int64  \n",
      " 1   cpu_core      128 non-null    int64  \n",
      " 2   internal_mem  128 non-null    float64\n",
      " 3   ram           128 non-null    float64\n",
      " 4   Front_Cam     128 non-null    float64\n",
      "dtypes: float64(3), int64(2)\n",
      "memory usage: 6.0 KB\n"
     ]
    }
   ],
   "source": [
    "train.info()"
   ]
  },
  {
   "cell_type": "code",
   "execution_count": 150,
   "id": "4a42117a",
   "metadata": {},
   "outputs": [],
   "source": [
    "x_test=test.loc[:,test.columns != 'Price']\n",
    "y_test=test.loc[:,test.columns == 'Price']"
   ]
  },
  {
   "cell_type": "code",
   "execution_count": 151,
   "id": "63e220aa",
   "metadata": {},
   "outputs": [
    {
     "name": "stdout",
     "output_type": "stream",
     "text": [
      "<class 'pandas.core.frame.DataFrame'>\n",
      "Int64Index: 33 entries, 105 to 60\n",
      "Data columns (total 5 columns):\n",
      " #   Column        Non-Null Count  Dtype  \n",
      "---  ------        --------------  -----  \n",
      " 0   Price         33 non-null     int64  \n",
      " 1   cpu_core      33 non-null     int64  \n",
      " 2   internal_mem  33 non-null     float64\n",
      " 3   ram           33 non-null     float64\n",
      " 4   Front_Cam     33 non-null     float64\n",
      "dtypes: float64(3), int64(2)\n",
      "memory usage: 1.5 KB\n"
     ]
    }
   ],
   "source": [
    "test.info()"
   ]
  },
  {
   "cell_type": "code",
   "execution_count": 152,
   "id": "be17ee6a",
   "metadata": {},
   "outputs": [
    {
     "name": "stdout",
     "output_type": "stream",
     "text": [
      "<class 'pandas.core.frame.DataFrame'>\n",
      "Int64Index: 128 entries, 115 to 102\n",
      "Data columns (total 5 columns):\n",
      " #   Column        Non-Null Count  Dtype  \n",
      "---  ------        --------------  -----  \n",
      " 0   Price         128 non-null    int64  \n",
      " 1   cpu_core      128 non-null    int64  \n",
      " 2   internal_mem  128 non-null    float64\n",
      " 3   ram           128 non-null    float64\n",
      " 4   Front_Cam     128 non-null    float64\n",
      "dtypes: float64(3), int64(2)\n",
      "memory usage: 6.0 KB\n"
     ]
    }
   ],
   "source": [
    "train.info()"
   ]
  },
  {
   "cell_type": "code",
   "execution_count": 153,
   "id": "92283692",
   "metadata": {},
   "outputs": [
    {
     "data": {
      "text/plain": [
       "Index(['Price', 'cpu_core', 'internal_mem', 'ram', 'Front_Cam'], dtype='object')"
      ]
     },
     "execution_count": 153,
     "metadata": {},
     "output_type": "execute_result"
    }
   ],
   "source": [
    "test.columns"
   ]
  },
  {
   "cell_type": "code",
   "execution_count": 154,
   "id": "f8063fbb",
   "metadata": {},
   "outputs": [
    {
     "data": {
      "text/html": [
       "<div>\n",
       "<style scoped>\n",
       "    .dataframe tbody tr th:only-of-type {\n",
       "        vertical-align: middle;\n",
       "    }\n",
       "\n",
       "    .dataframe tbody tr th {\n",
       "        vertical-align: top;\n",
       "    }\n",
       "\n",
       "    .dataframe thead th {\n",
       "        text-align: right;\n",
       "    }\n",
       "</style>\n",
       "<table border=\"1\" class=\"dataframe\">\n",
       "  <thead>\n",
       "    <tr style=\"text-align: right;\">\n",
       "      <th></th>\n",
       "      <th>Price</th>\n",
       "    </tr>\n",
       "  </thead>\n",
       "  <tbody>\n",
       "    <tr>\n",
       "      <th>105</th>\n",
       "      <td>833</td>\n",
       "    </tr>\n",
       "    <tr>\n",
       "      <th>108</th>\n",
       "      <td>1676</td>\n",
       "    </tr>\n",
       "    <tr>\n",
       "      <th>142</th>\n",
       "      <td>2508</td>\n",
       "    </tr>\n",
       "    <tr>\n",
       "      <th>55</th>\n",
       "      <td>1777</td>\n",
       "    </tr>\n",
       "    <tr>\n",
       "      <th>94</th>\n",
       "      <td>1511</td>\n",
       "    </tr>\n",
       "    <tr>\n",
       "      <th>29</th>\n",
       "      <td>1950</td>\n",
       "    </tr>\n",
       "    <tr>\n",
       "      <th>101</th>\n",
       "      <td>833</td>\n",
       "    </tr>\n",
       "    <tr>\n",
       "      <th>51</th>\n",
       "      <td>1347</td>\n",
       "    </tr>\n",
       "    <tr>\n",
       "      <th>100</th>\n",
       "      <td>2343</td>\n",
       "    </tr>\n",
       "    <tr>\n",
       "      <th>143</th>\n",
       "      <td>2508</td>\n",
       "    </tr>\n",
       "    <tr>\n",
       "      <th>19</th>\n",
       "      <td>1238</td>\n",
       "    </tr>\n",
       "    <tr>\n",
       "      <th>84</th>\n",
       "      <td>1646</td>\n",
       "    </tr>\n",
       "    <tr>\n",
       "      <th>15</th>\n",
       "      <td>1612</td>\n",
       "    </tr>\n",
       "    <tr>\n",
       "      <th>66</th>\n",
       "      <td>2746</td>\n",
       "    </tr>\n",
       "    <tr>\n",
       "      <th>24</th>\n",
       "      <td>1942</td>\n",
       "    </tr>\n",
       "    <tr>\n",
       "      <th>30</th>\n",
       "      <td>2258</td>\n",
       "    </tr>\n",
       "    <tr>\n",
       "      <th>128</th>\n",
       "      <td>2491</td>\n",
       "    </tr>\n",
       "    <tr>\n",
       "      <th>148</th>\n",
       "      <td>3055</td>\n",
       "    </tr>\n",
       "    <tr>\n",
       "      <th>98</th>\n",
       "      <td>1522</td>\n",
       "    </tr>\n",
       "    <tr>\n",
       "      <th>16</th>\n",
       "      <td>2258</td>\n",
       "    </tr>\n",
       "    <tr>\n",
       "      <th>75</th>\n",
       "      <td>2276</td>\n",
       "    </tr>\n",
       "    <tr>\n",
       "      <th>18</th>\n",
       "      <td>1612</td>\n",
       "    </tr>\n",
       "    <tr>\n",
       "      <th>12</th>\n",
       "      <td>2174</td>\n",
       "    </tr>\n",
       "    <tr>\n",
       "      <th>9</th>\n",
       "      <td>2580</td>\n",
       "    </tr>\n",
       "    <tr>\n",
       "      <th>31</th>\n",
       "      <td>2977</td>\n",
       "    </tr>\n",
       "    <tr>\n",
       "      <th>152</th>\n",
       "      <td>4361</td>\n",
       "    </tr>\n",
       "    <tr>\n",
       "      <th>97</th>\n",
       "      <td>2562</td>\n",
       "    </tr>\n",
       "    <tr>\n",
       "      <th>56</th>\n",
       "      <td>3658</td>\n",
       "    </tr>\n",
       "    <tr>\n",
       "      <th>132</th>\n",
       "      <td>2466</td>\n",
       "    </tr>\n",
       "    <tr>\n",
       "      <th>104</th>\n",
       "      <td>2744</td>\n",
       "    </tr>\n",
       "    <tr>\n",
       "      <th>137</th>\n",
       "      <td>3116</td>\n",
       "    </tr>\n",
       "    <tr>\n",
       "      <th>78</th>\n",
       "      <td>2714</td>\n",
       "    </tr>\n",
       "    <tr>\n",
       "      <th>60</th>\n",
       "      <td>2824</td>\n",
       "    </tr>\n",
       "  </tbody>\n",
       "</table>\n",
       "</div>"
      ],
      "text/plain": [
       "     Price\n",
       "105    833\n",
       "108   1676\n",
       "142   2508\n",
       "55    1777\n",
       "94    1511\n",
       "29    1950\n",
       "101    833\n",
       "51    1347\n",
       "100   2343\n",
       "143   2508\n",
       "19    1238\n",
       "84    1646\n",
       "15    1612\n",
       "66    2746\n",
       "24    1942\n",
       "30    2258\n",
       "128   2491\n",
       "148   3055\n",
       "98    1522\n",
       "16    2258\n",
       "75    2276\n",
       "18    1612\n",
       "12    2174\n",
       "9     2580\n",
       "31    2977\n",
       "152   4361\n",
       "97    2562\n",
       "56    3658\n",
       "132   2466\n",
       "104   2744\n",
       "137   3116\n",
       "78    2714\n",
       "60    2824"
      ]
     },
     "execution_count": 154,
     "metadata": {},
     "output_type": "execute_result"
    }
   ],
   "source": [
    "y_test"
   ]
  },
  {
   "cell_type": "code",
   "execution_count": 155,
   "id": "bec05d6b",
   "metadata": {},
   "outputs": [],
   "source": [
    "pred_1=model_1.predict(x_test) #Prediction on test data"
   ]
  },
  {
   "cell_type": "code",
   "execution_count": 156,
   "id": "b7c124f7",
   "metadata": {},
   "outputs": [
    {
     "data": {
      "text/plain": [
       "105     966.345736\n",
       "108    1831.430807\n",
       "142    2321.515736\n",
       "55     1737.496942\n",
       "94     1737.496942\n",
       "29     1746.589067\n",
       "101     966.345736\n",
       "51     1182.617004\n",
       "100    2167.246218\n",
       "143    2321.515736\n",
       "19     1182.617004\n",
       "84     1746.589067\n",
       "15     1737.496942\n",
       "66     2706.343321\n",
       "24     2158.154093\n",
       "30     2167.246218\n",
       "128    2825.772973\n",
       "148    3268.155011\n",
       "98     1151.305716\n",
       "16     2167.246218\n",
       "75     2537.166177\n",
       "18     1737.496942\n",
       "12     1840.522932\n",
       "9      2167.246218\n",
       "31     2825.772973\n",
       "152    4139.055583\n",
       "97     2537.166177\n",
       "56     3638.074970\n",
       "132    2446.760890\n",
       "104    2608.892938\n",
       "137    3076.263280\n",
       "78     2537.166177\n",
       "60     2527.579775\n",
       "dtype: float64"
      ]
     },
     "execution_count": 156,
     "metadata": {},
     "output_type": "execute_result"
    }
   ],
   "source": [
    "pred_1"
   ]
  },
  {
   "cell_type": "code",
   "execution_count": 157,
   "id": "6ce8099d",
   "metadata": {},
   "outputs": [],
   "source": [
    "#Converting y_test into series\n",
    "y_test_series=y_test.iloc[:,0] "
   ]
  },
  {
   "cell_type": "code",
   "execution_count": 158,
   "id": "ca0d59a8",
   "metadata": {},
   "outputs": [],
   "source": [
    "resd_1=y_test_series-pred_1"
   ]
  },
  {
   "cell_type": "code",
   "execution_count": 159,
   "id": "5f88046e",
   "metadata": {},
   "outputs": [
    {
     "data": {
      "text/plain": [
       "105   -133.345736\n",
       "108   -155.430807\n",
       "142    186.484264\n",
       "55      39.503058\n",
       "94    -226.496942\n",
       "29     203.410933\n",
       "101   -133.345736\n",
       "51     164.382996\n",
       "100    175.753782\n",
       "143    186.484264\n",
       "19      55.382996\n",
       "84    -100.589067\n",
       "15    -125.496942\n",
       "66      39.656679\n",
       "24    -216.154093\n",
       "30      90.753782\n",
       "128   -334.772973\n",
       "148   -213.155011\n",
       "98     370.694284\n",
       "16      90.753782\n",
       "75    -261.166177\n",
       "18    -125.496942\n",
       "12     333.477068\n",
       "9      412.753782\n",
       "31     151.227027\n",
       "152    221.944417\n",
       "97      24.833823\n",
       "56      19.925030\n",
       "132     19.239110\n",
       "104    135.107062\n",
       "137     39.736720\n",
       "78     176.833823\n",
       "60     296.420225\n",
       "dtype: float64"
      ]
     },
     "execution_count": 159,
     "metadata": {},
     "output_type": "execute_result"
    }
   ],
   "source": [
    "#Residuals\n",
    "resd_1"
   ]
  },
  {
   "cell_type": "code",
   "execution_count": 160,
   "id": "3d83160c",
   "metadata": {},
   "outputs": [],
   "source": [
    "#Square of errors\n",
    "se_1=resd_1.pow(2)"
   ]
  },
  {
   "cell_type": "code",
   "execution_count": 161,
   "id": "6c6430eb",
   "metadata": {},
   "outputs": [
    {
     "data": {
      "text/plain": [
       "105     17781.085318\n",
       "108     24158.735891\n",
       "142     34776.380620\n",
       "55       1560.491558\n",
       "94      51300.864926\n",
       "29      41376.007636\n",
       "101     17781.085318\n",
       "51      27021.769415\n",
       "100     30889.391901\n",
       "143     34776.380620\n",
       "19       3067.276260\n",
       "84      10118.160414\n",
       "15      15749.482557\n",
       "66       1572.652201\n",
       "24      46722.592056\n",
       "30       8236.248954\n",
       "128    112072.943625\n",
       "148     45435.058644\n",
       "98     137414.252525\n",
       "16       8236.248954\n",
       "75      68207.772005\n",
       "18      15749.482557\n",
       "12     111206.954846\n",
       "9      170365.684586\n",
       "31      22869.613617\n",
       "152     49259.324186\n",
       "97        616.718765\n",
       "56        397.006826\n",
       "132       370.143370\n",
       "104     18253.918173\n",
       "137      1579.006926\n",
       "78      31270.200960\n",
       "60      87864.949584\n",
       "dtype: float64"
      ]
     },
     "execution_count": 161,
     "metadata": {},
     "output_type": "execute_result"
    }
   ],
   "source": [
    "se_1"
   ]
  },
  {
   "cell_type": "code",
   "execution_count": 162,
   "id": "f90dd8d4",
   "metadata": {},
   "outputs": [],
   "source": [
    "#Sum of Squared errors/residuals\n",
    "sse_1=se_1.sum()"
   ]
  },
  {
   "cell_type": "code",
   "execution_count": 163,
   "id": "a6403286",
   "metadata": {},
   "outputs": [
    {
     "data": {
      "text/plain": [
       "1248057.8857913264"
      ]
     },
     "execution_count": 163,
     "metadata": {},
     "output_type": "execute_result"
    }
   ],
   "source": [
    "sse_1"
   ]
  },
  {
   "cell_type": "code",
   "execution_count": 164,
   "id": "a5b86941",
   "metadata": {},
   "outputs": [],
   "source": [
    "#Mean sum squared errors\n",
    "msse_1=sse_1/len(se_1)"
   ]
  },
  {
   "cell_type": "code",
   "execution_count": 165,
   "id": "dfa16230",
   "metadata": {},
   "outputs": [
    {
     "data": {
      "text/plain": [
       "37819.9359330705"
      ]
     },
     "execution_count": 165,
     "metadata": {},
     "output_type": "execute_result"
    }
   ],
   "source": [
    "msse_1"
   ]
  },
  {
   "cell_type": "code",
   "execution_count": 166,
   "id": "e1154aaa",
   "metadata": {},
   "outputs": [],
   "source": [
    "import math"
   ]
  },
  {
   "cell_type": "code",
   "execution_count": 167,
   "id": "4ec0139f",
   "metadata": {},
   "outputs": [
    {
     "data": {
      "text/plain": [
       "194.47348388166057"
      ]
     },
     "execution_count": 167,
     "metadata": {},
     "output_type": "execute_result"
    }
   ],
   "source": [
    "#sqr root of mean sum squared errors\n",
    "math.sqrt(msse_1)"
   ]
  },
  {
   "cell_type": "code",
   "execution_count": 168,
   "id": "a8de0662",
   "metadata": {},
   "outputs": [],
   "source": [
    "import plotly.express as px"
   ]
  },
  {
   "cell_type": "code",
   "execution_count": 169,
   "id": "add308c3",
   "metadata": {},
   "outputs": [
    {
     "name": "stdout",
     "output_type": "stream",
     "text": [
      "<class 'pandas.core.frame.DataFrame'>\n",
      "Int64Index: 33 entries, 105 to 60\n",
      "Data columns (total 4 columns):\n",
      " #   Column        Non-Null Count  Dtype  \n",
      "---  ------        --------------  -----  \n",
      " 0   cpu_core      33 non-null     int64  \n",
      " 1   internal_mem  33 non-null     float64\n",
      " 2   ram           33 non-null     float64\n",
      " 3   Front_Cam     33 non-null     float64\n",
      "dtypes: float64(3), int64(1)\n",
      "memory usage: 1.3 KB\n"
     ]
    }
   ],
   "source": [
    "x_test.info()"
   ]
  },
  {
   "cell_type": "code",
   "execution_count": 170,
   "id": "7b546608",
   "metadata": {},
   "outputs": [
    {
     "data": {
      "text/plain": [
       "<matplotlib.legend.Legend at 0x2b0297fa340>"
      ]
     },
     "execution_count": 170,
     "metadata": {},
     "output_type": "execute_result"
    },
    {
     "data": {
      "image/png": "[encoded data removed]",
      "text/plain": [
       "<Figure size 432x288 with 1 Axes>"
      ]
     },
     "metadata": {
      "needs_background": "light"
     },
     "output_type": "display_data"
    }
   ],
   "source": [
    "obsno=np.arange(0,33,1)\n",
    "fig,ax=plt.subplots()\n",
    "ax.plot(obsno,y_test_series,'o',label='data')\n",
    "ax.plot(obsno,pred_1,'r',label='predicted')\n",
    "ax.legend(loc='best')"
   ]
  },
  {
   "cell_type": "markdown",
   "id": "bb6f6b9c",
   "metadata": {},
   "source": [
    "# SGD"
   ]
  },
  {
   "cell_type": "code",
   "execution_count": null,
   "id": "04e55ebc",
   "metadata": {},
   "outputs": [],
   "source": []
  },
  {
   "cell_type": "code",
   "execution_count": null,
   "id": "c1cbb3c9",
   "metadata": {},
   "outputs": [],
   "source": []
  },
  {
   "cell_type": "code",
   "execution_count": null,
   "id": "a9d3dc24",
   "metadata": {},
   "outputs": [],
   "source": []
  },
  {
   "cell_type": "code",
   "execution_count": null,
   "id": "1cc9b24e",
   "metadata": {},
   "outputs": [],
   "source": []
  },
  {
   "cell_type": "code",
   "execution_count": null,
   "id": "7dcdfa79",
   "metadata": {},
   "outputs": [],
   "source": []
  },
  {
   "cell_type": "code",
   "execution_count": null,
   "id": "ccd73c51",
   "metadata": {},
   "outputs": [],
   "source": []
  },
  {
   "cell_type": "code",
   "execution_count": null,
   "id": "3ce5409c",
   "metadata": {},
   "outputs": [],
   "source": []
  },
  {
   "cell_type": "code",
   "execution_count": null,
   "id": "6af252d6",
   "metadata": {},
   "outputs": [],
   "source": []
  },
  {
   "cell_type": "code",
   "execution_count": null,
   "id": "f78c67cf",
   "metadata": {},
   "outputs": [],
   "source": []
  },
  {
   "cell_type": "code",
   "execution_count": null,
   "id": "9fb4badb",
   "metadata": {},
   "outputs": [],
   "source": []
  },
  {
   "cell_type": "code",
   "execution_count": null,
   "id": "d561ac14",
   "metadata": {},
   "outputs": [],
   "source": []
  },
  {
   "cell_type": "code",
   "execution_count": null,
   "id": "f808d2a2",
   "metadata": {},
   "outputs": [],
   "source": []
  },
  {
   "cell_type": "code",
   "execution_count": null,
   "id": "f5336c46",
   "metadata": {},
   "outputs": [],
   "source": []
  },
  {
   "cell_type": "code",
   "execution_count": null,
   "id": "e2d49f50",
   "metadata": {},
   "outputs": [],
   "source": []
  },
  {
   "cell_type": "code",
   "execution_count": null,
   "id": "f12844b7",
   "metadata": {},
   "outputs": [],
   "source": []
  },
  {
   "cell_type": "code",
   "execution_count": null,
   "id": "575ae1ee",
   "metadata": {},
   "outputs": [],
   "source": []
  },
  {
   "cell_type": "markdown",
   "id": "78f66674",
   "metadata": {},
   "source": [
    "# Decision Tree"
   ]
  },
  {
   "cell_type": "code",
   "execution_count": 171,
   "id": "e43c25ef",
   "metadata": {},
   "outputs": [
    {
     "data": {
      "text/plain": [
       "<seaborn.axisgrid.PairGrid at 0x2b02811ea30>"
      ]
     },
     "execution_count": 171,
     "metadata": {},
     "output_type": "execute_result"
    },
    {
     "data": {
      "image/png": "[encoded data removed]",
      "text/plain": [
       "<Figure size 900x900 with 30 Axes>"
      ]
     },
     "metadata": {
      "needs_background": "light"
     },
     "output_type": "display_data"
    }
   ],
   "source": [
    "sns.pairplot(df)"
   ]
  },
  {
   "cell_type": "code",
   "execution_count": 172,
   "id": "c397c678",
   "metadata": {},
   "outputs": [
    {
     "name": "stdout",
     "output_type": "stream",
     "text": [
      "<class 'pandas.core.frame.DataFrame'>\n",
      "RangeIndex: 161 entries, 0 to 160\n",
      "Data columns (total 5 columns):\n",
      " #   Column        Non-Null Count  Dtype  \n",
      "---  ------        --------------  -----  \n",
      " 0   Price         161 non-null    int64  \n",
      " 1   cpu_core      161 non-null    int64  \n",
      " 2   internal_mem  161 non-null    float64\n",
      " 3   ram           161 non-null    float64\n",
      " 4   Front_Cam     161 non-null    float64\n",
      "dtypes: float64(3), int64(2)\n",
      "memory usage: 6.4 KB\n"
     ]
    }
   ],
   "source": [
    "df.info()"
   ]
  },
  {
   "cell_type": "code",
   "execution_count": 173,
   "id": "5922865a",
   "metadata": {},
   "outputs": [],
   "source": [
    "x=df.iloc[:,[1,2,3,4]]\n",
    "y=df.Price"
   ]
  },
  {
   "cell_type": "code",
   "execution_count": 174,
   "id": "a422289a",
   "metadata": {},
   "outputs": [],
   "source": [
    "from sklearn.model_selection import train_test_split\n",
    "xtrain,xtest,ytrain,ytest= train_test_split(x,y, test_size=0.2, random_state=0)"
   ]
  },
  {
   "cell_type": "code",
   "execution_count": 175,
   "id": "0550c353",
   "metadata": {},
   "outputs": [
    {
     "data": {
      "text/plain": [
       "DecisionTreeRegressor()"
      ]
     },
     "execution_count": 175,
     "metadata": {},
     "output_type": "execute_result"
    }
   ],
   "source": [
    "from sklearn.tree import DecisionTreeRegressor\n",
    "regr=DecisionTreeRegressor()\n",
    "regr.fit(xtrain,ytrain)"
   ]
  },
  {
   "cell_type": "code",
   "execution_count": 176,
   "id": "556540f2",
   "metadata": {},
   "outputs": [],
   "source": [
    "yest_train=regr.predict(xtrain)"
   ]
  },
  {
   "cell_type": "code",
   "execution_count": 177,
   "id": "2603423c",
   "metadata": {},
   "outputs": [
    {
     "data": {
      "text/plain": [
       "[Text(0.43585526315789475, 0.9444444444444444, 'X[2] <= 1.0\\nsquared_error = 615734.669\\nsamples = 128\\nvalue = 2229.898'),\n",
       " Text(0.14473684210526316, 0.8333333333333334, 'X[0] <= 0.5\\nsquared_error = 212841.788\\nsamples = 53\\nvalue = 1504.283'),\n",
       " Text(0.11842105263157894, 0.7222222222222222, 'squared_error = 7068.25\\nsamples = 10\\nvalue = 710.5'),\n",
       " Text(0.17105263157894737, 0.7222222222222222, 'X[0] <= 5.0\\nsquared_error = 80085.777\\nsamples = 43\\nvalue = 1688.884'),\n",
       " Text(0.10526315789473684, 0.6111111111111112, 'X[0] <= 2.5\\nsquared_error = 53485.938\\nsamples = 39\\nvalue = 1633.436'),\n",
       " Text(0.05263157894736842, 0.5, 'X[1] <= 2.0\\nsquared_error = 33168.41\\nsamples = 10\\nvalue = 1425.7'),\n",
       " Text(0.02631578947368421, 0.3888888888888889, 'squared_error = 0.0\\nsamples = 1\\nvalue = 1522.0'),\n",
       " Text(0.07894736842105263, 0.3888888888888889, 'squared_error = 35708.889\\nsamples = 9\\nvalue = 1415.0'),\n",
       " Text(0.15789473684210525, 0.5, 'X[1] <= 2.0\\nsquared_error = 40479.926\\nsamples = 29\\nvalue = 1705.069'),\n",
       " Text(0.13157894736842105, 0.3888888888888889, 'squared_error = 0.0\\nsamples = 2\\nvalue = 1357.0'),\n",
       " Text(0.18421052631578946, 0.3888888888888889, 'X[3] <= 0.45\\nsquared_error = 33839.46\\nsamples = 27\\nvalue = 1730.852'),\n",
       " Text(0.13157894736842105, 0.2777777777777778, 'X[1] <= 10.0\\nsquared_error = 16267.121\\nsamples = 16\\nvalue = 1691.438'),\n",
       " Text(0.10526315789473684, 0.16666666666666666, 'squared_error = 19011.521\\nsamples = 12\\nvalue = 1674.25'),\n",
       " Text(0.15789473684210525, 0.16666666666666666, 'squared_error = 4489.0\\nsamples = 4\\nvalue = 1743.0'),\n",
       " Text(0.23684210526315788, 0.2777777777777778, 'X[1] <= 10.0\\nsquared_error = 53852.876\\nsamples = 11\\nvalue = 1788.182'),\n",
       " Text(0.21052631578947367, 0.16666666666666666, 'X[3] <= 4.45\\nsquared_error = 42864.04\\nsamples = 10\\nvalue = 1749.6'),\n",
       " Text(0.18421052631578946, 0.05555555555555555, 'squared_error = 43999.802\\nsamples = 9\\nvalue = 1730.556'),\n",
       " Text(0.23684210526315788, 0.05555555555555555, 'squared_error = 0.0\\nsamples = 1\\nvalue = 1921.0'),\n",
       " Text(0.2631578947368421, 0.16666666666666666, 'squared_error = 0.0\\nsamples = 1\\nvalue = 2174.0'),\n",
       " Text(0.23684210526315788, 0.6111111111111112, 'X[3] <= 0.45\\nsquared_error = 17192.25\\nsamples = 4\\nvalue = 2229.5'),\n",
       " Text(0.21052631578947367, 0.5, 'squared_error = 0.0\\nsamples = 1\\nvalue = 2006.0'),\n",
       " Text(0.2631578947368421, 0.5, 'X[1] <= 10.0\\nsquared_error = 722.0\\nsamples = 3\\nvalue = 2304.0'),\n",
       " Text(0.23684210526315788, 0.3888888888888889, 'squared_error = 0.0\\nsamples = 1\\nvalue = 2266.0'),\n",
       " Text(0.2894736842105263, 0.3888888888888889, 'squared_error = 0.0\\nsamples = 2\\nvalue = 2323.0'),\n",
       " Text(0.7269736842105263, 0.8333333333333334, 'X[2] <= 4.5\\nsquared_error = 265441.849\\nsamples = 75\\nvalue = 2742.667'),\n",
       " Text(0.5592105263157895, 0.7222222222222222, 'X[1] <= 24.0\\nsquared_error = 131160.835\\nsamples = 66\\nvalue = 2610.273'),\n",
       " Text(0.40789473684210525, 0.6111111111111112, 'X[1] <= 10.0\\nsquared_error = 58163.945\\nsamples = 27\\nvalue = 2356.407'),\n",
       " Text(0.3815789473684211, 0.5, 'squared_error = 0.0\\nsamples = 2\\nvalue = 2044.0'),\n",
       " Text(0.4342105263157895, 0.5, 'X[2] <= 2.5\\nsquared_error = 54384.56\\nsamples = 25\\nvalue = 2381.4'),\n",
       " Text(0.34210526315789475, 0.3888888888888889, 'X[3] <= 0.45\\nsquared_error = 63234.45\\nsamples = 20\\nvalue = 2354.5'),\n",
       " Text(0.3157894736842105, 0.2777777777777778, 'squared_error = 0.0\\nsamples = 1\\nvalue = 1942.0'),\n",
       " Text(0.3684210526315789, 0.2777777777777778, 'X[0] <= 5.0\\nsquared_error = 57135.64\\nsamples = 19\\nvalue = 2376.211'),\n",
       " Text(0.3157894736842105, 0.16666666666666666, 'X[3] <= 4.45\\nsquared_error = 40585.107\\nsamples = 11\\nvalue = 2341.273'),\n",
       " Text(0.2894736842105263, 0.05555555555555555, 'squared_error = 40053.61\\nsamples = 10\\nvalue = 2361.7'),\n",
       " Text(0.34210526315789475, 0.05555555555555555, 'squared_error = 0.0\\nsamples = 1\\nvalue = 2137.0'),\n",
       " Text(0.42105263157894735, 0.16666666666666666, 'X[3] <= 4.45\\nsquared_error = 75906.438\\nsamples = 8\\nvalue = 2424.25'),\n",
       " Text(0.39473684210526316, 0.05555555555555555, 'squared_error = 70057.959\\nsamples = 7\\nvalue = 2378.571'),\n",
       " Text(0.4473684210526316, 0.05555555555555555, 'squared_error = 0.0\\nsamples = 1\\nvalue = 2744.0'),\n",
       " Text(0.5263157894736842, 0.3888888888888889, 'X[3] <= 4.45\\nsquared_error = 4512.8\\nsamples = 5\\nvalue = 2489.0'),\n",
       " Text(0.5, 0.2777777777777778, 'X[0] <= 5.0\\nsquared_error = 196.0\\nsamples = 4\\nvalue = 2522.0'),\n",
       " Text(0.47368421052631576, 0.16666666666666666, 'squared_error = 0.0\\nsamples = 2\\nvalue = 2508.0'),\n",
       " Text(0.5263157894736842, 0.16666666666666666, 'squared_error = 0.0\\nsamples = 2\\nvalue = 2536.0'),\n",
       " Text(0.5526315789473685, 0.2777777777777778, 'squared_error = 0.0\\nsamples = 1\\nvalue = 2357.0'),\n",
       " Text(0.7105263157894737, 0.6111111111111112, 'X[0] <= 5.0\\nsquared_error = 106190.487\\nsamples = 39\\nvalue = 2786.026'),\n",
       " Text(0.6578947368421053, 0.5, 'X[3] <= 4.45\\nsquared_error = 79719.689\\nsamples = 15\\nvalue = 2632.667'),\n",
       " Text(0.631578947368421, 0.3888888888888889, 'X[1] <= 48.0\\nsquared_error = 76947.322\\nsamples = 11\\nvalue = 2542.364'),\n",
       " Text(0.6052631578947368, 0.2777777777777778, 'X[2] <= 2.5\\nsquared_error = 73613.61\\nsamples = 10\\nvalue = 2510.7'),\n",
       " Text(0.5789473684210527, 0.16666666666666666, 'squared_error = 0.0\\nsamples = 2\\nvalue = 2409.0'),\n",
       " Text(0.631578947368421, 0.16666666666666666, 'X[3] <= 0.45\\nsquared_error = 88784.859\\nsamples = 8\\nvalue = 2536.125'),\n",
       " Text(0.6052631578947368, 0.05555555555555555, 'squared_error = 0.0\\nsamples = 1\\nvalue = 2466.0'),\n",
       " Text(0.6578947368421053, 0.05555555555555555, 'squared_error = 100665.551\\nsamples = 7\\nvalue = 2546.143'),\n",
       " Text(0.6578947368421053, 0.2777777777777778, 'squared_error = 0.0\\nsamples = 1\\nvalue = 2859.0'),\n",
       " Text(0.6842105263157895, 0.3888888888888889, 'squared_error = 3249.0\\nsamples = 4\\nvalue = 2881.0'),\n",
       " Text(0.7631578947368421, 0.5, 'X[1] <= 48.0\\nsquared_error = 98848.276\\nsamples = 24\\nvalue = 2881.875'),\n",
       " Text(0.7368421052631579, 0.3888888888888889, 'X[3] <= 4.45\\nsquared_error = 99316.15\\nsamples = 21\\nvalue = 2841.571'),\n",
       " Text(0.7105263157894737, 0.2777777777777778, 'X[2] <= 2.5\\nsquared_error = 107304.859\\nsamples = 16\\nvalue = 2878.875'),\n",
       " Text(0.6842105263157895, 0.16666666666666666, 'squared_error = 0.0\\nsamples = 1\\nvalue = 2654.0'),\n",
       " Text(0.7368421052631579, 0.16666666666666666, 'squared_error = 110862.516\\nsamples = 15\\nvalue = 2893.867'),\n",
       " Text(0.7631578947368421, 0.2777777777777778, 'squared_error = 55049.76\\nsamples = 5\\nvalue = 2722.2'),\n",
       " Text(0.7894736842105263, 0.3888888888888889, 'squared_error = 4608.0\\nsamples = 3\\nvalue = 3164.0'),\n",
       " Text(0.8947368421052632, 0.7222222222222222, 'X[0] <= 5.0\\nsquared_error = 179004.247\\nsamples = 9\\nvalue = 3713.556'),\n",
       " Text(0.8421052631578947, 0.6111111111111112, 'X[1] <= 96.0\\nsquared_error = 85598.667\\nsamples = 6\\nvalue = 3507.0'),\n",
       " Text(0.8157894736842105, 0.5, 'squared_error = 0.0\\nsamples = 1\\nvalue = 3055.0'),\n",
       " Text(0.868421052631579, 0.5, 'X[3] <= 4.45\\nsquared_error = 53685.44\\nsamples = 5\\nvalue = 3597.4'),\n",
       " Text(0.8421052631578947, 0.3888888888888889, 'squared_error = 0.0\\nsamples = 2\\nvalue = 3551.0'),\n",
       " Text(0.8947368421052632, 0.3888888888888889, 'squared_error = 87083.556\\nsamples = 3\\nvalue = 3628.333'),\n",
       " Text(0.9473684210526315, 0.6111111111111112, 'X[1] <= 96.0\\nsquared_error = 109824.222\\nsamples = 3\\nvalue = 4126.667'),\n",
       " Text(0.9210526315789473, 0.5, 'squared_error = 0.0\\nsamples = 1\\nvalue = 3658.0'),\n",
       " Text(0.9736842105263158, 0.5, 'squared_error = 0.0\\nsamples = 2\\nvalue = 4361.0')]"
      ]
     },
     "execution_count": 177,
     "metadata": {},
     "output_type": "execute_result"
    },
    {
     "data": {
      "image/png": "[encoded data removed]",
      "text/plain": [
       "<Figure size 432x288 with 1 Axes>"
      ]
     },
     "metadata": {
      "needs_background": "light"
     },
     "output_type": "display_data"
    }
   ],
   "source": [
    "from sklearn import tree\n",
    "tree.plot_tree(regr.fit(xtrain,ytrain))"
   ]
  },
  {
   "cell_type": "code",
   "execution_count": 178,
   "id": "c0a8c736",
   "metadata": {},
   "outputs": [
    {
     "data": {
      "image/png": "[encoded data removed]",
      "text/plain": [
       "<Figure size 432x288 with 1 Axes>"
      ]
     },
     "metadata": {
      "needs_background": "light"
     },
     "output_type": "display_data"
    }
   ],
   "source": [
    "plt.figure()\n",
    "plt.scatter(ytrain,yest_train,s=20,edgecolor='black',c='darkorange',label='pred vs actual_train')\n",
    "plt.xlabel('y train')\n",
    "plt.ylabel('y estimated/pred train')\n",
    "plt.title('decision tree regression train')\n",
    "plt.legend()\n",
    "plt.show()"
   ]
  },
  {
   "cell_type": "code",
   "execution_count": 179,
   "id": "921d6017",
   "metadata": {},
   "outputs": [
    {
     "name": "stdout",
     "output_type": "stream",
     "text": [
      "37937.600341021825\n"
     ]
    }
   ],
   "source": [
    "from sklearn.metrics import mean_squared_error\n",
    "mse_train=mean_squared_error(ytrain,yest_train)\n",
    "print(mse_train)"
   ]
  },
  {
   "cell_type": "code",
   "execution_count": 180,
   "id": "0da34b54",
   "metadata": {},
   "outputs": [],
   "source": [
    "yest_test=regr.predict(xtest)"
   ]
  },
  {
   "cell_type": "code",
   "execution_count": 181,
   "id": "33d2016f",
   "metadata": {},
   "outputs": [],
   "source": [
    "test_residual=ytest-yest_test"
   ]
  },
  {
   "cell_type": "code",
   "execution_count": 182,
   "id": "57153e32",
   "metadata": {},
   "outputs": [
    {
     "name": "stdout",
     "output_type": "stream",
     "text": [
      "37937.600341021825\n"
     ]
    }
   ],
   "source": [
    "from sklearn.metrics import mean_squared_error\n",
    "mse_train=mean_squared_error(ytrain,yest_train)\n",
    "print(mse_train)"
   ]
  },
  {
   "cell_type": "code",
   "execution_count": 183,
   "id": "946c434f",
   "metadata": {},
   "outputs": [],
   "source": [
    "depth=[5,6,7,8,9,10,11]\n",
    "mse_train,mse_test=[],[]\n",
    "for i in depth:\n",
    "    pred=DecisionTreeRegressor(max_depth=i)\n",
    "    pred.fit(xtrain,ytrain)\n",
    "    ytrain_pred=pred.predict(xtrain)\n",
    "    ytest_pred=pred.predict(xtest)\n",
    "    mse_train.append(mean_squared_error(ytrain,ytrain_pred))\n",
    "    mse_test.append(mean_squared_error(ytest,ytest_pred))"
   ]
  },
  {
   "cell_type": "code",
   "execution_count": 184,
   "id": "4ceac7a3",
   "metadata": {},
   "outputs": [
    {
     "data": {
      "image/png": "[encoded data removed]",
      "text/plain": [
       "<Figure size 1008x504 with 1 Axes>"
      ]
     },
     "metadata": {},
     "output_type": "display_data"
    }
   ],
   "source": [
    "sns.set()\n",
    "plt.figure(figsize=(14,7))\n",
    "sns.lineplot(y=mse_train,x=depth,label='mse_train')\n",
    "sns.lineplot(y=mse_test,x=depth,label='mse_test')\n",
    "plt.xticks(ticks=np.arange(4,12,1))\n",
    "plt.show()"
   ]
  },
  {
   "cell_type": "code",
   "execution_count": null,
   "id": "546dcb5d",
   "metadata": {},
   "outputs": [],
   "source": []
  }
 ],
 "metadata": {
  "kernelspec": {
   "display_name": "Python 3 (ipykernel)",
   "language": "python",
   "name": "python3"
  },
  "language_info": {
   "codemirror_mode": {
    "name": "ipython",
    "version": 3
   },
   "file_extension": ".py",
   "mimetype": "text/x-python",
   "name": "python",
   "nbconvert_exporter": "python",
   "pygments_lexer": "ipython3",
   "version": "3.9.12"
  }
 },
 "nbformat": 4,
 "nbformat_minor": 5
}
